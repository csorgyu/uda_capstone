{
  "cells": [
    {
      "cell_type": "markdown",
      "source": [
        "# Automated ML\n",
        "\n",
        "TODO: Import Dependencies. In the cell below, import all the dependencies that you will need to complete the project."
      ],
      "metadata": {}
    },
    {
      "cell_type": "code",
      "source": [
        "import logging\r\n",
        "import os\r\n",
        "import csv\r\n",
        "\r\n",
        "from matplotlib import pyplot as plt\r\n",
        "import numpy as np\r\n",
        "import pandas as pd\r\n",
        "from sklearn import datasets\r\n",
        "import pkg_resources\r\n",
        "\r\n",
        "import azureml.core\r\n",
        "from azureml.core import Workspace, Experiment, Environment, Model\r\n",
        "from azureml.core.experiment import Experiment\r\n",
        "from azureml.core.workspace import Workspace\r\n",
        "from azureml.train.automl import AutoMLConfig\r\n",
        "from azureml.core.dataset import Dataset\r\n",
        "\r\n",
        "from azureml.pipeline.steps import AutoMLStep\r\n",
        "\r\n",
        "from azureml.core.compute import AmlCompute\r\n",
        "from azureml.core.compute import ComputeTarget\r\n",
        "from azureml.core.compute_target import ComputeTargetException\r\n",
        "\r\n",
        "from azureml.automl.runtime.onnx_convert import OnnxConverter\r\n",
        "from azureml.core.model import InferenceConfig\r\n",
        "from azureml.core.webservice import AciWebservice\r\n",
        "\r\n",
        "from azureml.core import Webservice\r\n",
        "# Check core SDK version number\r\n",
        "\r\n",
        "\r\n",
        "import requests\r\n",
        "import json\r\n",
        "print(\"SDK version:\", azureml.core.VERSION)"
      ],
      "outputs": [],
      "execution_count": null,
      "metadata": {
        "gather": {
          "logged": 1622294806410
        },
        "jupyter": {
          "outputs_hidden": false,
          "source_hidden": false
        },
        "nteract": {
          "transient": {
            "deleting": false
          }
        }
      }
    },
    {
      "cell_type": "markdown",
      "source": [
        "## Dataset\n",
        "\n",
        "### Overview\n",
        "TODO: In this markdown cell, give an overview of the dataset you are using. Also mention the task you will be performing.\n",
        "\n",
        "\n",
        "TODO: Get data. In the cell below, write code to access the data you will be using in this project. Remember that the dataset needs to be external."
      ],
      "metadata": {}
    },
    {
      "cell_type": "code",
      "source": [
        "ws = Workspace.from_config()\n",
        "\n",
        "# choose a name for experiment\n",
        "experiment_name = 'EXP_HEART_FAILURE_AML'\n",
        "\n",
        "experiment=Experiment(ws, experiment_name)"
      ],
      "outputs": [],
      "execution_count": 2,
      "metadata": {
        "gather": {
          "logged": 1622289462284
        },
        "jupyter": {
          "outputs_hidden": false,
          "source_hidden": false
        },
        "nteract": {
          "transient": {
            "deleting": false
          }
        }
      }
    },
    {
      "cell_type": "code",
      "source": [
        "# Building CPU cluster\r\n",
        "amlcompute_cluster_name = \"auto-ml\"\r\n",
        "\r\n",
        "# Verify that cluster does not exist already\r\n",
        "try:\r\n",
        "    compute_target = ComputeTarget(workspace=ws, name=amlcompute_cluster_name)\r\n",
        "    print('Found existing cluster, use it.')\r\n",
        "except ComputeTargetException:\r\n",
        "    compute_config = AmlCompute.provisioning_configuration(vm_size='STANDARD_D2_V2',# for GPU, use \"STANDARD_NC6\"\r\n",
        "                                                           #vm_priority = 'lowpriority', # optional\r\n",
        "                                                           min_nodes=4,\r\n",
        "                                                           max_nodes=4)\r\n",
        "    compute_target = ComputeTarget.create(ws, amlcompute_cluster_name, compute_config)\r\n",
        "\r\n",
        "compute_target.wait_for_completion(show_output=True, min_node_count = 1, timeout_in_minutes = 10)"
      ],
      "outputs": [
        {
          "output_type": "stream",
          "name": "stdout",
          "text": [
            "Creating.........\n",
            "SucceededProvisioning operation finished, operation \"Succeeded\"\n",
            "Succeeded........................\n",
            "AmlCompute wait for completion finished\n",
            "\n",
            "Minimum number of nodes requested have been provisioned\n"
          ]
        }
      ],
      "execution_count": 3,
      "metadata": {
        "collapsed": true,
        "jupyter": {
          "source_hidden": false,
          "outputs_hidden": false
        },
        "nteract": {
          "transient": {
            "deleting": false
          }
        },
        "gather": {
          "logged": 1622289647239
        }
      }
    },
    {
      "cell_type": "code",
      "source": [
        "found = False\r\n",
        "key = \"heart-failure\" #\"Heart failure\"\r\n",
        "description_text = \"Heart failure dataset for udacity capstone\"\r\n",
        "\r\n",
        "if key in ws.datasets.keys():\r\n",
        "        found = True\r\n",
        "        print(\"Found dataset: \",key)\r\n",
        "        dataset = ws.datasets[key]\r\n",
        "\r\n",
        "if not found:\r\n",
        "        # Create AML Dataset and register it into Workspace\r\n",
        "        print(\"Registering dataset: \",key)\r\n",
        "        example_data = \"./data/heart_failure_clinical_records_dataset.csv\"\r\n",
        "        dataset = Dataset.Tabular.from_delimited_files(example_data)\r\n",
        "        #Register Dataset in Workspace\r\n",
        "        dataset = dataset.register(workspace=ws,\r\n",
        "                                   name=key,\r\n",
        "                                   description=description_text)\r\n",
        "\r\n",
        "\r\n",
        "df = dataset.to_pandas_dataframe()\r\n",
        "df.describe()"
      ],
      "outputs": [
        {
          "output_type": "stream",
          "name": "stdout",
          "text": [
            "Found dataset:  heart-failure\n"
          ]
        },
        {
          "output_type": "execute_result",
          "execution_count": 4,
          "data": {
            "text/plain": "              age     anaemia  creatinine_phosphokinase    diabetes  \\\ncount  299.000000  299.000000                299.000000  299.000000   \nmean    60.833893    0.431438                581.839465    0.418060   \nstd     11.894809    0.496107                970.287881    0.494067   \nmin     40.000000    0.000000                 23.000000    0.000000   \n25%     51.000000    0.000000                116.500000    0.000000   \n50%     60.000000    0.000000                250.000000    0.000000   \n75%     70.000000    1.000000                582.000000    1.000000   \nmax     95.000000    1.000000               7861.000000    1.000000   \n\n       ejection_fraction  high_blood_pressure      platelets  \\\ncount         299.000000           299.000000     299.000000   \nmean           38.083612             0.351171  263358.029264   \nstd            11.834841             0.478136   97804.236869   \nmin            14.000000             0.000000   25100.000000   \n25%            30.000000             0.000000  212500.000000   \n50%            38.000000             0.000000  262000.000000   \n75%            45.000000             1.000000  303500.000000   \nmax            80.000000             1.000000  850000.000000   \n\n       serum_creatinine  serum_sodium         sex    smoking        time  \\\ncount         299.00000    299.000000  299.000000  299.00000  299.000000   \nmean            1.39388    136.625418    0.648829    0.32107  130.260870   \nstd             1.03451      4.412477    0.478136    0.46767   77.614208   \nmin             0.50000    113.000000    0.000000    0.00000    4.000000   \n25%             0.90000    134.000000    0.000000    0.00000   73.000000   \n50%             1.10000    137.000000    1.000000    0.00000  115.000000   \n75%             1.40000    140.000000    1.000000    1.00000  203.000000   \nmax             9.40000    148.000000    1.000000    1.00000  285.000000   \n\n       DEATH_EVENT  \ncount    299.00000  \nmean       0.32107  \nstd        0.46767  \nmin        0.00000  \n25%        0.00000  \n50%        0.00000  \n75%        1.00000  \nmax        1.00000  ",
            "text/html": "<div>\n<style scoped>\n    .dataframe tbody tr th:only-of-type {\n        vertical-align: middle;\n    }\n\n    .dataframe tbody tr th {\n        vertical-align: top;\n    }\n\n    .dataframe thead th {\n        text-align: right;\n    }\n</style>\n<table border=\"1\" class=\"dataframe\">\n  <thead>\n    <tr style=\"text-align: right;\">\n      <th></th>\n      <th>age</th>\n      <th>anaemia</th>\n      <th>creatinine_phosphokinase</th>\n      <th>diabetes</th>\n      <th>ejection_fraction</th>\n      <th>high_blood_pressure</th>\n      <th>platelets</th>\n      <th>serum_creatinine</th>\n      <th>serum_sodium</th>\n      <th>sex</th>\n      <th>smoking</th>\n      <th>time</th>\n      <th>DEATH_EVENT</th>\n    </tr>\n  </thead>\n  <tbody>\n    <tr>\n      <th>count</th>\n      <td>299.000000</td>\n      <td>299.000000</td>\n      <td>299.000000</td>\n      <td>299.000000</td>\n      <td>299.000000</td>\n      <td>299.000000</td>\n      <td>299.000000</td>\n      <td>299.00000</td>\n      <td>299.000000</td>\n      <td>299.000000</td>\n      <td>299.00000</td>\n      <td>299.000000</td>\n      <td>299.00000</td>\n    </tr>\n    <tr>\n      <th>mean</th>\n      <td>60.833893</td>\n      <td>0.431438</td>\n      <td>581.839465</td>\n      <td>0.418060</td>\n      <td>38.083612</td>\n      <td>0.351171</td>\n      <td>263358.029264</td>\n      <td>1.39388</td>\n      <td>136.625418</td>\n      <td>0.648829</td>\n      <td>0.32107</td>\n      <td>130.260870</td>\n      <td>0.32107</td>\n    </tr>\n    <tr>\n      <th>std</th>\n      <td>11.894809</td>\n      <td>0.496107</td>\n      <td>970.287881</td>\n      <td>0.494067</td>\n      <td>11.834841</td>\n      <td>0.478136</td>\n      <td>97804.236869</td>\n      <td>1.03451</td>\n      <td>4.412477</td>\n      <td>0.478136</td>\n      <td>0.46767</td>\n      <td>77.614208</td>\n      <td>0.46767</td>\n    </tr>\n    <tr>\n      <th>min</th>\n      <td>40.000000</td>\n      <td>0.000000</td>\n      <td>23.000000</td>\n      <td>0.000000</td>\n      <td>14.000000</td>\n      <td>0.000000</td>\n      <td>25100.000000</td>\n      <td>0.50000</td>\n      <td>113.000000</td>\n      <td>0.000000</td>\n      <td>0.00000</td>\n      <td>4.000000</td>\n      <td>0.00000</td>\n    </tr>\n    <tr>\n      <th>25%</th>\n      <td>51.000000</td>\n      <td>0.000000</td>\n      <td>116.500000</td>\n      <td>0.000000</td>\n      <td>30.000000</td>\n      <td>0.000000</td>\n      <td>212500.000000</td>\n      <td>0.90000</td>\n      <td>134.000000</td>\n      <td>0.000000</td>\n      <td>0.00000</td>\n      <td>73.000000</td>\n      <td>0.00000</td>\n    </tr>\n    <tr>\n      <th>50%</th>\n      <td>60.000000</td>\n      <td>0.000000</td>\n      <td>250.000000</td>\n      <td>0.000000</td>\n      <td>38.000000</td>\n      <td>0.000000</td>\n      <td>262000.000000</td>\n      <td>1.10000</td>\n      <td>137.000000</td>\n      <td>1.000000</td>\n      <td>0.00000</td>\n      <td>115.000000</td>\n      <td>0.00000</td>\n    </tr>\n    <tr>\n      <th>75%</th>\n      <td>70.000000</td>\n      <td>1.000000</td>\n      <td>582.000000</td>\n      <td>1.000000</td>\n      <td>45.000000</td>\n      <td>1.000000</td>\n      <td>303500.000000</td>\n      <td>1.40000</td>\n      <td>140.000000</td>\n      <td>1.000000</td>\n      <td>1.00000</td>\n      <td>203.000000</td>\n      <td>1.00000</td>\n    </tr>\n    <tr>\n      <th>max</th>\n      <td>95.000000</td>\n      <td>1.000000</td>\n      <td>7861.000000</td>\n      <td>1.000000</td>\n      <td>80.000000</td>\n      <td>1.000000</td>\n      <td>850000.000000</td>\n      <td>9.40000</td>\n      <td>148.000000</td>\n      <td>1.000000</td>\n      <td>1.00000</td>\n      <td>285.000000</td>\n      <td>1.00000</td>\n    </tr>\n  </tbody>\n</table>\n</div>"
          },
          "metadata": {}
        }
      ],
      "execution_count": 4,
      "metadata": {
        "collapsed": true,
        "jupyter": {
          "source_hidden": false,
          "outputs_hidden": false
        },
        "nteract": {
          "transient": {
            "deleting": false
          }
        },
        "gather": {
          "logged": 1622289843421
        }
      }
    },
    {
      "cell_type": "code",
      "source": [
        "dataset.take(5).to_pandas_dataframe()"
      ],
      "outputs": [
        {
          "output_type": "execute_result",
          "execution_count": 5,
          "data": {
            "text/plain": "    age  anaemia  creatinine_phosphokinase  diabetes  ejection_fraction  \\\n0  75.0        0                       582         0                 20   \n1  55.0        0                      7861         0                 38   \n2  65.0        0                       146         0                 20   \n3  50.0        1                       111         0                 20   \n4  65.0        1                       160         1                 20   \n\n   high_blood_pressure  platelets  serum_creatinine  serum_sodium  sex  \\\n0                    1  265000.00               1.9           130    1   \n1                    0  263358.03               1.1           136    1   \n2                    0  162000.00               1.3           129    1   \n3                    0  210000.00               1.9           137    1   \n4                    0  327000.00               2.7           116    0   \n\n   smoking  time  DEATH_EVENT  \n0        0     4            1  \n1        0     6            1  \n2        1     7            1  \n3        0     7            1  \n4        0     8            1  ",
            "text/html": "<div>\n<style scoped>\n    .dataframe tbody tr th:only-of-type {\n        vertical-align: middle;\n    }\n\n    .dataframe tbody tr th {\n        vertical-align: top;\n    }\n\n    .dataframe thead th {\n        text-align: right;\n    }\n</style>\n<table border=\"1\" class=\"dataframe\">\n  <thead>\n    <tr style=\"text-align: right;\">\n      <th></th>\n      <th>age</th>\n      <th>anaemia</th>\n      <th>creatinine_phosphokinase</th>\n      <th>diabetes</th>\n      <th>ejection_fraction</th>\n      <th>high_blood_pressure</th>\n      <th>platelets</th>\n      <th>serum_creatinine</th>\n      <th>serum_sodium</th>\n      <th>sex</th>\n      <th>smoking</th>\n      <th>time</th>\n      <th>DEATH_EVENT</th>\n    </tr>\n  </thead>\n  <tbody>\n    <tr>\n      <th>0</th>\n      <td>75.0</td>\n      <td>0</td>\n      <td>582</td>\n      <td>0</td>\n      <td>20</td>\n      <td>1</td>\n      <td>265000.00</td>\n      <td>1.9</td>\n      <td>130</td>\n      <td>1</td>\n      <td>0</td>\n      <td>4</td>\n      <td>1</td>\n    </tr>\n    <tr>\n      <th>1</th>\n      <td>55.0</td>\n      <td>0</td>\n      <td>7861</td>\n      <td>0</td>\n      <td>38</td>\n      <td>0</td>\n      <td>263358.03</td>\n      <td>1.1</td>\n      <td>136</td>\n      <td>1</td>\n      <td>0</td>\n      <td>6</td>\n      <td>1</td>\n    </tr>\n    <tr>\n      <th>2</th>\n      <td>65.0</td>\n      <td>0</td>\n      <td>146</td>\n      <td>0</td>\n      <td>20</td>\n      <td>0</td>\n      <td>162000.00</td>\n      <td>1.3</td>\n      <td>129</td>\n      <td>1</td>\n      <td>1</td>\n      <td>7</td>\n      <td>1</td>\n    </tr>\n    <tr>\n      <th>3</th>\n      <td>50.0</td>\n      <td>1</td>\n      <td>111</td>\n      <td>0</td>\n      <td>20</td>\n      <td>0</td>\n      <td>210000.00</td>\n      <td>1.9</td>\n      <td>137</td>\n      <td>1</td>\n      <td>0</td>\n      <td>7</td>\n      <td>1</td>\n    </tr>\n    <tr>\n      <th>4</th>\n      <td>65.0</td>\n      <td>1</td>\n      <td>160</td>\n      <td>1</td>\n      <td>20</td>\n      <td>0</td>\n      <td>327000.00</td>\n      <td>2.7</td>\n      <td>116</td>\n      <td>0</td>\n      <td>0</td>\n      <td>8</td>\n      <td>1</td>\n    </tr>\n  </tbody>\n</table>\n</div>"
          },
          "metadata": {}
        }
      ],
      "execution_count": 5,
      "metadata": {
        "collapsed": true,
        "jupyter": {
          "source_hidden": false,
          "outputs_hidden": false
        },
        "nteract": {
          "transient": {
            "deleting": false
          }
        },
        "gather": {
          "logged": 1622289849158
        }
      }
    },
    {
      "cell_type": "markdown",
      "source": [
        "## AutoML Configuration\n",
        "\n",
        "TODO: Explain why you chose the automl settings and cofiguration you used below."
      ],
      "metadata": {}
    },
    {
      "cell_type": "code",
      "source": [
        "project_folder='./realtime_automl'\n",
        "automl_settings = {\n",
        "    \"experiment_timeout_minutes\": 15,\n",
        "    \"max_concurrent_iterations\": 4,\n",
        "    \"primary_metric\" : 'AUC_weighted'\n",
        "}\n",
        "automl_config = AutoMLConfig(compute_target=compute_target,\n",
        "                             task = \"classification\",\n",
        "                             training_data=dataset,\n",
        "                             label_column_name=\"DEATH_EVENT\",\n",
        "                             path = project_folder,\n",
        "                             enable_early_stopping= True,\n",
        "                             featurization= 'auto',\n",
        "                             debug_log = \"automl_errors.log\",\n",
        "                             model_explainability = True,\n",
        "                             enable_onnx_compatible_models=True,\n",
        "                             **automl_settings\n",
        "                            )"
      ],
      "outputs": [],
      "execution_count": 6,
      "metadata": {
        "gather": {
          "logged": 1622290004197
        },
        "jupyter": {
          "outputs_hidden": false,
          "source_hidden": false
        },
        "nteract": {
          "transient": {
            "deleting": false
          }
        }
      }
    },
    {
      "cell_type": "code",
      "source": [
        "automl_run1 = experiment.submit(automl_config, show_output=True)"
      ],
      "outputs": [
        {
          "output_type": "stream",
          "name": "stdout",
          "text": [
            "Submitting remote run.\n",
            "No run_configuration provided, running on auto-ml with default configuration\n",
            "Running on remote compute: auto-ml\n"
          ]
        },
        {
          "output_type": "display_data",
          "data": {
            "text/plain": "<IPython.core.display.HTML object>",
            "text/html": "<table style=\"width:100%\"><tr><th>Experiment</th><th>Id</th><th>Type</th><th>Status</th><th>Details Page</th><th>Docs Page</th></tr><tr><td>EXP_HEART_FAILURE_AML</td><td>AutoML_03202041-e1a9-4c4a-b446-9912b5836698</td><td>automl</td><td>NotStarted</td><td><a href=\"https://ml.azure.com/runs/AutoML_03202041-e1a9-4c4a-b446-9912b5836698?wsid=/subscriptions/510b94ba-e453-4417-988b-fbdc37b55ca7/resourcegroups/aml-quickstarts-146100/workspaces/quick-starts-ws-146100&amp;tid=660b3398-b80e-49d2-bc5b-ac1dc93b5254\" target=\"_blank\" rel=\"noopener\">Link to Azure Machine Learning studio</a></td><td><a href=\"https://docs.microsoft.com/en-us/python/api/overview/azure/ml/intro?view=azure-ml-py\" target=\"_blank\" rel=\"noopener\">Link to Documentation</a></td></tr></table>"
          },
          "metadata": {}
        },
        {
          "output_type": "stream",
          "name": "stdout",
          "text": [
            "\n",
            "Current status: FeaturesGeneration. Generating features for the dataset.\n",
            "Current status: ModelSelection. Beginning model selection.\n",
            "\n",
            "****************************************************************************************************\n",
            "DATA GUARDRAILS: \n",
            "\n",
            "TYPE:         Cross validation\n",
            "STATUS:       DONE\n",
            "DESCRIPTION:  Each iteration of the trained model was validated through cross-validation.\n",
            "              \n",
            "DETAILS:      \n",
            "+---------------------------------+\n",
            "|Number of folds                  |\n",
            "+=================================+\n",
            "|10                               |\n",
            "+---------------------------------+\n",
            "\n",
            "****************************************************************************************************\n",
            "\n",
            "TYPE:         Class balancing detection\n",
            "STATUS:       PASSED\n",
            "DESCRIPTION:  Your inputs were analyzed, and all classes are balanced in your training data.\n",
            "              Learn more about imbalanced data: https://aka.ms/AutomatedMLImbalancedData\n",
            "\n",
            "****************************************************************************************************\n",
            "\n",
            "TYPE:         Missing feature values imputation\n",
            "STATUS:       PASSED\n",
            "DESCRIPTION:  No feature missing values were detected in the training data.\n",
            "              Learn more about missing value imputation: https://aka.ms/AutomatedMLFeaturization\n",
            "\n",
            "****************************************************************************************************\n",
            "\n",
            "TYPE:         High cardinality feature detection\n",
            "STATUS:       PASSED\n",
            "DESCRIPTION:  Your inputs were analyzed, and no high cardinality features were detected.\n",
            "              Learn more about high cardinality feature handling: https://aka.ms/AutomatedMLFeaturization\n",
            "\n",
            "****************************************************************************************************\n",
            "\n",
            "****************************************************************************************************\n",
            "ITERATION: The iteration being evaluated.\n",
            "PIPELINE: A summary description of the pipeline being evaluated.\n",
            "DURATION: Time taken for the current iteration.\n",
            "METRIC: The result of computing score on the fitted pipeline.\n",
            "BEST: The best observed score thus far.\n",
            "****************************************************************************************************\n",
            "\n",
            " ITERATION   PIPELINE                                       DURATION      METRIC      BEST\n",
            "         1   MaxAbsScaler XGBoostClassifier                 0:00:44       0.8847    0.8847\n",
            "         2   MinMaxScaler RandomForest                      0:00:50       0.8897    0.8897\n",
            "         4   MinMaxScaler RandomForest                      0:00:45       0.8920    0.8920\n",
            "         3   RobustScaler ExtremeRandomTrees                0:01:57       0.8863    0.8920\n",
            "         5   MinMaxScaler RandomForest                      0:00:43       0.8981    0.8981\n",
            "         6   StandardScalerWrapper RandomForest             0:00:45       0.8884    0.8981\n",
            "         7   MinMaxScaler ExtremeRandomTrees                0:00:46       0.8857    0.8981\n",
            "         8   MinMaxScaler ExtremeRandomTrees                0:00:45       0.8724    0.8981\n",
            "         9   SparseNormalizer KNN                           0:00:46       0.7496    0.8981\n",
            "        10   MinMaxScaler ExtremeRandomTrees                0:00:45       0.8651    0.8981\n",
            "        11   RobustScaler ExtremeRandomTrees                0:00:49       0.8793    0.8981\n",
            "        12   StandardScalerWrapper RandomForest             0:00:46       0.8991    0.8991\n",
            "        13   StandardScalerWrapper SGD                      0:00:43       0.8672    0.8991\n",
            "        14   RobustScaler RandomForest                      0:00:48       0.8874    0.8991\n",
            "         0   MaxAbsScaler LightGBM                          0:05:26       0.8841    0.8991\n",
            "        15   StandardScalerWrapper KNN                      0:00:48       0.5203    0.8991\n",
            "        16   MinMaxScaler RandomForest                      0:00:45       0.8782    0.8991\n",
            "        17   MinMaxScaler ExtremeRandomTrees                0:00:43       0.8546    0.8991\n",
            "        18   MaxAbsScaler RandomForest                      0:00:47       0.8775    0.8991\n",
            "        19   StandardScalerWrapper XGBoostClassifier        0:00:49       0.9089    0.9089\n",
            "        20   MaxAbsScaler RandomForest                      0:00:45       0.8930    0.9089\n",
            "        21   MaxAbsScaler ExtremeRandomTrees                0:00:43       0.8837    0.9089\n",
            "        22   MaxAbsScaler ExtremeRandomTrees                0:00:45       0.8705    0.9089\n",
            "        23   MinMaxScaler ExtremeRandomTrees                0:00:46       0.9139    0.9139\n",
            "        24   MaxAbsScaler ExtremeRandomTrees                0:00:48       0.8977    0.9139\n",
            "        25   PCA XGBoostClassifier                          0:00:45       0.4839    0.9139\n",
            "        26   StandardScalerWrapper LightGBM                 0:00:45       0.8678    0.9139\n",
            "        27   RobustScaler LightGBM                          0:00:43       0.9012    0.9139\n",
            "        28   MaxAbsScaler LightGBM                          0:00:43       0.9071    0.9139\n",
            "        29   MinMaxScaler LightGBM                          0:00:43       0.9037    0.9139\n",
            "        30   RobustScaler ExtremeRandomTrees                0:01:00       0.8985    0.9139\n",
            "        31   StandardScalerWrapper SVM                      0:00:47       0.8680    0.9139\n",
            "        32   StandardScalerWrapper XGBoostClassifier        0:00:47       0.9027    0.9139\n",
            "        33   StandardScalerWrapper XGBoostClassifier        0:00:46       0.9044    0.9139\n",
            "        34   StandardScalerWrapper XGBoostClassifier        0:00:44       0.9162    0.9162\n",
            "        35   MinMaxScaler ExtremeRandomTrees                0:00:42       0.7518    0.9162\n",
            "        36   MaxAbsScaler RandomForest                      0:00:47       0.9037    0.9162\n",
            "        37   StandardScalerWrapper LightGBM                 0:00:43       0.9001    0.9162\n",
            "        38   MinMaxScaler ExtremeRandomTrees                0:00:47       0.8814    0.9162\n",
            "        39   StandardScalerWrapper RandomForest             0:00:47       0.9067    0.9162\n",
            "        40   StandardScalerWrapper XGBoostClassifier        0:00:48       0.8985    0.9162\n",
            "        41   StandardScalerWrapper RandomForest             0:00:48       0.9128    0.9162\n",
            "        42   StandardScalerWrapper GradientBoosting         0:00:49       0.9162    0.9162\n",
            "        43   StandardScalerWrapper XGBoostClassifier        0:00:46       0.9076    0.9162\n",
            "        44   MaxAbsScaler GradientBoosting                  0:00:43       0.9031    0.9162\n",
            "        45   StandardScalerWrapper XGBoostClassifier        0:00:48       0.9083    0.9162\n",
            "        46   RobustScaler GradientBoosting                  0:00:48       0.9111    0.9162\n",
            "        47   RobustScaler GradientBoosting                  0:00:46       0.8977    0.9162\n",
            "        48   MinMaxScaler LightGBM                          0:00:45       0.8992    0.9162\n",
            "        49   MaxAbsScaler GradientBoosting                  0:00:40       0.9097    0.9162\n",
            "        50                                                  0:00:13          nan    0.9162\n",
            "        51    VotingEnsemble                                0:01:31       0.9208    0.9208\n"
          ]
        }
      ],
      "execution_count": 7,
      "metadata": {
        "collapsed": true,
        "jupyter": {
          "source_hidden": false,
          "outputs_hidden": false
        },
        "nteract": {
          "transient": {
            "deleting": false
          }
        },
        "gather": {
          "logged": 1622291654789
        }
      }
    },
    {
      "cell_type": "code",
      "source": [
        "rns = experiment.get_runs()\r\n",
        "next(rns)"
      ],
      "outputs": [
        {
          "output_type": "execute_result",
          "execution_count": 10,
          "data": {
            "text/plain": "Run(Experiment: EXP_HEART_FAILURE_AML,\nId: AutoML_03202041-e1a9-4c4a-b446-9912b5836698,\nType: automl,\nStatus: Completed)",
            "text/html": "<table style=\"width:100%\"><tr><th>Experiment</th><th>Id</th><th>Type</th><th>Status</th><th>Details Page</th><th>Docs Page</th></tr><tr><td>EXP_HEART_FAILURE_AML</td><td>AutoML_03202041-e1a9-4c4a-b446-9912b5836698</td><td>automl</td><td>Completed</td><td><a href=\"https://ml.azure.com/runs/AutoML_03202041-e1a9-4c4a-b446-9912b5836698?wsid=/subscriptions/510b94ba-e453-4417-988b-fbdc37b55ca7/resourcegroups/aml-quickstarts-146100/workspaces/quick-starts-ws-146100&amp;tid=660b3398-b80e-49d2-bc5b-ac1dc93b5254\" target=\"_blank\" rel=\"noopener\">Link to Azure Machine Learning studio</a></td><td><a href=\"https://docs.microsoft.com/en-us/python/api/overview/azure/ml/intro?view=azure-ml-py\" target=\"_blank\" rel=\"noopener\">Link to Documentation</a></td></tr></table>"
          },
          "metadata": {}
        }
      ],
      "execution_count": 10,
      "metadata": {
        "collapsed": true,
        "jupyter": {
          "source_hidden": false,
          "outputs_hidden": false
        },
        "nteract": {
          "transient": {
            "deleting": false
          }
        },
        "gather": {
          "logged": 1622292932967
        }
      }
    },
    {
      "cell_type": "markdown",
      "source": [
        "## Run Details\n",
        "\n",
        "OPTIONAL: Write about the different models trained and their performance. Why do you think some models did better than others?\n",
        "\n",
        "TODO: In the cell below, use the `RunDetails` widget to show the different experiments."
      ],
      "metadata": {}
    },
    {
      "cell_type": "code",
      "source": [
        "from azureml.widgets import RunDetails\r\n",
        "widget1 = RunDetails(automl_run1)\r\n",
        "widget1.show()"
      ],
      "outputs": [
        {
          "output_type": "display_data",
          "data": {
            "text/plain": "_AutoMLWidget(widget_settings={'childWidgetDisplay': 'popup', 'send_telemetry': False, 'log_level': 'INFO', 's…",
            "application/vnd.jupyter.widget-view+json": {
              "version_major": 2,
              "version_minor": 0,
              "model_id": "7c9f8b73500b4d779b55ba38b2aed5de"
            }
          },
          "metadata": {}
        },
        {
          "output_type": "display_data",
          "data": {
            "application/aml.mini.widget.v1": "{\"status\": \"Completed\", \"workbench_run_details_uri\": \"https://ml.azure.com/runs/AutoML_03202041-e1a9-4c4a-b446-9912b5836698?wsid=/subscriptions/510b94ba-e453-4417-988b-fbdc37b55ca7/resourcegroups/aml-quickstarts-146100/workspaces/quick-starts-ws-146100&tid=660b3398-b80e-49d2-bc5b-ac1dc93b5254\", \"run_id\": \"AutoML_03202041-e1a9-4c4a-b446-9912b5836698\", \"run_properties\": {\"run_id\": \"AutoML_03202041-e1a9-4c4a-b446-9912b5836698\", \"created_utc\": \"2021-05-29T12:09:51.489833Z\", \"properties\": {\"num_iterations\": \"1000\", \"training_type\": \"TrainFull\", \"acquisition_function\": \"EI\", \"primary_metric\": \"AUC_weighted\", \"train_split\": \"0\", \"acquisition_parameter\": \"0\", \"num_cross_validation\": null, \"target\": \"auto-ml\", \"AMLSettingsJsonString\": \"{\\\"path\\\":null,\\\"name\\\":\\\"EXP_HEART_FAILURE_AML\\\",\\\"subscription_id\\\":\\\"510b94ba-e453-4417-988b-fbdc37b55ca7\\\",\\\"resource_group\\\":\\\"aml-quickstarts-146100\\\",\\\"workspace_name\\\":\\\"quick-starts-ws-146100\\\",\\\"region\\\":\\\"southcentralus\\\",\\\"compute_target\\\":\\\"auto-ml\\\",\\\"spark_service\\\":null,\\\"azure_service\\\":\\\"remote\\\",\\\"many_models\\\":false,\\\"pipeline_fetch_max_batch_size\\\":1,\\\"enable_batch_run\\\":false,\\\"enable_run_restructure\\\":false,\\\"start_auxiliary_runs_before_parent_complete\\\":false,\\\"enable_code_generation\\\":false,\\\"iterations\\\":1000,\\\"primary_metric\\\":\\\"AUC_weighted\\\",\\\"task_type\\\":\\\"classification\\\",\\\"data_script\\\":null,\\\"test_size\\\":0.0,\\\"validation_size\\\":0.0,\\\"n_cross_validations\\\":null,\\\"y_min\\\":null,\\\"y_max\\\":null,\\\"num_classes\\\":null,\\\"featurization\\\":\\\"auto\\\",\\\"_ignore_package_version_incompatibilities\\\":false,\\\"is_timeseries\\\":false,\\\"max_cores_per_iteration\\\":1,\\\"max_concurrent_iterations\\\":4,\\\"iteration_timeout_minutes\\\":null,\\\"mem_in_mb\\\":null,\\\"enforce_time_on_windows\\\":false,\\\"experiment_timeout_minutes\\\":15,\\\"experiment_exit_score\\\":null,\\\"whitelist_models\\\":null,\\\"blacklist_algos\\\":[\\\"TensorFlowLinearClassifier\\\",\\\"TensorFlowDNN\\\"],\\\"supported_models\\\":[\\\"TensorFlowLinearClassifier\\\",\\\"DecisionTree\\\",\\\"XGBoostClassifier\\\",\\\"AveragedPerceptronClassifier\\\",\\\"ExtremeRandomTrees\\\",\\\"GradientBoosting\\\",\\\"LightGBM\\\",\\\"BernoulliNaiveBayes\\\",\\\"MultinomialNaiveBayes\\\",\\\"SVM\\\",\\\"SGD\\\",\\\"LogisticRegression\\\",\\\"RandomForest\\\",\\\"KNN\\\",\\\"TensorFlowDNN\\\",\\\"LinearSVM\\\"],\\\"private_models\\\":[],\\\"auto_blacklist\\\":true,\\\"blacklist_samples_reached\\\":false,\\\"exclude_nan_labels\\\":true,\\\"verbosity\\\":20,\\\"_debug_log\\\":\\\"azureml_automl.log\\\",\\\"show_warnings\\\":false,\\\"model_explainability\\\":true,\\\"service_url\\\":null,\\\"sdk_url\\\":null,\\\"sdk_packages\\\":null,\\\"enable_onnx_compatible_models\\\":true,\\\"enable_split_onnx_featurizer_estimator_models\\\":false,\\\"vm_type\\\":\\\"STANDARD_D2_V2\\\",\\\"telemetry_verbosity\\\":20,\\\"send_telemetry\\\":true,\\\"enable_dnn\\\":false,\\\"scenario\\\":\\\"SDK-1.13.0\\\",\\\"environment_label\\\":null,\\\"save_mlflow\\\":false,\\\"force_text_dnn\\\":false,\\\"enable_feature_sweeping\\\":false,\\\"enable_early_stopping\\\":true,\\\"early_stopping_n_iters\\\":10,\\\"metrics\\\":null,\\\"enable_metric_confidence\\\":false,\\\"enable_ensembling\\\":true,\\\"enable_stack_ensembling\\\":false,\\\"ensemble_iterations\\\":15,\\\"enable_tf\\\":false,\\\"enable_subsampling\\\":null,\\\"subsample_seed\\\":null,\\\"enable_nimbusml\\\":false,\\\"enable_streaming\\\":false,\\\"force_streaming\\\":false,\\\"track_child_runs\\\":true,\\\"allowed_private_models\\\":[],\\\"label_column_name\\\":\\\"DEATH_EVENT\\\",\\\"weight_column_name\\\":null,\\\"cv_split_column_names\\\":null,\\\"enable_local_managed\\\":false,\\\"_local_managed_run_id\\\":null,\\\"cost_mode\\\":1,\\\"lag_length\\\":0,\\\"metric_operation\\\":\\\"maximize\\\",\\\"preprocess\\\":true}\", \"DataPrepJsonString\": \"{\\\\\\\"training_data\\\\\\\": {\\\\\\\"datasetId\\\\\\\": \\\\\\\"845697cc-baf7-43ec-8078-32ef40633ffd\\\\\\\"}, \\\\\\\"datasets\\\\\\\": 0}\", \"EnableSubsampling\": null, \"runTemplate\": \"AutoML\", \"azureml.runsource\": \"automl\", \"display_task_type\": \"classification\", \"dependencies_versions\": \"{\\\"azureml-widgets\\\": \\\"1.28.0\\\", \\\"azureml-train\\\": \\\"1.28.0\\\", \\\"azureml-train-restclients-hyperdrive\\\": \\\"1.28.0\\\", \\\"azureml-train-core\\\": \\\"1.28.0\\\", \\\"azureml-train-automl\\\": \\\"1.28.0\\\", \\\"azureml-train-automl-runtime\\\": \\\"1.28.0\\\", \\\"azureml-train-automl-client\\\": \\\"1.28.0\\\", \\\"azureml-tensorboard\\\": \\\"1.28.0\\\", \\\"azureml-telemetry\\\": \\\"1.28.0\\\", \\\"azureml-sdk\\\": \\\"1.28.0\\\", \\\"azureml-samples\\\": \\\"0+unknown\\\", \\\"azureml-pipeline\\\": \\\"1.28.0\\\", \\\"azureml-pipeline-steps\\\": \\\"1.28.0\\\", \\\"azureml-pipeline-core\\\": \\\"1.28.0\\\", \\\"azureml-opendatasets\\\": \\\"1.28.0\\\", \\\"azureml-model-management-sdk\\\": \\\"1.0.1b6.post1\\\", \\\"azureml-mlflow\\\": \\\"1.28.0\\\", \\\"azureml-interpret\\\": \\\"1.28.0\\\", \\\"azureml-explain-model\\\": \\\"1.28.0\\\", \\\"azureml-defaults\\\": \\\"1.28.0\\\", \\\"azureml-dataset-runtime\\\": \\\"1.28.0\\\", \\\"azureml-dataprep\\\": \\\"2.15.0\\\", \\\"azureml-dataprep-rslex\\\": \\\"1.13.0\\\", \\\"azureml-dataprep-native\\\": \\\"33.0.0\\\", \\\"azureml-datadrift\\\": \\\"1.28.0\\\", \\\"azureml-core\\\": \\\"1.28.0\\\", \\\"azureml-contrib-services\\\": \\\"1.28.0\\\", \\\"azureml-contrib-server\\\": \\\"1.28.0\\\", \\\"azureml-contrib-reinforcementlearning\\\": \\\"1.28.0\\\", \\\"azureml-contrib-pipeline-steps\\\": \\\"1.28.0\\\", \\\"azureml-contrib-notebook\\\": \\\"1.28.0\\\", \\\"azureml-contrib-gbdt\\\": \\\"1.28.0\\\", \\\"azureml-contrib-fairness\\\": \\\"1.28.0\\\", \\\"azureml-contrib-dataset\\\": \\\"1.28.0\\\", \\\"azureml-cli-common\\\": \\\"1.28.0\\\", \\\"azureml-automl-runtime\\\": \\\"1.28.0.post2\\\", \\\"azureml-automl-dnn-nlp\\\": \\\"1.28.0\\\", \\\"azureml-automl-core\\\": \\\"1.28.0\\\", \\\"azureml-accel-models\\\": \\\"1.28.0\\\"}\", \"_aml_system_scenario_identification\": \"Remote.Parent\", \"ClientType\": \"SDK\", \"environment_cpu_name\": \"AzureML-AutoML\", \"environment_cpu_label\": \"prod\", \"environment_gpu_name\": \"AzureML-AutoML-GPU\", \"environment_gpu_label\": \"prod\", \"root_attribution\": \"automl\", \"attribution\": \"AutoML\", \"Orchestrator\": \"AutoML\", \"CancelUri\": \"https://southcentralus.api.azureml.ms/jasmine/v1.0/subscriptions/510b94ba-e453-4417-988b-fbdc37b55ca7/resourceGroups/aml-quickstarts-146100/providers/Microsoft.MachineLearningServices/workspaces/quick-starts-ws-146100/experimentids/d86de243-0f69-4664-b0ec-84f4e8c6882f/cancel/AutoML_03202041-e1a9-4c4a-b446-9912b5836698\", \"ClientSdkVersion\": \"1.28.0\", \"snapshotId\": \"00000000-0000-0000-0000-000000000000\", \"SetupRunId\": \"AutoML_03202041-e1a9-4c4a-b446-9912b5836698_setup\", \"SetupRunContainerId\": \"dcid.AutoML_03202041-e1a9-4c4a-b446-9912b5836698_setup\", \"FeaturizationRunJsonPath\": \"featurizer_container.json\", \"FeaturizationRunId\": \"AutoML_03202041-e1a9-4c4a-b446-9912b5836698_featurize\", \"ProblemInfoJsonString\": \"{\\\"dataset_num_categorical\\\": 0, \\\"is_sparse\\\": false, \\\"subsampling\\\": false, \\\"has_extra_col\\\": true, \\\"dataset_classes\\\": 2, \\\"dataset_features\\\": 12, \\\"dataset_samples\\\": 299, \\\"single_frequency_class_detected\\\": false}\", \"ModelExplainRunId\": \"AutoML_03202041-e1a9-4c4a-b446-9912b5836698_ModelExplain\"}, \"tags\": {\"model_explain_run\": \"best_run\", \"_aml_system_azureml.automlComponent\": \"AutoML\", \"pipeline_id\": \"\", \"score\": \"\", \"predicted_cost\": \"\", \"fit_time\": \"\", \"training_percent\": \"\", \"iteration\": \"\", \"run_preprocessor\": \"\", \"run_algorithm\": \"\", \"dynamic_whitelisting_iterations\": \"<25>;<30>;<35>;<40>;<45>;<50>;\", \"automl_best_child_run_id\": \"AutoML_03202041-e1a9-4c4a-b446-9912b5836698_51\", \"model_explain_best_run_child_id\": \"AutoML_03202041-e1a9-4c4a-b446-9912b5836698_51\"}, \"end_time_utc\": \"2021-05-29T12:34:02.501548Z\", \"status\": \"Completed\", \"log_files\": {}, \"log_groups\": [], \"run_duration\": \"0:24:11\", \"run_number\": \"1622290191\", \"run_queued_details\": {\"status\": \"Completed\", \"details\": null}}, \"child_runs\": [{\"run_id\": \"AutoML_03202041-e1a9-4c4a-b446-9912b5836698_1\", \"run_number\": 1622290686, \"metric\": null, \"status\": \"Completed\", \"run_type\": \"azureml.scriptrun\", \"training_percent\": \"100\", \"start_time\": \"2021-05-29T12:18:14.470689Z\", \"end_time\": \"2021-05-29T12:18:58.454812Z\", \"created_time\": \"2021-05-29T12:18:06.883091Z\", \"created_time_dt\": \"2021-05-29T12:18:06.883091Z\", \"duration\": \"0:00:51\", \"iteration\": \"1\", \"goal\": \"AUC_weighted_max\", \"run_name\": \"MaxAbsScaler, XGBoostClassifier\", \"run_properties\": \"copy=True\", \"primary_metric\": 0.88473694, \"best_metric\": 0.88473694}, {\"run_id\": \"AutoML_03202041-e1a9-4c4a-b446-9912b5836698_2\", \"run_number\": 1622290687, \"metric\": null, \"status\": \"Completed\", \"run_type\": \"azureml.scriptrun\", \"training_percent\": \"100\", \"start_time\": \"2021-05-29T12:18:17.801179Z\", \"end_time\": \"2021-05-29T12:19:08.284492Z\", \"created_time\": \"2021-05-29T12:18:06.883385Z\", \"created_time_dt\": \"2021-05-29T12:18:06.883385Z\", \"duration\": \"0:01:01\", \"iteration\": \"2\", \"goal\": \"AUC_weighted_max\", \"run_name\": \"MinMaxScaler, RandomForest\", \"run_properties\": \"copy=True, feature_range=(0, 1\", \"primary_metric\": 0.88970641, \"best_metric\": 0.88970641}, {\"run_id\": \"AutoML_03202041-e1a9-4c4a-b446-9912b5836698_4\", \"run_number\": 1622290739, \"metric\": null, \"status\": \"Completed\", \"run_type\": \"azureml.scriptrun\", \"training_percent\": \"100\", \"start_time\": \"2021-05-29T12:19:11.47953Z\", \"end_time\": \"2021-05-29T12:19:56.934679Z\", \"created_time\": \"2021-05-29T12:18:59.653401Z\", \"created_time_dt\": \"2021-05-29T12:18:59.653401Z\", \"duration\": \"0:00:57\", \"iteration\": \"4\", \"goal\": \"AUC_weighted_max\", \"run_name\": \"MinMaxScaler, RandomForest\", \"run_properties\": \"copy=True, feature_range=(0, 1\", \"primary_metric\": 0.89202234, \"best_metric\": 0.89202234}, {\"run_id\": \"AutoML_03202041-e1a9-4c4a-b446-9912b5836698_5\", \"run_number\": 1622290750, \"metric\": null, \"status\": \"Completed\", \"run_type\": \"azureml.scriptrun\", \"training_percent\": \"100\", \"start_time\": \"2021-05-29T12:19:25.376113Z\", \"end_time\": \"2021-05-29T12:20:08.577427Z\", \"created_time\": \"2021-05-29T12:19:10.915434Z\", \"created_time_dt\": \"2021-05-29T12:19:10.915434Z\", \"duration\": \"0:00:57\", \"iteration\": \"5\", \"goal\": \"AUC_weighted_max\", \"run_name\": \"MinMaxScaler, RandomForest\", \"run_properties\": \"copy=True, feature_range=(0, 1\", \"primary_metric\": 0.89806685, \"best_metric\": 0.89806685}, {\"run_id\": \"AutoML_03202041-e1a9-4c4a-b446-9912b5836698_6\", \"run_number\": 1622290799, \"metric\": null, \"status\": \"Completed\", \"run_type\": \"azureml.scriptrun\", \"training_percent\": \"100\", \"start_time\": \"2021-05-29T12:20:11.256481Z\", \"end_time\": \"2021-05-29T12:20:56.643698Z\", \"created_time\": \"2021-05-29T12:19:59.688883Z\", \"created_time_dt\": \"2021-05-29T12:19:59.688883Z\", \"duration\": \"0:00:56\", \"iteration\": \"6\", \"goal\": \"AUC_weighted_max\", \"run_name\": \"StandardScalerWrapper, RandomForest\", \"run_properties\": \"\\n    copy=True,\\n    with_mean=True,\\n    with_std=False\\n\", \"primary_metric\": 0.8883837, \"best_metric\": 0.89806685}, {\"run_id\": \"AutoML_03202041-e1a9-4c4a-b446-9912b5836698_7\", \"run_number\": 1622290811, \"metric\": null, \"status\": \"Completed\", \"run_type\": \"azureml.scriptrun\", \"training_percent\": \"100\", \"start_time\": \"2021-05-29T12:20:25.1445Z\", \"end_time\": \"2021-05-29T12:21:11.297873Z\", \"created_time\": \"2021-05-29T12:20:11.132372Z\", \"created_time_dt\": \"2021-05-29T12:20:11.132372Z\", \"duration\": \"0:01:00\", \"iteration\": \"7\", \"goal\": \"AUC_weighted_max\", \"run_name\": \"MinMaxScaler, ExtremeRandomTrees\", \"run_properties\": \"copy=True, feature_range=(0, 1\", \"primary_metric\": 0.88574421, \"best_metric\": 0.89806685}, {\"run_id\": \"AutoML_03202041-e1a9-4c4a-b446-9912b5836698_8\", \"run_number\": 1622290818, \"metric\": null, \"status\": \"Completed\", \"run_type\": \"azureml.scriptrun\", \"training_percent\": \"100\", \"start_time\": \"2021-05-29T12:20:30.756637Z\", \"end_time\": \"2021-05-29T12:21:16.12979Z\", \"created_time\": \"2021-05-29T12:20:18.867767Z\", \"created_time_dt\": \"2021-05-29T12:20:18.867767Z\", \"duration\": \"0:00:57\", \"iteration\": \"8\", \"goal\": \"AUC_weighted_max\", \"run_name\": \"MinMaxScaler, ExtremeRandomTrees\", \"run_properties\": \"copy=True, feature_range=(0, 1\", \"primary_metric\": 0.87235176, \"best_metric\": 0.89806685}, {\"run_id\": \"AutoML_03202041-e1a9-4c4a-b446-9912b5836698_9\", \"run_number\": 1622290859, \"metric\": null, \"status\": \"Completed\", \"run_type\": \"azureml.scriptrun\", \"training_percent\": \"100\", \"start_time\": \"2021-05-29T12:21:14.069754Z\", \"end_time\": \"2021-05-29T12:22:00.23717Z\", \"created_time\": \"2021-05-29T12:20:59.606127Z\", \"created_time_dt\": \"2021-05-29T12:20:59.606127Z\", \"duration\": \"0:01:00\", \"iteration\": \"9\", \"goal\": \"AUC_weighted_max\", \"run_name\": \"SparseNormalizer, KNN\", \"run_properties\": \"copy=True, norm='l2'\", \"primary_metric\": 0.7496161, \"best_metric\": 0.89806685}, {\"run_id\": \"AutoML_03202041-e1a9-4c4a-b446-9912b5836698_10\", \"run_number\": 1622290873, \"metric\": null, \"status\": \"Completed\", \"run_type\": \"azureml.scriptrun\", \"training_percent\": \"100\", \"start_time\": \"2021-05-29T12:21:23.852401Z\", \"end_time\": \"2021-05-29T12:22:08.564515Z\", \"created_time\": \"2021-05-29T12:21:13.848123Z\", \"created_time_dt\": \"2021-05-29T12:21:13.848123Z\", \"duration\": \"0:00:54\", \"iteration\": \"10\", \"goal\": \"AUC_weighted_max\", \"run_name\": \"MinMaxScaler, ExtremeRandomTrees\", \"run_properties\": \"copy=True, feature_range=(0, 1\", \"primary_metric\": 0.86509964, \"best_metric\": 0.89806685}, {\"run_id\": \"AutoML_03202041-e1a9-4c4a-b446-9912b5836698_11\", \"run_number\": 1622290878, \"metric\": null, \"status\": \"Completed\", \"run_type\": \"azureml.scriptrun\", \"training_percent\": \"100\", \"start_time\": \"2021-05-29T12:21:32.915674Z\", \"end_time\": \"2021-05-29T12:22:21.952771Z\", \"created_time\": \"2021-05-29T12:21:18.682499Z\", \"created_time_dt\": \"2021-05-29T12:21:18.682499Z\", \"duration\": \"0:01:03\", \"iteration\": \"11\", \"goal\": \"AUC_weighted_max\", \"run_name\": \"RobustScaler, ExtremeRandomTrees\", \"run_properties\": \"copy=True, quantile_range=[10, 90], with_centering=True,\\n             with_scaling=False\", \"primary_metric\": 0.87927592, \"best_metric\": 0.89806685}, {\"run_id\": \"AutoML_03202041-e1a9-4c4a-b446-9912b5836698_12\", \"run_number\": 1622290923, \"metric\": null, \"status\": \"Completed\", \"run_type\": \"azureml.scriptrun\", \"training_percent\": \"100\", \"start_time\": \"2021-05-29T12:22:12.812042Z\", \"end_time\": \"2021-05-29T12:22:58.986151Z\", \"created_time\": \"2021-05-29T12:22:03.151013Z\", \"created_time_dt\": \"2021-05-29T12:22:03.151013Z\", \"duration\": \"0:00:55\", \"iteration\": \"12\", \"goal\": \"AUC_weighted_max\", \"run_name\": \"StandardScalerWrapper, RandomForest\", \"run_properties\": \"\\n    copy=True,\\n    with_mean=True,\\n    with_std=False\\n\", \"primary_metric\": 0.89907742, \"best_metric\": 0.89907742}, {\"run_id\": \"AutoML_03202041-e1a9-4c4a-b446-9912b5836698_13\", \"run_number\": 1622290931, \"metric\": null, \"status\": \"Completed\", \"run_type\": \"azureml.scriptrun\", \"training_percent\": \"100\", \"start_time\": \"2021-05-29T12:22:25.063296Z\", \"end_time\": \"2021-05-29T12:23:08.344629Z\", \"created_time\": \"2021-05-29T12:22:11.058767Z\", \"created_time_dt\": \"2021-05-29T12:22:11.058767Z\", \"duration\": \"0:00:57\", \"iteration\": \"13\", \"goal\": \"AUC_weighted_max\", \"run_name\": \"StandardScalerWrapper, SGD\", \"run_properties\": \"\\n    copy=True,\\n    with_mean=True,\\n    with_std=True\\n\", \"primary_metric\": 0.86720121, \"best_metric\": 0.89907742}, {\"run_id\": \"AutoML_03202041-e1a9-4c4a-b446-9912b5836698_14\", \"run_number\": 1622290944, \"metric\": null, \"status\": \"Completed\", \"run_type\": \"azureml.scriptrun\", \"training_percent\": \"100\", \"start_time\": \"2021-05-29T12:22:35.06747Z\", \"end_time\": \"2021-05-29T12:23:22.658615Z\", \"created_time\": \"2021-05-29T12:22:24.779513Z\", \"created_time_dt\": \"2021-05-29T12:22:24.779513Z\", \"duration\": \"0:00:57\", \"iteration\": \"14\", \"goal\": \"AUC_weighted_max\", \"run_name\": \"RobustScaler, RandomForest\", \"run_properties\": \"copy=True, quantile_range=[10, 90], with_centering=True,\\n             with_scaling=False\", \"primary_metric\": 0.88744236, \"best_metric\": 0.89907742}, {\"run_id\": \"AutoML_03202041-e1a9-4c4a-b446-9912b5836698_15\", \"run_number\": 1622290981, \"metric\": null, \"status\": \"Completed\", \"run_type\": \"azureml.scriptrun\", \"training_percent\": \"100\", \"start_time\": \"2021-05-29T12:23:13.816249Z\", \"end_time\": \"2021-05-29T12:24:02.193904Z\", \"created_time\": \"2021-05-29T12:23:01.786231Z\", \"created_time_dt\": \"2021-05-29T12:23:01.786231Z\", \"duration\": \"0:01:00\", \"iteration\": \"15\", \"goal\": \"AUC_weighted_max\", \"run_name\": \"StandardScalerWrapper, KNN\", \"run_properties\": \"\\n    copy=True,\\n    with_mean=True,\\n    with_std=False\\n\", \"primary_metric\": 0.52030533, \"best_metric\": 0.89907742}, {\"run_id\": \"AutoML_03202041-e1a9-4c4a-b446-9912b5836698_16\", \"run_number\": 1622290991, \"metric\": null, \"status\": \"Completed\", \"run_type\": \"azureml.scriptrun\", \"training_percent\": \"100\", \"start_time\": \"2021-05-29T12:23:22.858786Z\", \"end_time\": \"2021-05-29T12:24:08.302287Z\", \"created_time\": \"2021-05-29T12:23:11.021585Z\", \"created_time_dt\": \"2021-05-29T12:23:11.021585Z\", \"duration\": \"0:00:57\", \"iteration\": \"16\", \"goal\": \"AUC_weighted_max\", \"run_name\": \"MinMaxScaler, RandomForest\", \"run_properties\": \"copy=True, feature_range=(0, 1\", \"primary_metric\": 0.87819596, \"best_metric\": 0.89907742}, {\"run_id\": \"AutoML_03202041-e1a9-4c4a-b446-9912b5836698_17\", \"run_number\": 1622291005, \"metric\": null, \"status\": \"Completed\", \"run_type\": \"azureml.scriptrun\", \"training_percent\": \"100\", \"start_time\": \"2021-05-29T12:23:38.070764Z\", \"end_time\": \"2021-05-29T12:24:20.812052Z\", \"created_time\": \"2021-05-29T12:23:25.319018Z\", \"created_time_dt\": \"2021-05-29T12:23:25.319018Z\", \"duration\": \"0:00:55\", \"iteration\": \"17\", \"goal\": \"AUC_weighted_max\", \"run_name\": \"MinMaxScaler, ExtremeRandomTrees\", \"run_properties\": \"copy=True, feature_range=(0, 1\", \"primary_metric\": 0.85459732, \"best_metric\": 0.89907742}, {\"run_id\": \"AutoML_03202041-e1a9-4c4a-b446-9912b5836698_18\", \"run_number\": 1622291025, \"metric\": null, \"status\": \"Completed\", \"run_type\": \"azureml.scriptrun\", \"training_percent\": \"100\", \"start_time\": \"2021-05-29T12:23:53.370186Z\", \"end_time\": \"2021-05-29T12:24:40.21038Z\", \"created_time\": \"2021-05-29T12:23:45.890202Z\", \"created_time_dt\": \"2021-05-29T12:23:45.890202Z\", \"duration\": \"0:00:54\", \"iteration\": \"18\", \"goal\": \"AUC_weighted_max\", \"run_name\": \"MaxAbsScaler, RandomForest\", \"run_properties\": \"copy=True\", \"primary_metric\": 0.87754767, \"best_metric\": 0.89907742}, {\"run_id\": \"AutoML_03202041-e1a9-4c4a-b446-9912b5836698_19\", \"run_number\": 1622291044, \"metric\": null, \"status\": \"Completed\", \"run_type\": \"azureml.scriptrun\", \"training_percent\": \"100\", \"start_time\": \"2021-05-29T12:24:18.518412Z\", \"end_time\": \"2021-05-29T12:25:07.561137Z\", \"created_time\": \"2021-05-29T12:24:04.659837Z\", \"created_time_dt\": \"2021-05-29T12:24:04.659837Z\", \"duration\": \"0:01:02\", \"iteration\": \"19\", \"goal\": \"AUC_weighted_max\", \"run_name\": \"StandardScalerWrapper, XGBoostClassifier\", \"run_properties\": \"\\n    copy=True,\\n    with_mean=False,\\n    with_std=False\\n\", \"primary_metric\": 0.90890998, \"best_metric\": 0.90890998}, {\"run_id\": \"AutoML_03202041-e1a9-4c4a-b446-9912b5836698_20\", \"run_number\": 1622291051, \"metric\": null, \"status\": \"Completed\", \"run_type\": \"azureml.scriptrun\", \"training_percent\": \"100\", \"start_time\": \"2021-05-29T12:24:22.84416Z\", \"end_time\": \"2021-05-29T12:25:08.20999Z\", \"created_time\": \"2021-05-29T12:24:11.18097Z\", \"created_time_dt\": \"2021-05-29T12:24:11.18097Z\", \"duration\": \"0:00:57\", \"iteration\": \"20\", \"goal\": \"AUC_weighted_max\", \"run_name\": \"MaxAbsScaler, RandomForest\", \"run_properties\": \"copy=True\", \"primary_metric\": 0.89296116, \"best_metric\": 0.90890998}, {\"run_id\": \"AutoML_03202041-e1a9-4c4a-b446-9912b5836698_21\", \"run_number\": 1622291063, \"metric\": null, \"status\": \"Completed\", \"run_type\": \"azureml.scriptrun\", \"training_percent\": \"100\", \"start_time\": \"2021-05-29T12:24:37.870946Z\", \"end_time\": \"2021-05-29T12:25:21.080707Z\", \"created_time\": \"2021-05-29T12:24:23.898273Z\", \"created_time_dt\": \"2021-05-29T12:24:23.898273Z\", \"duration\": \"0:00:57\", \"iteration\": \"21\", \"goal\": \"AUC_weighted_max\", \"run_name\": \"MaxAbsScaler, ExtremeRandomTrees\", \"run_properties\": \"copy=True\", \"primary_metric\": 0.88372334, \"best_metric\": 0.90890998}, {\"run_id\": \"AutoML_03202041-e1a9-4c4a-b446-9912b5836698_22\", \"run_number\": 1622291083, \"metric\": null, \"status\": \"Completed\", \"run_type\": \"azureml.scriptrun\", \"training_percent\": \"100\", \"start_time\": \"2021-05-29T12:24:54.991286Z\", \"end_time\": \"2021-05-29T12:25:40.425272Z\", \"created_time\": \"2021-05-29T12:24:43.206694Z\", \"created_time_dt\": \"2021-05-29T12:24:43.206694Z\", \"duration\": \"0:00:57\", \"iteration\": \"22\", \"goal\": \"AUC_weighted_max\", \"run_name\": \"MaxAbsScaler, ExtremeRandomTrees\", \"run_properties\": \"copy=True\", \"primary_metric\": 0.87051103, \"best_metric\": 0.90890998}, {\"run_id\": \"AutoML_03202041-e1a9-4c4a-b446-9912b5836698_24\", \"run_number\": 1622291110, \"metric\": null, \"status\": \"Completed\", \"run_type\": \"azureml.scriptrun\", \"training_percent\": \"100\", \"start_time\": \"2021-05-29T12:25:22.205275Z\", \"end_time\": \"2021-05-29T12:26:10.507855Z\", \"created_time\": \"2021-05-29T12:25:10.281686Z\", \"created_time_dt\": \"2021-05-29T12:25:10.281686Z\", \"duration\": \"0:01:00\", \"iteration\": \"24\", \"goal\": \"AUC_weighted_max\", \"run_name\": \"MaxAbsScaler, ExtremeRandomTrees\", \"run_properties\": \"copy=True\", \"primary_metric\": 0.89767096, \"best_metric\": 0.90890998}, {\"run_id\": \"AutoML_03202041-e1a9-4c4a-b446-9912b5836698_25\", \"run_number\": 1622291123, \"metric\": null, \"status\": \"Completed\", \"run_type\": \"azureml.scriptrun\", \"training_percent\": \"100\", \"start_time\": \"2021-05-29T12:25:35.527322Z\", \"end_time\": \"2021-05-29T12:26:20.923843Z\", \"created_time\": \"2021-05-29T12:25:23.943835Z\", \"created_time_dt\": \"2021-05-29T12:25:23.943835Z\", \"duration\": \"0:00:56\", \"iteration\": \"25\", \"goal\": \"AUC_weighted_max\", \"run_name\": \"PCA, XGBoostClassifier\", \"run_properties\": \"copy=True, iterated_power='auto', n_components=0.01, random_state=None,\\n    svd_solver='auto', tol=0.0, whiten=False\", \"primary_metric\": 0.48390307, \"best_metric\": 0.90890998}, {\"run_id\": \"AutoML_03202041-e1a9-4c4a-b446-9912b5836698_26\", \"run_number\": 1622291143, \"metric\": null, \"status\": \"Completed\", \"run_type\": \"azureml.scriptrun\", \"training_percent\": \"100\", \"start_time\": \"2021-05-29T12:25:54.08438Z\", \"end_time\": \"2021-05-29T12:26:38.744436Z\", \"created_time\": \"2021-05-29T12:25:43.44708Z\", \"created_time_dt\": \"2021-05-29T12:25:43.44708Z\", \"duration\": \"0:00:55\", \"iteration\": \"26\", \"goal\": \"AUC_weighted_max\", \"run_name\": \"StandardScalerWrapper, LightGBM\", \"run_properties\": \"\\n    copy=True,\\n    with_mean=True,\\n    with_std=True\\n\", \"primary_metric\": 0.8677668, \"best_metric\": 0.90890998}, {\"run_id\": \"AutoML_03202041-e1a9-4c4a-b446-9912b5836698_27\", \"run_number\": 1622291169, \"metric\": null, \"status\": \"Completed\", \"run_type\": \"azureml.scriptrun\", \"training_percent\": \"100\", \"start_time\": \"2021-05-29T12:26:23.755259Z\", \"end_time\": \"2021-05-29T12:27:07.065894Z\", \"created_time\": \"2021-05-29T12:26:09.595843Z\", \"created_time_dt\": \"2021-05-29T12:26:09.595843Z\", \"duration\": \"0:00:57\", \"iteration\": \"27\", \"goal\": \"AUC_weighted_max\", \"run_name\": \"RobustScaler, LightGBM\", \"run_properties\": \"copy=True, quantile_range=[10, 90], with_centering=True,\\n             with_scaling=True\", \"primary_metric\": 0.90121699, \"best_metric\": 0.90890998}, {\"run_id\": \"AutoML_03202041-e1a9-4c4a-b446-9912b5836698_28\", \"run_number\": 1622291173, \"metric\": null, \"status\": \"Completed\", \"run_type\": \"azureml.scriptrun\", \"training_percent\": \"100\", \"start_time\": \"2021-05-29T12:26:24.843379Z\", \"end_time\": \"2021-05-29T12:27:07.400867Z\", \"created_time\": \"2021-05-29T12:26:12.987575Z\", \"created_time_dt\": \"2021-05-29T12:26:12.987575Z\", \"duration\": \"0:00:54\", \"iteration\": \"28\", \"goal\": \"AUC_weighted_max\", \"run_name\": \"MaxAbsScaler, LightGBM\", \"run_properties\": \"copy=True\", \"primary_metric\": 0.90705363, \"best_metric\": 0.90890998}, {\"run_id\": \"AutoML_03202041-e1a9-4c4a-b446-9912b5836698_29\", \"run_number\": 1622291182, \"metric\": null, \"status\": \"Completed\", \"run_type\": \"azureml.scriptrun\", \"training_percent\": \"100\", \"start_time\": \"2021-05-29T12:26:36.69707Z\", \"end_time\": \"2021-05-29T12:27:20.064139Z\", \"created_time\": \"2021-05-29T12:26:22.834468Z\", \"created_time_dt\": \"2021-05-29T12:26:22.834468Z\", \"duration\": \"0:00:57\", \"iteration\": \"29\", \"goal\": \"AUC_weighted_max\", \"run_name\": \"MinMaxScaler, LightGBM\", \"run_properties\": \"copy=True, feature_range=(0, 1\", \"primary_metric\": 0.90374627, \"best_metric\": 0.90890998}, {\"run_id\": \"AutoML_03202041-e1a9-4c4a-b446-9912b5836698_30\", \"run_number\": 1622291201, \"metric\": null, \"status\": \"Completed\", \"run_type\": \"azureml.scriptrun\", \"training_percent\": \"100\", \"start_time\": \"2021-05-29T12:26:51.504677Z\", \"end_time\": \"2021-05-29T12:27:51.045421Z\", \"created_time\": \"2021-05-29T12:26:41.908762Z\", \"created_time_dt\": \"2021-05-29T12:26:41.908762Z\", \"duration\": \"0:01:09\", \"iteration\": \"30\", \"goal\": \"AUC_weighted_max\", \"run_name\": \"RobustScaler, ExtremeRandomTrees\", \"run_properties\": \"copy=True, quantile_range=[25, 75], with_centering=True,\\n             with_scaling=False\", \"primary_metric\": 0.89854142, \"best_metric\": 0.90890998}, {\"run_id\": \"AutoML_03202041-e1a9-4c4a-b446-9912b5836698_32\", \"run_number\": 1622291229, \"metric\": null, \"status\": \"Completed\", \"run_type\": \"azureml.scriptrun\", \"training_percent\": \"100\", \"start_time\": \"2021-05-29T12:27:23.196789Z\", \"end_time\": \"2021-05-29T12:28:09.880995Z\", \"created_time\": \"2021-05-29T12:27:09.104267Z\", \"created_time_dt\": \"2021-05-29T12:27:09.104267Z\", \"duration\": \"0:01:00\", \"iteration\": \"32\", \"goal\": \"AUC_weighted_max\", \"run_name\": \"StandardScalerWrapper, XGBoostClassifier\", \"run_properties\": \"\\n    copy=True,\\n    with_mean=False,\\n    with_std=False\\n\", \"primary_metric\": 0.90267249, \"best_metric\": 0.90890998}, {\"run_id\": \"AutoML_03202041-e1a9-4c4a-b446-9912b5836698_33\", \"run_number\": 1622291242, \"metric\": null, \"status\": \"Completed\", \"run_type\": \"azureml.scriptrun\", \"training_percent\": \"100\", \"start_time\": \"2021-05-29T12:27:36.136274Z\", \"end_time\": \"2021-05-29T12:28:22.333986Z\", \"created_time\": \"2021-05-29T12:27:22.060529Z\", \"created_time_dt\": \"2021-05-29T12:27:22.060529Z\", \"duration\": \"0:01:00\", \"iteration\": \"33\", \"goal\": \"AUC_weighted_max\", \"run_name\": \"StandardScalerWrapper, XGBoostClassifier\", \"run_properties\": \"\\n    copy=True,\\n    with_mean=False,\\n    with_std=False\\n\", \"primary_metric\": 0.90440284, \"best_metric\": 0.90890998}, {\"run_id\": \"AutoML_03202041-e1a9-4c4a-b446-9912b5836698_34\", \"run_number\": 1622291273, \"metric\": null, \"status\": \"Completed\", \"run_type\": \"azureml.scriptrun\", \"training_percent\": \"100\", \"start_time\": \"2021-05-29T12:28:09.282172Z\", \"end_time\": \"2021-05-29T12:28:53.229802Z\", \"created_time\": \"2021-05-29T12:27:53.091017Z\", \"created_time_dt\": \"2021-05-29T12:27:53.091017Z\", \"duration\": \"0:01:00\", \"iteration\": \"34\", \"goal\": \"AUC_weighted_max\", \"run_name\": \"StandardScalerWrapper, XGBoostClassifier\", \"run_properties\": \"\\n    copy=True,\\n    with_mean=False,\\n    with_std=False\\n\", \"primary_metric\": 0.91624913, \"best_metric\": 0.91624913}, {\"run_id\": \"AutoML_03202041-e1a9-4c4a-b446-9912b5836698_35\", \"run_number\": 1622291293, \"metric\": null, \"status\": \"Completed\", \"run_type\": \"azureml.scriptrun\", \"training_percent\": \"100\", \"start_time\": \"2021-05-29T12:28:24.331499Z\", \"end_time\": \"2021-05-29T12:29:06.27607Z\", \"created_time\": \"2021-05-29T12:28:12.974911Z\", \"created_time_dt\": \"2021-05-29T12:28:12.974911Z\", \"duration\": \"0:00:53\", \"iteration\": \"35\", \"goal\": \"AUC_weighted_max\", \"run_name\": \"MinMaxScaler, ExtremeRandomTrees\", \"run_properties\": \"copy=True, feature_range=(0, 1\", \"primary_metric\": 0.75175195, \"best_metric\": 0.91624913}, {\"run_id\": \"AutoML_03202041-e1a9-4c4a-b446-9912b5836698_36\", \"run_number\": 1622291297, \"metric\": null, \"status\": \"Completed\", \"run_type\": \"azureml.scriptrun\", \"training_percent\": \"100\", \"start_time\": \"2021-05-29T12:28:25.087734Z\", \"end_time\": \"2021-05-29T12:29:11.860722Z\", \"created_time\": \"2021-05-29T12:28:17.705254Z\", \"created_time_dt\": \"2021-05-29T12:28:17.705254Z\", \"duration\": \"0:00:54\", \"iteration\": \"36\", \"goal\": \"AUC_weighted_max\", \"run_name\": \"MaxAbsScaler, RandomForest\", \"run_properties\": \"copy=True\", \"primary_metric\": 0.90371447, \"best_metric\": 0.91624913}, {\"run_id\": \"AutoML_03202041-e1a9-4c4a-b446-9912b5836698_37\", \"run_number\": 1622291304, \"metric\": null, \"status\": \"Completed\", \"run_type\": \"azureml.scriptrun\", \"training_percent\": \"100\", \"start_time\": \"2021-05-29T12:28:38.622991Z\", \"end_time\": \"2021-05-29T12:29:21.896236Z\", \"created_time\": \"2021-05-29T12:28:24.270075Z\", \"created_time_dt\": \"2021-05-29T12:28:24.270075Z\", \"duration\": \"0:00:57\", \"iteration\": \"37\", \"goal\": \"AUC_weighted_max\", \"run_name\": \"StandardScalerWrapper, LightGBM\", \"run_properties\": \"\\n    copy=True,\\n    with_mean=False,\\n    with_std=False\\n\", \"primary_metric\": 0.90007532, \"best_metric\": 0.91624913}, {\"run_id\": \"AutoML_03202041-e1a9-4c4a-b446-9912b5836698_38\", \"run_number\": 1622291335, \"metric\": null, \"status\": \"Completed\", \"run_type\": \"azureml.scriptrun\", \"training_percent\": \"100\", \"start_time\": \"2021-05-29T12:29:09.490837Z\", \"end_time\": \"2021-05-29T12:29:56.121845Z\", \"created_time\": \"2021-05-29T12:28:55.044133Z\", \"created_time_dt\": \"2021-05-29T12:28:55.044133Z\", \"duration\": \"0:01:01\", \"iteration\": \"38\", \"goal\": \"AUC_weighted_max\", \"run_name\": \"MinMaxScaler, ExtremeRandomTrees\", \"run_properties\": \"copy=True, feature_range=(0, 1\", \"primary_metric\": 0.8813629, \"best_metric\": 0.91624913}, {\"run_id\": \"AutoML_03202041-e1a9-4c4a-b446-9912b5836698_39\", \"run_number\": 1622291348, \"metric\": null, \"status\": \"Completed\", \"run_type\": \"azureml.scriptrun\", \"training_percent\": \"100\", \"start_time\": \"2021-05-29T12:29:24.084259Z\", \"end_time\": \"2021-05-29T12:30:10.950033Z\", \"created_time\": \"2021-05-29T12:29:08.030904Z\", \"created_time_dt\": \"2021-05-29T12:29:08.030904Z\", \"duration\": \"0:01:02\", \"iteration\": \"39\", \"goal\": \"AUC_weighted_max\", \"run_name\": \"StandardScalerWrapper, RandomForest\", \"run_properties\": \"\\n    copy=True,\\n    with_mean=True,\\n    with_std=True\\n\", \"primary_metric\": 0.90674642, \"best_metric\": 0.91624913}, {\"run_id\": \"AutoML_03202041-e1a9-4c4a-b446-9912b5836698_40\", \"run_number\": 1622291355, \"metric\": null, \"status\": \"Completed\", \"run_type\": \"azureml.scriptrun\", \"training_percent\": \"100\", \"start_time\": \"2021-05-29T12:29:25.46929Z\", \"end_time\": \"2021-05-29T12:30:13.453781Z\", \"created_time\": \"2021-05-29T12:29:15.323742Z\", \"created_time_dt\": \"2021-05-29T12:29:15.323742Z\", \"duration\": \"0:00:58\", \"iteration\": \"40\", \"goal\": \"AUC_weighted_max\", \"run_name\": \"StandardScalerWrapper, XGBoostClassifier\", \"run_properties\": \"\\n    copy=True,\\n    with_mean=False,\\n    with_std=False\\n\", \"primary_metric\": 0.89848053, \"best_metric\": 0.91624913}, {\"run_id\": \"AutoML_03202041-e1a9-4c4a-b446-9912b5836698_41\", \"run_number\": 1622291363, \"metric\": null, \"status\": \"Completed\", \"run_type\": \"azureml.scriptrun\", \"training_percent\": \"100\", \"start_time\": \"2021-05-29T12:29:35.849684Z\", \"end_time\": \"2021-05-29T12:30:24.146089Z\", \"created_time\": \"2021-05-29T12:29:23.820981Z\", \"created_time_dt\": \"2021-05-29T12:29:23.820981Z\", \"duration\": \"0:01:00\", \"iteration\": \"41\", \"goal\": \"AUC_weighted_max\", \"run_name\": \"StandardScalerWrapper, RandomForest\", \"run_properties\": \"\\n    copy=True,\\n    with_mean=False,\\n    with_std=True\\n\", \"primary_metric\": 0.91275754, \"best_metric\": 0.91624913}, {\"run_id\": \"AutoML_03202041-e1a9-4c4a-b446-9912b5836698_42\", \"run_number\": 1622291398, \"metric\": null, \"status\": \"Completed\", \"run_type\": \"azureml.scriptrun\", \"training_percent\": \"100\", \"start_time\": \"2021-05-29T12:30:11.867094Z\", \"end_time\": \"2021-05-29T12:31:00.990411Z\", \"created_time\": \"2021-05-29T12:29:58.128662Z\", \"created_time_dt\": \"2021-05-29T12:29:58.128662Z\", \"duration\": \"0:01:02\", \"iteration\": \"42\", \"goal\": \"AUC_weighted_max\", \"run_name\": \"StandardScalerWrapper, GradientBoosting\", \"run_properties\": \"\\n    copy=True,\\n    with_mean=True,\\n    with_std=False\\n\", \"primary_metric\": 0.91622076, \"best_metric\": 0.91624913}, {\"run_id\": \"AutoML_03202041-e1a9-4c4a-b446-9912b5836698_43\", \"run_number\": 1622291412, \"metric\": null, \"status\": \"Completed\", \"run_type\": \"azureml.scriptrun\", \"training_percent\": \"100\", \"start_time\": \"2021-05-29T12:30:24.797333Z\", \"end_time\": \"2021-05-29T12:31:10.320941Z\", \"created_time\": \"2021-05-29T12:30:12.885187Z\", \"created_time_dt\": \"2021-05-29T12:30:12.885187Z\", \"duration\": \"0:00:57\", \"iteration\": \"43\", \"goal\": \"AUC_weighted_max\", \"run_name\": \"StandardScalerWrapper, XGBoostClassifier\", \"run_properties\": \"\\n    copy=True,\\n    with_mean=False,\\n    with_std=False\\n\", \"primary_metric\": 0.90760251, \"best_metric\": 0.91624913}, {\"run_id\": \"AutoML_03202041-e1a9-4c4a-b446-9912b5836698_44\", \"run_number\": 1622291415, \"metric\": null, \"status\": \"Completed\", \"run_type\": \"azureml.scriptrun\", \"training_percent\": \"100\", \"start_time\": \"2021-05-29T12:30:27.735788Z\", \"end_time\": \"2021-05-29T12:31:10.32591Z\", \"created_time\": \"2021-05-29T12:30:15.841106Z\", \"created_time_dt\": \"2021-05-29T12:30:15.841106Z\", \"duration\": \"0:00:54\", \"iteration\": \"44\", \"goal\": \"AUC_weighted_max\", \"run_name\": \"MaxAbsScaler, GradientBoosting\", \"run_properties\": \"copy=True\", \"primary_metric\": 0.90309234, \"best_metric\": 0.91624913}, {\"run_id\": \"AutoML_03202041-e1a9-4c4a-b446-9912b5836698_45\", \"run_number\": 1622291426, \"metric\": null, \"status\": \"Completed\", \"run_type\": \"azureml.scriptrun\", \"training_percent\": \"100\", \"start_time\": \"2021-05-29T12:30:38.8914Z\", \"end_time\": \"2021-05-29T12:31:27.190754Z\", \"created_time\": \"2021-05-29T12:30:26.96413Z\", \"created_time_dt\": \"2021-05-29T12:30:26.96413Z\", \"duration\": \"0:01:00\", \"iteration\": \"45\", \"goal\": \"AUC_weighted_max\", \"run_name\": \"StandardScalerWrapper, XGBoostClassifier\", \"run_properties\": \"\\n    copy=True,\\n    with_mean=False,\\n    with_std=False\\n\", \"primary_metric\": 0.90830307, \"best_metric\": 0.91624913}, {\"run_id\": \"AutoML_03202041-e1a9-4c4a-b446-9912b5836698_46\", \"run_number\": 1622291462, \"metric\": null, \"status\": \"Completed\", \"run_type\": \"azureml.scriptrun\", \"training_percent\": \"100\", \"start_time\": \"2021-05-29T12:31:14.663502Z\", \"end_time\": \"2021-05-29T12:32:03.061768Z\", \"created_time\": \"2021-05-29T12:31:02.857644Z\", \"created_time_dt\": \"2021-05-29T12:31:02.857644Z\", \"duration\": \"0:01:00\", \"iteration\": \"46\", \"goal\": \"AUC_weighted_max\", \"run_name\": \"RobustScaler, GradientBoosting\", \"run_properties\": \"copy=True, quantile_range=[25, 75], with_centering=True,\\n             with_scaling=True\", \"primary_metric\": 0.91107475, \"best_metric\": 0.91624913}, {\"run_id\": \"AutoML_03202041-e1a9-4c4a-b446-9912b5836698_47\", \"run_number\": 1622291472, \"metric\": null, \"status\": \"Completed\", \"run_type\": \"azureml.scriptrun\", \"training_percent\": \"100\", \"start_time\": \"2021-05-29T12:31:26.282264Z\", \"end_time\": \"2021-05-29T12:32:12.34835Z\", \"created_time\": \"2021-05-29T12:31:12.301752Z\", \"created_time_dt\": \"2021-05-29T12:31:12.301752Z\", \"duration\": \"0:01:00\", \"iteration\": \"47\", \"goal\": \"AUC_weighted_max\", \"run_name\": \"RobustScaler, GradientBoosting\", \"run_properties\": \"copy=True, quantile_range=[10, 90], with_centering=True,\\n             with_scaling=False\", \"primary_metric\": 0.89773738, \"best_metric\": 0.91624913}, {\"run_id\": \"AutoML_03202041-e1a9-4c4a-b446-9912b5836698_49\", \"run_number\": 1622291489, \"metric\": null, \"status\": \"Canceled\", \"run_type\": \"azureml.scriptrun\", \"training_percent\": \"100\", \"start_time\": \"2021-05-29T12:31:38.784634Z\", \"end_time\": \"2021-05-29T12:32:18.660655Z\", \"created_time\": \"2021-05-29T12:31:29.122219Z\", \"created_time_dt\": \"2021-05-29T12:31:29.122219Z\", \"duration\": \"0:00:49\", \"iteration\": \"49\", \"goal\": \"AUC_weighted_max\", \"run_name\": \"MaxAbsScaler, GradientBoosting\", \"run_properties\": \"copy=True\", \"primary_metric\": 0.9096636, \"best_metric\": 0.91624913}, {\"run_id\": \"AutoML_03202041-e1a9-4c4a-b446-9912b5836698_50\", \"run_number\": 1622291525, \"metric\": null, \"status\": \"Canceled\", \"run_type\": \"azureml.scriptrun\", \"training_percent\": \"100\", \"start_time\": \"2021-05-29T12:32:05.803969Z\", \"end_time\": \"2021-05-29T12:32:18.629171Z\", \"created_time\": \"2021-05-29T12:32:05.803969Z\", \"created_time_dt\": \"2021-05-29T12:32:05.803969Z\", \"duration\": \"0:00:12\", \"iteration\": \"50\", \"goal\": null, \"run_name\": \"Canceled\", \"run_properties\": null}, {\"run_id\": \"AutoML_03202041-e1a9-4c4a-b446-9912b5836698_51\", \"run_number\": 1622291539, \"metric\": null, \"status\": \"Completed\", \"run_type\": \"azureml.scriptrun\", \"training_percent\": \"100\", \"start_time\": \"2021-05-29T12:32:27.015349Z\", \"end_time\": \"2021-05-29T12:33:58.410401Z\", \"created_time\": \"2021-05-29T12:32:19.494665Z\", \"created_time_dt\": \"2021-05-29T12:32:19.494665Z\", \"duration\": \"0:01:38\", \"iteration\": \"51\", \"goal\": \"AUC_weighted_max\", \"run_name\": \"VotingEnsemble\", \"run_properties\": \"\\n    estimators=[('34', Pipeline(memory=None,\\n             steps=[('standardscalerwrapper',\\n                     StandardScalerWrapper(\\n        copy=True,\\n        with_mean=False,\\n        with_std=False\\n    \", \"primary_metric\": 0.92075752, \"best_metric\": 0.92075752}], \"children_metrics\": {\"categories\": [0], \"series\": {\"AUC_macro\": [{\"categories\": [\"1\", \"2\", \"4\", \"5\", \"6\", \"7\", \"8\", \"9\", \"10\", \"11\", \"12\", \"13\", \"14\", \"15\", \"16\", \"17\", \"18\", \"19\", \"20\", \"21\", \"22\", \"24\", \"25\", \"26\", \"27\", \"28\", \"29\", \"30\", \"32\", \"33\", \"34\", \"35\", \"36\", \"37\", \"38\", \"39\", \"40\", \"41\", \"42\", \"43\", \"44\", \"45\", \"46\", \"47\", \"49\", \"51\"], \"mode\": \"markers\", \"name\": \"AUC_macro\", \"stepped\": false, \"type\": \"scatter\", \"data\": [0.8847369443591411, 0.8897064143120208, 0.8920223363084918, 0.8980668539761789, 0.8883837019811276, 0.88574420917247, 0.8723517575229247, 0.7496161006793443, 0.8650996414785317, 0.8792759248802726, 0.899077419338861, 0.8672012144986972, 0.8874423648878456, 0.5203053263648802, 0.8781959622926442, 0.8545973217794156, 0.8775476687711812, 0.9089099837731132, 0.8929611647421144, 0.8837233436853001, 0.8705110283394036, 0.8976709557710703, 0.4839030682217181, 0.8677668036197212, 0.9012169939836416, 0.9070536300126688, 0.9037462671005578, 0.8985414246254635, 0.9026724909275824, 0.904402837187391, 0.9162491258339085, 0.7517519542295572, 0.9037144652364331, 0.9000753153469973, 0.8813629011593542, 0.9067464204538576, 0.8984805290840189, 0.9127575429570852, 0.9162207647742544, 0.9076025089073143, 0.9030923397921681, 0.9083030667357898, 0.9110747494835023, 0.8977373754159222, 0.9096636014718396, 0.920757517008375]}, {\"categories\": [\"1\", \"2\", \"4\", \"5\", \"6\", \"7\", \"8\", \"9\", \"10\", \"11\", \"12\", \"13\", \"14\", \"15\", \"16\", \"17\", \"18\", \"19\", \"20\", \"21\", \"22\", \"24\", \"25\", \"26\", \"27\", \"28\", \"29\", \"30\", \"32\", \"33\", \"34\", \"35\", \"36\", \"37\", \"38\", \"39\", \"40\", \"41\", \"42\", \"43\", \"44\", \"45\", \"46\", \"47\", \"49\", \"51\"], \"mode\": \"lines\", \"name\": \"AUC_macro_max\", \"stepped\": true, \"type\": \"scatter\", \"data\": [0.8847369443591411, 0.8897064143120208, 0.8920223363084918, 0.8980668539761789, 0.8980668539761789, 0.8980668539761789, 0.8980668539761789, 0.8980668539761789, 0.8980668539761789, 0.8980668539761789, 0.899077419338861, 0.899077419338861, 0.899077419338861, 0.899077419338861, 0.899077419338861, 0.899077419338861, 0.899077419338861, 0.9089099837731132, 0.9089099837731132, 0.9089099837731132, 0.9089099837731132, 0.9089099837731132, 0.9089099837731132, 0.9089099837731132, 0.9089099837731132, 0.9089099837731132, 0.9089099837731132, 0.9089099837731132, 0.9089099837731132, 0.9089099837731132, 0.9162491258339085, 0.9162491258339085, 0.9162491258339085, 0.9162491258339085, 0.9162491258339085, 0.9162491258339085, 0.9162491258339085, 0.9162491258339085, 0.9162491258339085, 0.9162491258339085, 0.9162491258339085, 0.9162491258339085, 0.9162491258339085, 0.9162491258339085, 0.9162491258339085, 0.920757517008375]}], \"AUC_weighted\": [{\"categories\": [\"1\", \"2\", \"4\", \"5\", \"6\", \"7\", \"8\", \"9\", \"10\", \"11\", \"12\", \"13\", \"14\", \"15\", \"16\", \"17\", \"18\", \"19\", \"20\", \"21\", \"22\", \"24\", \"25\", \"26\", \"27\", \"28\", \"29\", \"30\", \"32\", \"33\", \"34\", \"35\", \"36\", \"37\", \"38\", \"39\", \"40\", \"41\", \"42\", \"43\", \"44\", \"45\", \"46\", \"47\", \"49\", \"51\"], \"mode\": \"markers\", \"name\": \"AUC_weighted\", \"stepped\": false, \"type\": \"scatter\", \"data\": [0.8847369443591411, 0.8897064143120208, 0.8920223363084918, 0.8980668539761789, 0.8883837019811276, 0.88574420917247, 0.8723517575229247, 0.7496161006793443, 0.8650996414785317, 0.8792759248802726, 0.899077419338861, 0.8672012144986972, 0.8874423648878456, 0.5203053263648802, 0.8781959622926442, 0.8545973217794156, 0.8775476687711814, 0.9089099837731132, 0.8929611647421145, 0.8837233436853001, 0.8705110283394036, 0.8976709557710703, 0.4839030682217181, 0.8677668036197212, 0.9012169939836415, 0.9070536300126688, 0.9037462671005578, 0.8985414246254635, 0.9026724909275824, 0.904402837187391, 0.9162491258339085, 0.7517519542295572, 0.9037144652364331, 0.9000753153469973, 0.8813629011593542, 0.9067464204538576, 0.8984805290840189, 0.9127575429570852, 0.9162207647742544, 0.9076025089073143, 0.9030923397921681, 0.9083030667357898, 0.9110747494835023, 0.8977373754159222, 0.9096636014718396, 0.920757517008375]}, {\"categories\": [\"1\", \"2\", \"4\", \"5\", \"6\", \"7\", \"8\", \"9\", \"10\", \"11\", \"12\", \"13\", \"14\", \"15\", \"16\", \"17\", \"18\", \"19\", \"20\", \"21\", \"22\", \"24\", \"25\", \"26\", \"27\", \"28\", \"29\", \"30\", \"32\", \"33\", \"34\", \"35\", \"36\", \"37\", \"38\", \"39\", \"40\", \"41\", \"42\", \"43\", \"44\", \"45\", \"46\", \"47\", \"49\", \"51\"], \"mode\": \"lines\", \"name\": \"AUC_weighted_max\", \"stepped\": true, \"type\": \"scatter\", \"data\": [0.8847369443591411, 0.8897064143120208, 0.8920223363084918, 0.8980668539761789, 0.8980668539761789, 0.8980668539761789, 0.8980668539761789, 0.8980668539761789, 0.8980668539761789, 0.8980668539761789, 0.899077419338861, 0.899077419338861, 0.899077419338861, 0.899077419338861, 0.899077419338861, 0.899077419338861, 0.899077419338861, 0.9089099837731132, 0.9089099837731132, 0.9089099837731132, 0.9089099837731132, 0.9089099837731132, 0.9089099837731132, 0.9089099837731132, 0.9089099837731132, 0.9089099837731132, 0.9089099837731132, 0.9089099837731132, 0.9089099837731132, 0.9089099837731132, 0.9162491258339085, 0.9162491258339085, 0.9162491258339085, 0.9162491258339085, 0.9162491258339085, 0.9162491258339085, 0.9162491258339085, 0.9162491258339085, 0.9162491258339085, 0.9162491258339085, 0.9162491258339085, 0.9162491258339085, 0.9162491258339085, 0.9162491258339085, 0.9162491258339085, 0.920757517008375]}], \"balanced_accuracy\": [{\"categories\": [\"1\", \"2\", \"4\", \"5\", \"6\", \"7\", \"8\", \"9\", \"10\", \"11\", \"12\", \"13\", \"14\", \"15\", \"16\", \"17\", \"18\", \"19\", \"20\", \"21\", \"22\", \"24\", \"25\", \"26\", \"27\", \"28\", \"29\", \"30\", \"32\", \"33\", \"34\", \"35\", \"36\", \"37\", \"38\", \"39\", \"40\", \"41\", \"42\", \"43\", \"44\", \"45\", \"46\", \"47\", \"49\", \"51\"], \"mode\": \"markers\", \"name\": \"balanced_accuracy\", \"stepped\": false, \"type\": \"scatter\", \"data\": [0.8130249020938379, 0.8093070402455413, 0.8127601748937561, 0.8063352737079853, 0.8014056835930405, 0.8066174659309671, 0.6819424384412943, 0.6780357113964093, 0.6782128616997037, 0.7707367252947916, 0.8096395864496552, 0.7897339131755607, 0.8055737305219571, 0.5513534193685796, 0.6909292169818486, 0.7783036861752537, 0.8079223103047474, 0.7831479179668539, 0.8100242119627131, 0.7890345986012463, 0.7818792320062343, 0.8100902301042462, 0.483048350041771, 0.663176109740755, 0.7687618828857387, 0.8040277567271275, 0.8109795424826889, 0.7923727281807946, 0.819184322383693, 0.8138635203786805, 0.8151054443585908, 0.5, 0.8281174630416622, 0.8120729768261233, 0.8216700508682774, 0.8124203670407905, 0.8235497938687297, 0.8338393055266625, 0.8306316842006201, 0.8265322661066368, 0.8042788703478061, 0.8128689184258405, 0.7967749020938381, 0.8009501413282877, 0.8180483508672868, 0.8322528963218323]}, {\"categories\": [\"1\", \"2\", \"4\", \"5\", \"6\", \"7\", \"8\", \"9\", \"10\", \"11\", \"12\", \"13\", \"14\", \"15\", \"16\", \"17\", \"18\", \"19\", \"20\", \"21\", \"22\", \"24\", \"25\", \"26\", \"27\", \"28\", \"29\", \"30\", \"32\", \"33\", \"34\", \"35\", \"36\", \"37\", \"38\", \"39\", \"40\", \"41\", \"42\", \"43\", \"44\", \"45\", \"46\", \"47\", \"49\", \"51\"], \"mode\": \"lines\", \"name\": \"balanced_accuracy_max\", \"stepped\": true, \"type\": \"scatter\", \"data\": [0.8130249020938379, 0.8130249020938379, 0.8130249020938379, 0.8130249020938379, 0.8130249020938379, 0.8130249020938379, 0.8130249020938379, 0.8130249020938379, 0.8130249020938379, 0.8130249020938379, 0.8130249020938379, 0.8130249020938379, 0.8130249020938379, 0.8130249020938379, 0.8130249020938379, 0.8130249020938379, 0.8130249020938379, 0.8130249020938379, 0.8130249020938379, 0.8130249020938379, 0.8130249020938379, 0.8130249020938379, 0.8130249020938379, 0.8130249020938379, 0.8130249020938379, 0.8130249020938379, 0.8130249020938379, 0.8130249020938379, 0.819184322383693, 0.819184322383693, 0.819184322383693, 0.819184322383693, 0.8281174630416622, 0.8281174630416622, 0.8281174630416622, 0.8281174630416622, 0.8281174630416622, 0.8338393055266625, 0.8338393055266625, 0.8338393055266625, 0.8338393055266625, 0.8338393055266625, 0.8338393055266625, 0.8338393055266625, 0.8338393055266625, 0.8338393055266625]}], \"accuracy\": [{\"categories\": [\"1\", \"2\", \"4\", \"5\", \"6\", \"7\", \"8\", \"9\", \"10\", \"11\", \"12\", \"13\", \"14\", \"15\", \"16\", \"17\", \"18\", \"19\", \"20\", \"21\", \"22\", \"24\", \"25\", \"26\", \"27\", \"28\", \"29\", \"30\", \"32\", \"33\", \"34\", \"35\", \"36\", \"37\", \"38\", \"39\", \"40\", \"41\", \"42\", \"43\", \"44\", \"45\", \"46\", \"47\", \"49\", \"51\"], \"mode\": \"markers\", \"name\": \"accuracy\", \"stepped\": false, \"type\": \"scatter\", \"data\": [0.8358620689655172, 0.8427586206896553, 0.8324137931034482, 0.8459770114942529, 0.8291954022988506, 0.8527586206896552, 0.7826436781609195, 0.7659770114942528, 0.779080459770115, 0.8360919540229885, 0.7955172413793103, 0.822528735632184, 0.8125287356321838, 0.6389655172413793, 0.7893103448275862, 0.7957471264367817, 0.8188505747126438, 0.8258620689655173, 0.8393103448275863, 0.7924137931034483, 0.812528735632184, 0.8291954022988506, 0.6426436781609195, 0.7725287356321839, 0.8293103448275861, 0.8358620689655172, 0.8391954022988506, 0.8460919540229886, 0.8458620689655174, 0.8358620689655172, 0.8326436781609194, 0.6791954022988507, 0.815632183908046, 0.8359770114942527, 0.839080459770115, 0.8088505747126437, 0.8459770114942529, 0.8357471264367817, 0.8595402298850576, 0.849425287356322, 0.8395402298850575, 0.8427586206896553, 0.8325287356321839, 0.8394252873563218, 0.852873563218391, 0.8593103448275862]}, {\"categories\": [\"1\", \"2\", \"4\", \"5\", \"6\", \"7\", \"8\", \"9\", \"10\", \"11\", \"12\", \"13\", \"14\", \"15\", \"16\", \"17\", \"18\", \"19\", \"20\", \"21\", \"22\", \"24\", \"25\", \"26\", \"27\", \"28\", \"29\", \"30\", \"32\", \"33\", \"34\", \"35\", \"36\", \"37\", \"38\", \"39\", \"40\", \"41\", \"42\", \"43\", \"44\", \"45\", \"46\", \"47\", \"49\", \"51\"], \"mode\": \"lines\", \"name\": \"accuracy_max\", \"stepped\": true, \"type\": \"scatter\", \"data\": [0.8358620689655172, 0.8427586206896553, 0.8427586206896553, 0.8459770114942529, 0.8459770114942529, 0.8527586206896552, 0.8527586206896552, 0.8527586206896552, 0.8527586206896552, 0.8527586206896552, 0.8527586206896552, 0.8527586206896552, 0.8527586206896552, 0.8527586206896552, 0.8527586206896552, 0.8527586206896552, 0.8527586206896552, 0.8527586206896552, 0.8527586206896552, 0.8527586206896552, 0.8527586206896552, 0.8527586206896552, 0.8527586206896552, 0.8527586206896552, 0.8527586206896552, 0.8527586206896552, 0.8527586206896552, 0.8527586206896552, 0.8527586206896552, 0.8527586206896552, 0.8527586206896552, 0.8527586206896552, 0.8527586206896552, 0.8527586206896552, 0.8527586206896552, 0.8527586206896552, 0.8527586206896552, 0.8527586206896552, 0.8595402298850576, 0.8595402298850576, 0.8595402298850576, 0.8595402298850576, 0.8595402298850576, 0.8595402298850576, 0.8595402298850576, 0.8595402298850576]}], \"average_precision_score_weighted\": [{\"categories\": [\"1\", \"2\", \"4\", \"5\", \"6\", \"7\", \"8\", \"9\", \"10\", \"11\", \"12\", \"13\", \"14\", \"15\", \"16\", \"17\", \"18\", \"19\", \"20\", \"21\", \"22\", \"24\", \"25\", \"26\", \"27\", \"28\", \"29\", \"30\", \"32\", \"33\", \"34\", \"35\", \"36\", \"37\", \"38\", \"39\", \"40\", \"41\", \"42\", \"43\", \"44\", \"45\", \"46\", \"47\", \"49\", \"51\"], \"mode\": \"markers\", \"name\": \"average_precision_score_weighted\", \"stepped\": false, \"type\": \"scatter\", \"data\": [0.907154018724502, 0.9025506006981121, 0.9116307827067631, 0.9141801973979963, 0.9050232074837083, 0.903929673285813, 0.8957939711621966, 0.7960613547349917, 0.8865210311244811, 0.9038034681811405, 0.9181192331658554, 0.890786174534085, 0.9020262003101074, 0.6358285919365991, 0.9018366790329881, 0.8719857067879044, 0.9005598440215208, 0.9235801903509394, 0.9023086735772606, 0.9043579400955931, 0.8932338285889057, 0.9155133395525115, 0.6084130356934421, 0.8968113838868744, 0.9104481826698162, 0.9228499176149343, 0.9218947438222017, 0.9168477992341979, 0.9201043231904263, 0.9214620848707193, 0.9332072357543103, 0.798389645556772, 0.9172664571955048, 0.9176270799387526, 0.9044325511286859, 0.9235348478260776, 0.9150747441641991, 0.9290655542549494, 0.932591353593611, 0.9250364059175071, 0.9174896011085991, 0.9219508843788763, 0.9293558679945668, 0.9197969575273877, 0.928340572983435, 0.9363472810342028]}, {\"categories\": [\"1\", \"2\", \"4\", \"5\", \"6\", \"7\", \"8\", \"9\", \"10\", \"11\", \"12\", \"13\", \"14\", \"15\", \"16\", \"17\", \"18\", \"19\", \"20\", \"21\", \"22\", \"24\", \"25\", \"26\", \"27\", \"28\", \"29\", \"30\", \"32\", \"33\", \"34\", \"35\", \"36\", \"37\", \"38\", \"39\", \"40\", \"41\", \"42\", \"43\", \"44\", \"45\", \"46\", \"47\", \"49\", \"51\"], \"mode\": \"lines\", \"name\": \"average_precision_score_weighted_max\", \"stepped\": true, \"type\": \"scatter\", \"data\": [0.907154018724502, 0.907154018724502, 0.9116307827067631, 0.9141801973979963, 0.9141801973979963, 0.9141801973979963, 0.9141801973979963, 0.9141801973979963, 0.9141801973979963, 0.9141801973979963, 0.9181192331658554, 0.9181192331658554, 0.9181192331658554, 0.9181192331658554, 0.9181192331658554, 0.9181192331658554, 0.9181192331658554, 0.9235801903509394, 0.9235801903509394, 0.9235801903509394, 0.9235801903509394, 0.9235801903509394, 0.9235801903509394, 0.9235801903509394, 0.9235801903509394, 0.9235801903509394, 0.9235801903509394, 0.9235801903509394, 0.9235801903509394, 0.9235801903509394, 0.9332072357543103, 0.9332072357543103, 0.9332072357543103, 0.9332072357543103, 0.9332072357543103, 0.9332072357543103, 0.9332072357543103, 0.9332072357543103, 0.9332072357543103, 0.9332072357543103, 0.9332072357543103, 0.9332072357543103, 0.9332072357543103, 0.9332072357543103, 0.9332072357543103, 0.9363472810342028]}], \"weighted_accuracy\": [{\"categories\": [\"1\", \"2\", \"4\", \"5\", \"6\", \"7\", \"8\", \"9\", \"10\", \"11\", \"12\", \"13\", \"14\", \"15\", \"16\", \"17\", \"18\", \"19\", \"20\", \"21\", \"22\", \"24\", \"25\", \"26\", \"27\", \"28\", \"29\", \"30\", \"32\", \"33\", \"34\", \"35\", \"36\", \"37\", \"38\", \"39\", \"40\", \"41\", \"42\", \"43\", \"44\", \"45\", \"46\", \"47\", \"49\", \"51\"], \"mode\": \"markers\", \"name\": \"weighted_accuracy\", \"stepped\": false, \"type\": \"scatter\", \"data\": [0.8502962163535492, 0.8653233175901622, 0.8449589513431717, 0.8713399226025464, 0.8461662164195047, 0.8823686687093032, 0.8473392647282134, 0.8227930918585225, 0.8428518366738762, 0.8784853534702493, 0.7852536495280604, 0.8435084368086869, 0.8160028330351906, 0.6980167624045801, 0.8506524659532362, 0.8048900450137314, 0.8229145705743746, 0.8533454461004967, 0.858658348611305, 0.7934501522254302, 0.8322934107621748, 0.8419280622794982, 0.7430547251695894, 0.8399763781018773, 0.8698785636398008, 0.8553190521046888, 0.8569395266107008, 0.8811124670037376, 0.8622567489422718, 0.8503893943344712, 0.8441535944770392, 0.7931711479234276, 0.806336627053615, 0.8511019990179356, 0.8501797869455323, 0.8050162671843667, 0.8603294252632626, 0.8355591241255269, 0.8779982083433364, 0.8640120286473216, 0.8627694528346532, 0.8616014284246205, 0.8537103381105077, 0.8630197778865736, 0.8751154612824088, 0.8761533052789211]}, {\"categories\": [\"1\", \"2\", \"4\", \"5\", \"6\", \"7\", \"8\", \"9\", \"10\", \"11\", \"12\", \"13\", \"14\", \"15\", \"16\", \"17\", \"18\", \"19\", \"20\", \"21\", \"22\", \"24\", \"25\", \"26\", \"27\", \"28\", \"29\", \"30\", \"32\", \"33\", \"34\", \"35\", \"36\", \"37\", \"38\", \"39\", \"40\", \"41\", \"42\", \"43\", \"44\", \"45\", \"46\", \"47\", \"49\", \"51\"], \"mode\": \"lines\", \"name\": \"weighted_accuracy_max\", \"stepped\": true, \"type\": \"scatter\", \"data\": [0.8502962163535492, 0.8653233175901622, 0.8653233175901622, 0.8713399226025464, 0.8713399226025464, 0.8823686687093032, 0.8823686687093032, 0.8823686687093032, 0.8823686687093032, 0.8823686687093032, 0.8823686687093032, 0.8823686687093032, 0.8823686687093032, 0.8823686687093032, 0.8823686687093032, 0.8823686687093032, 0.8823686687093032, 0.8823686687093032, 0.8823686687093032, 0.8823686687093032, 0.8823686687093032, 0.8823686687093032, 0.8823686687093032, 0.8823686687093032, 0.8823686687093032, 0.8823686687093032, 0.8823686687093032, 0.8823686687093032, 0.8823686687093032, 0.8823686687093032, 0.8823686687093032, 0.8823686687093032, 0.8823686687093032, 0.8823686687093032, 0.8823686687093032, 0.8823686687093032, 0.8823686687093032, 0.8823686687093032, 0.8823686687093032, 0.8823686687093032, 0.8823686687093032, 0.8823686687093032, 0.8823686687093032, 0.8823686687093032, 0.8823686687093032, 0.8823686687093032]}], \"precision_score_micro\": [{\"categories\": [\"1\", \"2\", \"4\", \"5\", \"6\", \"7\", \"8\", \"9\", \"10\", \"11\", \"12\", \"13\", \"14\", \"15\", \"16\", \"17\", \"18\", \"19\", \"20\", \"21\", \"22\", \"24\", \"25\", \"26\", \"27\", \"28\", \"29\", \"30\", \"32\", \"33\", \"34\", \"35\", \"36\", \"37\", \"38\", \"39\", \"40\", \"41\", \"42\", \"43\", \"44\", \"45\", \"46\", \"47\", \"49\", \"51\"], \"mode\": \"markers\", \"name\": \"precision_score_micro\", \"stepped\": false, \"type\": \"scatter\", \"data\": [0.8358620689655172, 0.8427586206896553, 0.8324137931034482, 0.8459770114942529, 0.8291954022988506, 0.8527586206896552, 0.7826436781609195, 0.7659770114942528, 0.779080459770115, 0.8360919540229885, 0.7955172413793103, 0.822528735632184, 0.8125287356321838, 0.6389655172413793, 0.7893103448275862, 0.7957471264367817, 0.8188505747126438, 0.8258620689655173, 0.8393103448275863, 0.7924137931034483, 0.812528735632184, 0.8291954022988506, 0.6426436781609195, 0.7725287356321839, 0.8293103448275861, 0.8358620689655172, 0.8391954022988506, 0.8460919540229886, 0.8458620689655174, 0.8358620689655172, 0.8326436781609194, 0.6791954022988507, 0.815632183908046, 0.8359770114942527, 0.839080459770115, 0.8088505747126437, 0.8459770114942529, 0.8357471264367817, 0.8595402298850576, 0.849425287356322, 0.8395402298850575, 0.8427586206896553, 0.8325287356321839, 0.8394252873563218, 0.852873563218391, 0.8593103448275862]}, {\"categories\": [\"1\", \"2\", \"4\", \"5\", \"6\", \"7\", \"8\", \"9\", \"10\", \"11\", \"12\", \"13\", \"14\", \"15\", \"16\", \"17\", \"18\", \"19\", \"20\", \"21\", \"22\", \"24\", \"25\", \"26\", \"27\", \"28\", \"29\", \"30\", \"32\", \"33\", \"34\", \"35\", \"36\", \"37\", \"38\", \"39\", \"40\", \"41\", \"42\", \"43\", \"44\", \"45\", \"46\", \"47\", \"49\", \"51\"], \"mode\": \"lines\", \"name\": \"precision_score_micro_max\", \"stepped\": true, \"type\": \"scatter\", \"data\": [0.8358620689655172, 0.8427586206896553, 0.8427586206896553, 0.8459770114942529, 0.8459770114942529, 0.8527586206896552, 0.8527586206896552, 0.8527586206896552, 0.8527586206896552, 0.8527586206896552, 0.8527586206896552, 0.8527586206896552, 0.8527586206896552, 0.8527586206896552, 0.8527586206896552, 0.8527586206896552, 0.8527586206896552, 0.8527586206896552, 0.8527586206896552, 0.8527586206896552, 0.8527586206896552, 0.8527586206896552, 0.8527586206896552, 0.8527586206896552, 0.8527586206896552, 0.8527586206896552, 0.8527586206896552, 0.8527586206896552, 0.8527586206896552, 0.8527586206896552, 0.8527586206896552, 0.8527586206896552, 0.8527586206896552, 0.8527586206896552, 0.8527586206896552, 0.8527586206896552, 0.8527586206896552, 0.8527586206896552, 0.8595402298850576, 0.8595402298850576, 0.8595402298850576, 0.8595402298850576, 0.8595402298850576, 0.8595402298850576, 0.8595402298850576, 0.8595402298850576]}], \"average_precision_score_macro\": [{\"categories\": [\"1\", \"2\", \"4\", \"5\", \"6\", \"7\", \"8\", \"9\", \"10\", \"11\", \"12\", \"13\", \"14\", \"15\", \"16\", \"17\", \"18\", \"19\", \"20\", \"21\", \"22\", \"24\", \"25\", \"26\", \"27\", \"28\", \"29\", \"30\", \"32\", \"33\", \"34\", \"35\", \"36\", \"37\", \"38\", \"39\", \"40\", \"41\", \"42\", \"43\", \"44\", \"45\", \"46\", \"47\", \"49\", \"51\"], \"mode\": \"markers\", \"name\": \"average_precision_score_macro\", \"stepped\": false, \"type\": \"scatter\", \"data\": [0.8807340475847678, 0.8766253449381578, 0.8886112304490528, 0.89089519953901, 0.8788766228219783, 0.8819935907243796, 0.8688257034785816, 0.7610796181270093, 0.8518803541379164, 0.8796758662443844, 0.894337355064048, 0.8556546430101004, 0.8678201823883109, 0.5793782772753733, 0.8768153175431417, 0.8377050929700147, 0.8690780600982405, 0.8985389415472792, 0.8688848037818268, 0.8784651755922261, 0.863177539545603, 0.8914182277725706, 0.5316737012008856, 0.863623660027798, 0.8845525197702238, 0.8971000953875263, 0.8978243729654729, 0.8942056677279618, 0.895991360497366, 0.8971386062150419, 0.9111010041844736, 0.747916891336679, 0.8905091877091993, 0.8923885352273349, 0.8790886974836827, 0.8957975472458658, 0.8875788145221678, 0.9088560725382324, 0.9115413771238285, 0.9013440219289484, 0.8960246707051551, 0.8982888203505445, 0.9071346284401349, 0.894497657404572, 0.9061953734256969, 0.9150195036408331]}, {\"categories\": [\"1\", \"2\", \"4\", \"5\", \"6\", \"7\", \"8\", \"9\", \"10\", \"11\", \"12\", \"13\", \"14\", \"15\", \"16\", \"17\", \"18\", \"19\", \"20\", \"21\", \"22\", \"24\", \"25\", \"26\", \"27\", \"28\", \"29\", \"30\", \"32\", \"33\", \"34\", \"35\", \"36\", \"37\", \"38\", \"39\", \"40\", \"41\", \"42\", \"43\", \"44\", \"45\", \"46\", \"47\", \"49\", \"51\"], \"mode\": \"lines\", \"name\": \"average_precision_score_macro_max\", \"stepped\": true, \"type\": \"scatter\", \"data\": [0.8807340475847678, 0.8807340475847678, 0.8886112304490528, 0.89089519953901, 0.89089519953901, 0.89089519953901, 0.89089519953901, 0.89089519953901, 0.89089519953901, 0.89089519953901, 0.894337355064048, 0.894337355064048, 0.894337355064048, 0.894337355064048, 0.894337355064048, 0.894337355064048, 0.894337355064048, 0.8985389415472792, 0.8985389415472792, 0.8985389415472792, 0.8985389415472792, 0.8985389415472792, 0.8985389415472792, 0.8985389415472792, 0.8985389415472792, 0.8985389415472792, 0.8985389415472792, 0.8985389415472792, 0.8985389415472792, 0.8985389415472792, 0.9111010041844736, 0.9111010041844736, 0.9111010041844736, 0.9111010041844736, 0.9111010041844736, 0.9111010041844736, 0.9111010041844736, 0.9111010041844736, 0.9115413771238285, 0.9115413771238285, 0.9115413771238285, 0.9115413771238285, 0.9115413771238285, 0.9115413771238285, 0.9115413771238285, 0.9150195036408331]}], \"f1_score_weighted\": [{\"categories\": [\"1\", \"2\", \"4\", \"5\", \"6\", \"7\", \"8\", \"9\", \"10\", \"11\", \"12\", \"13\", \"14\", \"15\", \"16\", \"17\", \"18\", \"19\", \"20\", \"21\", \"22\", \"24\", \"25\", \"26\", \"27\", \"28\", \"29\", \"30\", \"32\", \"33\", \"34\", \"35\", \"36\", \"37\", \"38\", \"39\", \"40\", \"41\", \"42\", \"43\", \"44\", \"45\", \"46\", \"47\", \"49\", \"51\"], \"mode\": \"markers\", \"name\": \"f1_score_weighted\", \"stepped\": false, \"type\": \"scatter\", \"data\": [0.8342588560383983, 0.8394352916882889, 0.83309330178413, 0.8415750137655287, 0.8282634345735467, 0.846695237686464, 0.7491198605880353, 0.743922190318357, 0.7448346023969025, 0.822464011622823, 0.8019301069081074, 0.8190519819982247, 0.8151734477086213, 0.6071892452709331, 0.7594090588839798, 0.7981362893067561, 0.8230094690949998, 0.8208423832388133, 0.8350247177979171, 0.7975579534343187, 0.8129075269659305, 0.8289819349827032, 0.553606126510483, 0.7376265450314443, 0.8176558550810734, 0.8330609342824914, 0.8368174208799493, 0.8371395253726573, 0.8437155776141136, 0.8339433523290098, 0.8308082153855999, 0.5534120288954022, 0.8213988182781897, 0.8332886990176108, 0.840624950862462, 0.8148391523909643, 0.8451447815088322, 0.8399474340141311, 0.8559709486242474, 0.846894937604344, 0.8341655249156597, 0.8377527514630962, 0.8293216224706523, 0.8347318063690411, 0.8470286628605797, 0.8565721467762923]}, {\"categories\": [\"1\", \"2\", \"4\", \"5\", \"6\", \"7\", \"8\", \"9\", \"10\", \"11\", \"12\", \"13\", \"14\", \"15\", \"16\", \"17\", \"18\", \"19\", \"20\", \"21\", \"22\", \"24\", \"25\", \"26\", \"27\", \"28\", \"29\", \"30\", \"32\", \"33\", \"34\", \"35\", \"36\", \"37\", \"38\", \"39\", \"40\", \"41\", \"42\", \"43\", \"44\", \"45\", \"46\", \"47\", \"49\", \"51\"], \"mode\": \"lines\", \"name\": \"f1_score_weighted_max\", \"stepped\": true, \"type\": \"scatter\", \"data\": [0.8342588560383983, 0.8394352916882889, 0.8394352916882889, 0.8415750137655287, 0.8415750137655287, 0.846695237686464, 0.846695237686464, 0.846695237686464, 0.846695237686464, 0.846695237686464, 0.846695237686464, 0.846695237686464, 0.846695237686464, 0.846695237686464, 0.846695237686464, 0.846695237686464, 0.846695237686464, 0.846695237686464, 0.846695237686464, 0.846695237686464, 0.846695237686464, 0.846695237686464, 0.846695237686464, 0.846695237686464, 0.846695237686464, 0.846695237686464, 0.846695237686464, 0.846695237686464, 0.846695237686464, 0.846695237686464, 0.846695237686464, 0.846695237686464, 0.846695237686464, 0.846695237686464, 0.846695237686464, 0.846695237686464, 0.846695237686464, 0.846695237686464, 0.8559709486242474, 0.8559709486242474, 0.8559709486242474, 0.8559709486242474, 0.8559709486242474, 0.8559709486242474, 0.8559709486242474, 0.8565721467762923]}], \"AUC_micro\": [{\"categories\": [\"1\", \"2\", \"4\", \"5\", \"6\", \"7\", \"8\", \"9\", \"10\", \"11\", \"12\", \"13\", \"14\", \"15\", \"16\", \"17\", \"18\", \"19\", \"20\", \"21\", \"22\", \"24\", \"25\", \"26\", \"27\", \"28\", \"29\", \"30\", \"32\", \"33\", \"34\", \"35\", \"36\", \"37\", \"38\", \"39\", \"40\", \"41\", \"42\", \"43\", \"44\", \"45\", \"46\", \"47\", \"49\", \"51\"], \"mode\": \"markers\", \"name\": \"AUC_micro\", \"stepped\": false, \"type\": \"scatter\", \"data\": [0.9042166732725592, 0.9050276126304663, 0.9001836438102788, 0.9082888096181794, 0.9039203989959044, 0.9060236490949928, 0.8668950984277977, 0.8096416963931828, 0.865797595455146, 0.8937390672479852, 0.8919166336372044, 0.8841075439291851, 0.8885539701413661, 0.6464215880565465, 0.8715266217465979, 0.8573590963139119, 0.8870804597701151, 0.9104369137270446, 0.9061513409961688, 0.8746048355132778, 0.8913649094992733, 0.9090743823490554, 0.6638425155238473, 0.8668345884529, 0.8922186550402961, 0.9154525036332408, 0.914928127890078, 0.9078170167789669, 0.912768265292641, 0.9099593077024706, 0.9187760602457391, 0.7847977275729952, 0.8945443255383803, 0.9136513409961686, 0.8947372175980975, 0.9013435064077155, 0.9077624521072798, 0.912750825736557, 0.9248851895891136, 0.9164661117717003, 0.9157468622010834, 0.9129301096578148, 0.9212906592680671, 0.9128618047298189, 0.9201405733914652, 0.9263472057074912]}, {\"categories\": [\"1\", \"2\", \"4\", \"5\", \"6\", \"7\", \"8\", \"9\", \"10\", \"11\", \"12\", \"13\", \"14\", \"15\", \"16\", \"17\", \"18\", \"19\", \"20\", \"21\", \"22\", \"24\", \"25\", \"26\", \"27\", \"28\", \"29\", \"30\", \"32\", \"33\", \"34\", \"35\", \"36\", \"37\", \"38\", \"39\", \"40\", \"41\", \"42\", \"43\", \"44\", \"45\", \"46\", \"47\", \"49\", \"51\"], \"mode\": \"lines\", \"name\": \"AUC_micro_max\", \"stepped\": true, \"type\": \"scatter\", \"data\": [0.9042166732725592, 0.9050276126304663, 0.9050276126304663, 0.9082888096181794, 0.9082888096181794, 0.9082888096181794, 0.9082888096181794, 0.9082888096181794, 0.9082888096181794, 0.9082888096181794, 0.9082888096181794, 0.9082888096181794, 0.9082888096181794, 0.9082888096181794, 0.9082888096181794, 0.9082888096181794, 0.9082888096181794, 0.9104369137270446, 0.9104369137270446, 0.9104369137270446, 0.9104369137270446, 0.9104369137270446, 0.9104369137270446, 0.9104369137270446, 0.9104369137270446, 0.9154525036332408, 0.9154525036332408, 0.9154525036332408, 0.9154525036332408, 0.9154525036332408, 0.9187760602457391, 0.9187760602457391, 0.9187760602457391, 0.9187760602457391, 0.9187760602457391, 0.9187760602457391, 0.9187760602457391, 0.9187760602457391, 0.9248851895891136, 0.9248851895891136, 0.9248851895891136, 0.9248851895891136, 0.9248851895891136, 0.9248851895891136, 0.9248851895891136, 0.9263472057074912]}], \"recall_score_weighted\": [{\"categories\": [\"1\", \"2\", \"4\", \"5\", \"6\", \"7\", \"8\", \"9\", \"10\", \"11\", \"12\", \"13\", \"14\", \"15\", \"16\", \"17\", \"18\", \"19\", \"20\", \"21\", \"22\", \"24\", \"25\", \"26\", \"27\", \"28\", \"29\", \"30\", \"32\", \"33\", \"34\", \"35\", \"36\", \"37\", \"38\", \"39\", \"40\", \"41\", \"42\", \"43\", \"44\", \"45\", \"46\", \"47\", \"49\", \"51\"], \"mode\": \"markers\", \"name\": \"recall_score_weighted\", \"stepped\": false, \"type\": \"scatter\", \"data\": [0.8358620689655172, 0.8427586206896553, 0.8324137931034482, 0.8459770114942529, 0.8291954022988506, 0.8527586206896552, 0.7826436781609195, 0.7659770114942528, 0.779080459770115, 0.8360919540229885, 0.7955172413793103, 0.822528735632184, 0.8125287356321838, 0.6389655172413793, 0.7893103448275862, 0.7957471264367817, 0.8188505747126438, 0.8258620689655173, 0.8393103448275863, 0.7924137931034483, 0.812528735632184, 0.8291954022988506, 0.6426436781609195, 0.7725287356321839, 0.8293103448275861, 0.8358620689655172, 0.8391954022988506, 0.8460919540229886, 0.8458620689655174, 0.8358620689655172, 0.8326436781609194, 0.6791954022988507, 0.815632183908046, 0.8359770114942527, 0.839080459770115, 0.8088505747126437, 0.8459770114942529, 0.8357471264367817, 0.8595402298850576, 0.849425287356322, 0.8395402298850575, 0.8427586206896553, 0.8325287356321839, 0.8394252873563218, 0.852873563218391, 0.8593103448275862]}, {\"categories\": [\"1\", \"2\", \"4\", \"5\", \"6\", \"7\", \"8\", \"9\", \"10\", \"11\", \"12\", \"13\", \"14\", \"15\", \"16\", \"17\", \"18\", \"19\", \"20\", \"21\", \"22\", \"24\", \"25\", \"26\", \"27\", \"28\", \"29\", \"30\", \"32\", \"33\", \"34\", \"35\", \"36\", \"37\", \"38\", \"39\", \"40\", \"41\", \"42\", \"43\", \"44\", \"45\", \"46\", \"47\", \"49\", \"51\"], \"mode\": \"lines\", \"name\": \"recall_score_weighted_max\", \"stepped\": true, \"type\": \"scatter\", \"data\": [0.8358620689655172, 0.8427586206896553, 0.8427586206896553, 0.8459770114942529, 0.8459770114942529, 0.8527586206896552, 0.8527586206896552, 0.8527586206896552, 0.8527586206896552, 0.8527586206896552, 0.8527586206896552, 0.8527586206896552, 0.8527586206896552, 0.8527586206896552, 0.8527586206896552, 0.8527586206896552, 0.8527586206896552, 0.8527586206896552, 0.8527586206896552, 0.8527586206896552, 0.8527586206896552, 0.8527586206896552, 0.8527586206896552, 0.8527586206896552, 0.8527586206896552, 0.8527586206896552, 0.8527586206896552, 0.8527586206896552, 0.8527586206896552, 0.8527586206896552, 0.8527586206896552, 0.8527586206896552, 0.8527586206896552, 0.8527586206896552, 0.8527586206896552, 0.8527586206896552, 0.8527586206896552, 0.8527586206896552, 0.8595402298850576, 0.8595402298850576, 0.8595402298850576, 0.8595402298850576, 0.8595402298850576, 0.8595402298850576, 0.8595402298850576, 0.8595402298850576]}], \"average_precision_score_micro\": [{\"categories\": [\"1\", \"2\", \"4\", \"5\", \"6\", \"7\", \"8\", \"9\", \"10\", \"11\", \"12\", \"13\", \"14\", \"15\", \"16\", \"17\", \"18\", \"19\", \"20\", \"21\", \"22\", \"24\", \"25\", \"26\", \"27\", \"28\", \"29\", \"30\", \"32\", \"33\", \"34\", \"35\", \"36\", \"37\", \"38\", \"39\", \"40\", \"41\", \"42\", \"43\", \"44\", \"45\", \"46\", \"47\", \"49\", \"51\"], \"mode\": \"markers\", \"name\": \"average_precision_score_micro\", \"stepped\": false, \"type\": \"scatter\", \"data\": [0.9033793522124445, 0.9029901663317595, 0.9017457338058726, 0.9112661623232554, 0.9004580585041395, 0.9036072452773342, 0.8713172643769356, 0.7964089391804331, 0.8701016687162572, 0.8947341425637738, 0.8964126429764481, 0.8881882545249902, 0.8855061043799235, 0.6466874753087125, 0.8793560503199425, 0.8581354770570762, 0.8875890670653593, 0.9145380507917885, 0.9049000014010818, 0.8783014092839911, 0.8925401237603265, 0.9079572771230431, 0.6577925758411947, 0.8783246168551602, 0.8937346070170612, 0.9200971568115465, 0.9190332414413522, 0.9092088097482434, 0.9163122650327005, 0.9123110717403458, 0.9225050962062167, 0.7934379261428081, 0.8969343990875822, 0.9158373660239671, 0.8914529216193513, 0.9069456510750046, 0.9103549031952625, 0.9127264834175282, 0.9264793396364986, 0.9198489890943634, 0.9147796335797882, 0.914437946215872, 0.9233015462713183, 0.9172429260572097, 0.9207467477463057, 0.9300646414652924]}, {\"categories\": [\"1\", \"2\", \"4\", \"5\", \"6\", \"7\", \"8\", \"9\", \"10\", \"11\", \"12\", \"13\", \"14\", \"15\", \"16\", \"17\", \"18\", \"19\", \"20\", \"21\", \"22\", \"24\", \"25\", \"26\", \"27\", \"28\", \"29\", \"30\", \"32\", \"33\", \"34\", \"35\", \"36\", \"37\", \"38\", \"39\", \"40\", \"41\", \"42\", \"43\", \"44\", \"45\", \"46\", \"47\", \"49\", \"51\"], \"mode\": \"lines\", \"name\": \"average_precision_score_micro_max\", \"stepped\": true, \"type\": \"scatter\", \"data\": [0.9033793522124445, 0.9033793522124445, 0.9033793522124445, 0.9112661623232554, 0.9112661623232554, 0.9112661623232554, 0.9112661623232554, 0.9112661623232554, 0.9112661623232554, 0.9112661623232554, 0.9112661623232554, 0.9112661623232554, 0.9112661623232554, 0.9112661623232554, 0.9112661623232554, 0.9112661623232554, 0.9112661623232554, 0.9145380507917885, 0.9145380507917885, 0.9145380507917885, 0.9145380507917885, 0.9145380507917885, 0.9145380507917885, 0.9145380507917885, 0.9145380507917885, 0.9200971568115465, 0.9200971568115465, 0.9200971568115465, 0.9200971568115465, 0.9200971568115465, 0.9225050962062167, 0.9225050962062167, 0.9225050962062167, 0.9225050962062167, 0.9225050962062167, 0.9225050962062167, 0.9225050962062167, 0.9225050962062167, 0.9264793396364986, 0.9264793396364986, 0.9264793396364986, 0.9264793396364986, 0.9264793396364986, 0.9264793396364986, 0.9264793396364986, 0.9300646414652924]}], \"recall_score_macro\": [{\"categories\": [\"1\", \"2\", \"4\", \"5\", \"6\", \"7\", \"8\", \"9\", \"10\", \"11\", \"12\", \"13\", \"14\", \"15\", \"16\", \"17\", \"18\", \"19\", \"20\", \"21\", \"22\", \"24\", \"25\", \"26\", \"27\", \"28\", \"29\", \"30\", \"32\", \"33\", \"34\", \"35\", \"36\", \"37\", \"38\", \"39\", \"40\", \"41\", \"42\", \"43\", \"44\", \"45\", \"46\", \"47\", \"49\", \"51\"], \"mode\": \"markers\", \"name\": \"recall_score_macro\", \"stepped\": false, \"type\": \"scatter\", \"data\": [0.8130249020938379, 0.8093070402455413, 0.8127601748937561, 0.8063352737079853, 0.8014056835930405, 0.8066174659309671, 0.6819424384412943, 0.6780357113964093, 0.6782128616997037, 0.7707367252947916, 0.8096395864496552, 0.7897339131755607, 0.8055737305219571, 0.5513534193685796, 0.6909292169818486, 0.7783036861752537, 0.8079223103047474, 0.7831479179668539, 0.8100242119627131, 0.7890345986012463, 0.7818792320062343, 0.8100902301042462, 0.483048350041771, 0.663176109740755, 0.7687618828857387, 0.8040277567271275, 0.8109795424826889, 0.7923727281807946, 0.819184322383693, 0.8138635203786805, 0.8151054443585908, 0.5, 0.8281174630416622, 0.8120729768261233, 0.8216700508682774, 0.8124203670407905, 0.8235497938687297, 0.8338393055266625, 0.8306316842006201, 0.8265322661066368, 0.8042788703478061, 0.8128689184258405, 0.7967749020938381, 0.8009501413282877, 0.8180483508672868, 0.8322528963218323]}, {\"categories\": [\"1\", \"2\", \"4\", \"5\", \"6\", \"7\", \"8\", \"9\", \"10\", \"11\", \"12\", \"13\", \"14\", \"15\", \"16\", \"17\", \"18\", \"19\", \"20\", \"21\", \"22\", \"24\", \"25\", \"26\", \"27\", \"28\", \"29\", \"30\", \"32\", \"33\", \"34\", \"35\", \"36\", \"37\", \"38\", \"39\", \"40\", \"41\", \"42\", \"43\", \"44\", \"45\", \"46\", \"47\", \"49\", \"51\"], \"mode\": \"lines\", \"name\": \"recall_score_macro_max\", \"stepped\": true, \"type\": \"scatter\", \"data\": [0.8130249020938379, 0.8130249020938379, 0.8130249020938379, 0.8130249020938379, 0.8130249020938379, 0.8130249020938379, 0.8130249020938379, 0.8130249020938379, 0.8130249020938379, 0.8130249020938379, 0.8130249020938379, 0.8130249020938379, 0.8130249020938379, 0.8130249020938379, 0.8130249020938379, 0.8130249020938379, 0.8130249020938379, 0.8130249020938379, 0.8130249020938379, 0.8130249020938379, 0.8130249020938379, 0.8130249020938379, 0.8130249020938379, 0.8130249020938379, 0.8130249020938379, 0.8130249020938379, 0.8130249020938379, 0.8130249020938379, 0.819184322383693, 0.819184322383693, 0.819184322383693, 0.819184322383693, 0.8281174630416622, 0.8281174630416622, 0.8281174630416622, 0.8281174630416622, 0.8281174630416622, 0.8338393055266625, 0.8338393055266625, 0.8338393055266625, 0.8338393055266625, 0.8338393055266625, 0.8338393055266625, 0.8338393055266625, 0.8338393055266625, 0.8338393055266625]}], \"norm_macro_recall\": [{\"categories\": [\"1\", \"2\", \"4\", \"5\", \"6\", \"7\", \"8\", \"9\", \"10\", \"11\", \"12\", \"13\", \"14\", \"15\", \"16\", \"17\", \"18\", \"19\", \"20\", \"21\", \"22\", \"24\", \"25\", \"26\", \"27\", \"28\", \"29\", \"30\", \"32\", \"33\", \"34\", \"35\", \"36\", \"37\", \"38\", \"39\", \"40\", \"41\", \"42\", \"43\", \"44\", \"45\", \"46\", \"47\", \"49\", \"51\"], \"mode\": \"markers\", \"name\": \"norm_macro_recall\", \"stepped\": false, \"type\": \"scatter\", \"data\": [0.626049804187676, 0.6186140804910827, 0.6255203497875123, 0.6126705474159708, 0.6028113671860812, 0.6132349318619341, 0.3638848768825885, 0.3560714227928186, 0.3609711779448621, 0.5414734505895833, 0.6192791728993102, 0.5794678263511216, 0.6111474610439142, 0.1267612930547713, 0.3818584339636971, 0.5566073723505074, 0.6158446206094947, 0.5662958359337078, 0.6200484239254263, 0.5780691972024924, 0.5637584640124687, 0.6201804602084923, 0.01517857142857142, 0.3263522194815101, 0.5375237657714773, 0.6080555134542549, 0.6219590849653779, 0.584745456361589, 0.6383686447673862, 0.6277270407573612, 0.6302108887171816, 0.0, 0.6562349260833243, 0.6241459536522465, 0.6433401017365548, 0.6248407340815808, 0.6470995877374597, 0.667678611053325, 0.6612633684012403, 0.6530645322132737, 0.6085577406956125, 0.6257378368516812, 0.5935498041876761, 0.6019002826565756, 0.6360967017345736, 0.6645057926436644]}, {\"categories\": [\"1\", \"2\", \"4\", \"5\", \"6\", \"7\", \"8\", \"9\", \"10\", \"11\", \"12\", \"13\", \"14\", \"15\", \"16\", \"17\", \"18\", \"19\", \"20\", \"21\", \"22\", \"24\", \"25\", \"26\", \"27\", \"28\", \"29\", \"30\", \"32\", \"33\", \"34\", \"35\", \"36\", \"37\", \"38\", \"39\", \"40\", \"41\", \"42\", \"43\", \"44\", \"45\", \"46\", \"47\", \"49\", \"51\"], \"mode\": \"lines\", \"name\": \"norm_macro_recall_max\", \"stepped\": true, \"type\": \"scatter\", \"data\": [0.626049804187676, 0.626049804187676, 0.626049804187676, 0.626049804187676, 0.626049804187676, 0.626049804187676, 0.626049804187676, 0.626049804187676, 0.626049804187676, 0.626049804187676, 0.626049804187676, 0.626049804187676, 0.626049804187676, 0.626049804187676, 0.626049804187676, 0.626049804187676, 0.626049804187676, 0.626049804187676, 0.626049804187676, 0.626049804187676, 0.626049804187676, 0.626049804187676, 0.626049804187676, 0.626049804187676, 0.626049804187676, 0.626049804187676, 0.626049804187676, 0.626049804187676, 0.6383686447673862, 0.6383686447673862, 0.6383686447673862, 0.6383686447673862, 0.6562349260833243, 0.6562349260833243, 0.6562349260833243, 0.6562349260833243, 0.6562349260833243, 0.667678611053325, 0.667678611053325, 0.667678611053325, 0.667678611053325, 0.667678611053325, 0.667678611053325, 0.667678611053325, 0.667678611053325, 0.667678611053325]}], \"precision_score_macro\": [{\"categories\": [\"1\", \"2\", \"4\", \"5\", \"6\", \"7\", \"8\", \"9\", \"10\", \"11\", \"12\", \"13\", \"14\", \"15\", \"16\", \"17\", \"18\", \"19\", \"20\", \"21\", \"22\", \"24\", \"25\", \"26\", \"27\", \"28\", \"29\", \"30\", \"32\", \"33\", \"34\", \"35\", \"36\", \"37\", \"38\", \"39\", \"40\", \"41\", \"42\", \"43\", \"44\", \"45\", \"46\", \"47\", \"49\", \"51\"], \"mode\": \"markers\", \"name\": \"precision_score_macro\", \"stepped\": false, \"type\": \"scatter\", \"data\": [0.8232986049897815, 0.831683975657761, 0.8083659681821447, 0.8491384665012678, 0.8032167536588387, 0.8551824363660747, 0.8285317645317646, 0.7703082497212932, 0.7958087283087283, 0.8660682212312647, 0.7761078577854894, 0.8151354336929281, 0.7896511638945849, 0.5543597592139792, 0.8402672311585354, 0.7684041274866082, 0.7917470380496697, 0.8096246520451326, 0.8263503224464323, 0.7634099938589103, 0.7841194657147342, 0.8061002515267894, 0.4353205128205128, 0.7960542012266151, 0.8342430830039526, 0.8203334238860555, 0.8301036612577534, 0.8614074958857568, 0.8338130994037745, 0.8143602641320034, 0.8118681875811034, 0.33959770114942534, 0.7954053471468332, 0.8207038239538239, 0.817173429769405, 0.784261838307891, 0.8298142208668524, 0.8076499962026278, 0.8537335866747631, 0.8372347159802402, 0.832457619675011, 0.8344842773026917, 0.8296815858433506, 0.8299428001665854, 0.8602331993808976, 0.8559815046065046]}, {\"categories\": [\"1\", \"2\", \"4\", \"5\", \"6\", \"7\", \"8\", \"9\", \"10\", \"11\", \"12\", \"13\", \"14\", \"15\", \"16\", \"17\", \"18\", \"19\", \"20\", \"21\", \"22\", \"24\", \"25\", \"26\", \"27\", \"28\", \"29\", \"30\", \"32\", \"33\", \"34\", \"35\", \"36\", \"37\", \"38\", \"39\", \"40\", \"41\", \"42\", \"43\", \"44\", \"45\", \"46\", \"47\", \"49\", \"51\"], \"mode\": \"lines\", \"name\": \"precision_score_macro_max\", \"stepped\": true, \"type\": \"scatter\", \"data\": [0.8232986049897815, 0.831683975657761, 0.831683975657761, 0.8491384665012678, 0.8491384665012678, 0.8551824363660747, 0.8551824363660747, 0.8551824363660747, 0.8551824363660747, 0.8660682212312647, 0.8660682212312647, 0.8660682212312647, 0.8660682212312647, 0.8660682212312647, 0.8660682212312647, 0.8660682212312647, 0.8660682212312647, 0.8660682212312647, 0.8660682212312647, 0.8660682212312647, 0.8660682212312647, 0.8660682212312647, 0.8660682212312647, 0.8660682212312647, 0.8660682212312647, 0.8660682212312647, 0.8660682212312647, 0.8660682212312647, 0.8660682212312647, 0.8660682212312647, 0.8660682212312647, 0.8660682212312647, 0.8660682212312647, 0.8660682212312647, 0.8660682212312647, 0.8660682212312647, 0.8660682212312647, 0.8660682212312647, 0.8660682212312647, 0.8660682212312647, 0.8660682212312647, 0.8660682212312647, 0.8660682212312647, 0.8660682212312647, 0.8660682212312647, 0.8660682212312647]}], \"recall_score_micro\": [{\"categories\": [\"1\", \"2\", \"4\", \"5\", \"6\", \"7\", \"8\", \"9\", \"10\", \"11\", \"12\", \"13\", \"14\", \"15\", \"16\", \"17\", \"18\", \"19\", \"20\", \"21\", \"22\", \"24\", \"25\", \"26\", \"27\", \"28\", \"29\", \"30\", \"32\", \"33\", \"34\", \"35\", \"36\", \"37\", \"38\", \"39\", \"40\", \"41\", \"42\", \"43\", \"44\", \"45\", \"46\", \"47\", \"49\", \"51\"], \"mode\": \"markers\", \"name\": \"recall_score_micro\", \"stepped\": false, \"type\": \"scatter\", \"data\": [0.8358620689655172, 0.8427586206896553, 0.8324137931034482, 0.8459770114942529, 0.8291954022988506, 0.8527586206896552, 0.7826436781609195, 0.7659770114942528, 0.779080459770115, 0.8360919540229885, 0.7955172413793103, 0.822528735632184, 0.8125287356321838, 0.6389655172413793, 0.7893103448275862, 0.7957471264367817, 0.8188505747126438, 0.8258620689655173, 0.8393103448275863, 0.7924137931034483, 0.812528735632184, 0.8291954022988506, 0.6426436781609195, 0.7725287356321839, 0.8293103448275861, 0.8358620689655172, 0.8391954022988506, 0.8460919540229886, 0.8458620689655174, 0.8358620689655172, 0.8326436781609194, 0.6791954022988507, 0.815632183908046, 0.8359770114942527, 0.839080459770115, 0.8088505747126437, 0.8459770114942529, 0.8357471264367817, 0.8595402298850576, 0.849425287356322, 0.8395402298850575, 0.8427586206896553, 0.8325287356321839, 0.8394252873563218, 0.852873563218391, 0.8593103448275862]}, {\"categories\": [\"1\", \"2\", \"4\", \"5\", \"6\", \"7\", \"8\", \"9\", \"10\", \"11\", \"12\", \"13\", \"14\", \"15\", \"16\", \"17\", \"18\", \"19\", \"20\", \"21\", \"22\", \"24\", \"25\", \"26\", \"27\", \"28\", \"29\", \"30\", \"32\", \"33\", \"34\", \"35\", \"36\", \"37\", \"38\", \"39\", \"40\", \"41\", \"42\", \"43\", \"44\", \"45\", \"46\", \"47\", \"49\", \"51\"], \"mode\": \"lines\", \"name\": \"recall_score_micro_max\", \"stepped\": true, \"type\": \"scatter\", \"data\": [0.8358620689655172, 0.8427586206896553, 0.8427586206896553, 0.8459770114942529, 0.8459770114942529, 0.8527586206896552, 0.8527586206896552, 0.8527586206896552, 0.8527586206896552, 0.8527586206896552, 0.8527586206896552, 0.8527586206896552, 0.8527586206896552, 0.8527586206896552, 0.8527586206896552, 0.8527586206896552, 0.8527586206896552, 0.8527586206896552, 0.8527586206896552, 0.8527586206896552, 0.8527586206896552, 0.8527586206896552, 0.8527586206896552, 0.8527586206896552, 0.8527586206896552, 0.8527586206896552, 0.8527586206896552, 0.8527586206896552, 0.8527586206896552, 0.8527586206896552, 0.8527586206896552, 0.8527586206896552, 0.8527586206896552, 0.8527586206896552, 0.8527586206896552, 0.8527586206896552, 0.8527586206896552, 0.8527586206896552, 0.8595402298850576, 0.8595402298850576, 0.8595402298850576, 0.8595402298850576, 0.8595402298850576, 0.8595402298850576, 0.8595402298850576, 0.8595402298850576]}], \"f1_score_micro\": [{\"categories\": [\"1\", \"2\", \"4\", \"5\", \"6\", \"7\", \"8\", \"9\", \"10\", \"11\", \"12\", \"13\", \"14\", \"15\", \"16\", \"17\", \"18\", \"19\", \"20\", \"21\", \"22\", \"24\", \"25\", \"26\", \"27\", \"28\", \"29\", \"30\", \"32\", \"33\", \"34\", \"35\", \"36\", \"37\", \"38\", \"39\", \"40\", \"41\", \"42\", \"43\", \"44\", \"45\", \"46\", \"47\", \"49\", \"51\"], \"mode\": \"markers\", \"name\": \"f1_score_micro\", \"stepped\": false, \"type\": \"scatter\", \"data\": [0.8358620689655172, 0.8427586206896553, 0.8324137931034483, 0.8459770114942529, 0.8291954022988506, 0.8527586206896552, 0.7826436781609195, 0.7659770114942528, 0.779080459770115, 0.8360919540229885, 0.7955172413793103, 0.822528735632184, 0.8125287356321838, 0.6389655172413793, 0.7893103448275862, 0.7957471264367817, 0.8188505747126438, 0.8258620689655173, 0.8393103448275863, 0.7924137931034483, 0.812528735632184, 0.8291954022988506, 0.6426436781609195, 0.7725287356321839, 0.8293103448275861, 0.8358620689655172, 0.8391954022988506, 0.8460919540229886, 0.8458620689655174, 0.8358620689655172, 0.8326436781609197, 0.6791954022988507, 0.815632183908046, 0.8359770114942527, 0.839080459770115, 0.8088505747126437, 0.8459770114942529, 0.8357471264367817, 0.8595402298850576, 0.849425287356322, 0.8395402298850575, 0.8427586206896553, 0.8325287356321841, 0.8394252873563218, 0.852873563218391, 0.8593103448275862]}, {\"categories\": [\"1\", \"2\", \"4\", \"5\", \"6\", \"7\", \"8\", \"9\", \"10\", \"11\", \"12\", \"13\", \"14\", \"15\", \"16\", \"17\", \"18\", \"19\", \"20\", \"21\", \"22\", \"24\", \"25\", \"26\", \"27\", \"28\", \"29\", \"30\", \"32\", \"33\", \"34\", \"35\", \"36\", \"37\", \"38\", \"39\", \"40\", \"41\", \"42\", \"43\", \"44\", \"45\", \"46\", \"47\", \"49\", \"51\"], \"mode\": \"lines\", \"name\": \"f1_score_micro_max\", \"stepped\": true, \"type\": \"scatter\", \"data\": [0.8358620689655172, 0.8427586206896553, 0.8427586206896553, 0.8459770114942529, 0.8459770114942529, 0.8527586206896552, 0.8527586206896552, 0.8527586206896552, 0.8527586206896552, 0.8527586206896552, 0.8527586206896552, 0.8527586206896552, 0.8527586206896552, 0.8527586206896552, 0.8527586206896552, 0.8527586206896552, 0.8527586206896552, 0.8527586206896552, 0.8527586206896552, 0.8527586206896552, 0.8527586206896552, 0.8527586206896552, 0.8527586206896552, 0.8527586206896552, 0.8527586206896552, 0.8527586206896552, 0.8527586206896552, 0.8527586206896552, 0.8527586206896552, 0.8527586206896552, 0.8527586206896552, 0.8527586206896552, 0.8527586206896552, 0.8527586206896552, 0.8527586206896552, 0.8527586206896552, 0.8527586206896552, 0.8527586206896552, 0.8595402298850576, 0.8595402298850576, 0.8595402298850576, 0.8595402298850576, 0.8595402298850576, 0.8595402298850576, 0.8595402298850576, 0.8595402298850576]}], \"f1_score_macro\": [{\"categories\": [\"1\", \"2\", \"4\", \"5\", \"6\", \"7\", \"8\", \"9\", \"10\", \"11\", \"12\", \"13\", \"14\", \"15\", \"16\", \"17\", \"18\", \"19\", \"20\", \"21\", \"22\", \"24\", \"25\", \"26\", \"27\", \"28\", \"29\", \"30\", \"32\", \"33\", \"34\", \"35\", \"36\", \"37\", \"38\", \"39\", \"40\", \"41\", \"42\", \"43\", \"44\", \"45\", \"46\", \"47\", \"49\", \"51\"], \"mode\": \"markers\", \"name\": \"f1_score_macro\", \"stepped\": false, \"type\": \"scatter\", \"data\": [0.8078501228997539, 0.8090453231419105, 0.801495453449742, 0.8147358962310504, 0.7962092038732599, 0.8182469528556349, 0.6874635041749467, 0.6844538166645457, 0.679739339282089, 0.786201372652673, 0.7739268642118778, 0.786520686032605, 0.7852727589962746, 0.5251633085767229, 0.6994361627544196, 0.7647339862780551, 0.7897990767402532, 0.7859560894600321, 0.8073581408991085, 0.7636403936284473, 0.7764579114373278, 0.7979218988565682, 0.41939517757999945, 0.6641564063001983, 0.7800442186857623, 0.800269597323741, 0.8103274940034245, 0.8076339761811411, 0.8165247719650154, 0.8047743751420995, 0.8023815936900827, 0.4024893878511494, 0.7945891487474637, 0.8049249441274613, 0.8127809588951861, 0.7845919035913834, 0.819888031012989, 0.8133958089112424, 0.830225894224528, 0.8202557152532706, 0.8056370088835145, 0.8103686036186035, 0.7983745861400308, 0.8029440821239577, 0.8225586981132542, 0.8321523872315162]}, {\"categories\": [\"1\", \"2\", \"4\", \"5\", \"6\", \"7\", \"8\", \"9\", \"10\", \"11\", \"12\", \"13\", \"14\", \"15\", \"16\", \"17\", \"18\", \"19\", \"20\", \"21\", \"22\", \"24\", \"25\", \"26\", \"27\", \"28\", \"29\", \"30\", \"32\", \"33\", \"34\", \"35\", \"36\", \"37\", \"38\", \"39\", \"40\", \"41\", \"42\", \"43\", \"44\", \"45\", \"46\", \"47\", \"49\", \"51\"], \"mode\": \"lines\", \"name\": \"f1_score_macro_max\", \"stepped\": true, \"type\": \"scatter\", \"data\": [0.8078501228997539, 0.8090453231419105, 0.8090453231419105, 0.8147358962310504, 0.8147358962310504, 0.8182469528556349, 0.8182469528556349, 0.8182469528556349, 0.8182469528556349, 0.8182469528556349, 0.8182469528556349, 0.8182469528556349, 0.8182469528556349, 0.8182469528556349, 0.8182469528556349, 0.8182469528556349, 0.8182469528556349, 0.8182469528556349, 0.8182469528556349, 0.8182469528556349, 0.8182469528556349, 0.8182469528556349, 0.8182469528556349, 0.8182469528556349, 0.8182469528556349, 0.8182469528556349, 0.8182469528556349, 0.8182469528556349, 0.8182469528556349, 0.8182469528556349, 0.8182469528556349, 0.8182469528556349, 0.8182469528556349, 0.8182469528556349, 0.8182469528556349, 0.8182469528556349, 0.819888031012989, 0.819888031012989, 0.830225894224528, 0.830225894224528, 0.830225894224528, 0.830225894224528, 0.830225894224528, 0.830225894224528, 0.830225894224528, 0.8321523872315162]}], \"matthews_correlation\": [{\"categories\": [\"1\", \"2\", \"4\", \"5\", \"6\", \"7\", \"8\", \"9\", \"10\", \"11\", \"12\", \"13\", \"14\", \"15\", \"16\", \"17\", \"18\", \"19\", \"20\", \"21\", \"22\", \"24\", \"25\", \"26\", \"27\", \"28\", \"29\", \"30\", \"32\", \"33\", \"34\", \"35\", \"36\", \"37\", \"38\", \"39\", \"40\", \"41\", \"42\", \"43\", \"44\", \"45\", \"46\", \"47\", \"49\", \"51\"], \"mode\": \"markers\", \"name\": \"matthews_correlation\", \"stepped\": false, \"type\": \"scatter\", \"data\": [0.6345538749068885, 0.6386883443921401, 0.619532329016711, 0.6523567064323234, 0.6038065238940646, 0.6585297332537224, 0.4800831675145867, 0.4352854456898543, 0.4546414036842349, 0.6240530063909105, 0.5835062966960971, 0.602374560767889, 0.5935898238000901, 0.10426477830980234, 0.4988969435423692, 0.5460698008383635, 0.5985871752679198, 0.591194297640371, 0.6346450467271837, 0.5505880376739153, 0.5650841684944875, 0.614583756457544, -0.03896597943853032, 0.4305243882919417, 0.5978057098886025, 0.622115703375182, 0.6393968851050753, 0.6488242434810443, 0.6512386927293923, 0.6268489117693183, 0.6252413951244264, 0.0, 0.6213073332060753, 0.6309986037845599, 0.6379343618804202, 0.5949180952966204, 0.6521018347619576, 0.6403909301016681, 0.6815371988221154, 0.6619454648174743, 0.6344903608724055, 0.645231802447919, 0.6220912995443197, 0.6285024736520771, 0.6743089202892204, 0.6854341113441387]}, {\"categories\": [\"1\", \"2\", \"4\", \"5\", \"6\", \"7\", \"8\", \"9\", \"10\", \"11\", \"12\", \"13\", \"14\", \"15\", \"16\", \"17\", \"18\", \"19\", \"20\", \"21\", \"22\", \"24\", \"25\", \"26\", \"27\", \"28\", \"29\", \"30\", \"32\", \"33\", \"34\", \"35\", \"36\", \"37\", \"38\", \"39\", \"40\", \"41\", \"42\", \"43\", \"44\", \"45\", \"46\", \"47\", \"49\", \"51\"], \"mode\": \"lines\", \"name\": \"matthews_correlation_max\", \"stepped\": true, \"type\": \"scatter\", \"data\": [0.6345538749068885, 0.6386883443921401, 0.6386883443921401, 0.6523567064323234, 0.6523567064323234, 0.6585297332537224, 0.6585297332537224, 0.6585297332537224, 0.6585297332537224, 0.6585297332537224, 0.6585297332537224, 0.6585297332537224, 0.6585297332537224, 0.6585297332537224, 0.6585297332537224, 0.6585297332537224, 0.6585297332537224, 0.6585297332537224, 0.6585297332537224, 0.6585297332537224, 0.6585297332537224, 0.6585297332537224, 0.6585297332537224, 0.6585297332537224, 0.6585297332537224, 0.6585297332537224, 0.6585297332537224, 0.6585297332537224, 0.6585297332537224, 0.6585297332537224, 0.6585297332537224, 0.6585297332537224, 0.6585297332537224, 0.6585297332537224, 0.6585297332537224, 0.6585297332537224, 0.6585297332537224, 0.6585297332537224, 0.6815371988221154, 0.6815371988221154, 0.6815371988221154, 0.6815371988221154, 0.6815371988221154, 0.6815371988221154, 0.6815371988221154, 0.6854341113441387]}], \"precision_score_weighted\": [{\"categories\": [\"1\", \"2\", \"4\", \"5\", \"6\", \"7\", \"8\", \"9\", \"10\", \"11\", \"12\", \"13\", \"14\", \"15\", \"16\", \"17\", \"18\", \"19\", \"20\", \"21\", \"22\", \"24\", \"25\", \"26\", \"27\", \"28\", \"29\", \"30\", \"32\", \"33\", \"34\", \"35\", \"36\", \"37\", \"38\", \"39\", \"40\", \"41\", \"42\", \"43\", \"44\", \"45\", \"46\", \"47\", \"49\", \"51\"], \"mode\": \"markers\", \"name\": \"precision_score_weighted\", \"stepped\": false, \"type\": \"scatter\", \"data\": [0.8506678986628277, 0.8556200271052109, 0.8487872201046642, 0.8592068361926198, 0.8381025488206271, 0.8610060223143945, 0.8167351615391846, 0.7837569262377359, 0.8009688775464638, 0.8559695846521184, 0.8395751448591738, 0.8438501419573876, 0.8391650100084764, 0.6261394969463244, 0.8236848904200729, 0.8155590202709659, 0.8440255726830136, 0.8350718081947862, 0.8505996875299724, 0.8222716792872659, 0.8248354758284867, 0.8462865947130421, 0.5298995200202097, 0.7965013089507342, 0.8421278292671845, 0.8505545517700689, 0.8525631424973298, 0.8598824303965233, 0.8586965607411635, 0.8482883767351534, 0.8485641745206742, 0.47055053507728895, 0.855122520686949, 0.8510888441060855, 0.8532821274447728, 0.8432606996418249, 0.8555518255690668, 0.8557932082033716, 0.8721033813155517, 0.8656132512723482, 0.8517997154020392, 0.8572630173204517, 0.8490927462190477, 0.8525912406742506, 0.8691330806822076, 0.8736864816537231]}, {\"categories\": [\"1\", \"2\", \"4\", \"5\", \"6\", \"7\", \"8\", \"9\", \"10\", \"11\", \"12\", \"13\", \"14\", \"15\", \"16\", \"17\", \"18\", \"19\", \"20\", \"21\", \"22\", \"24\", \"25\", \"26\", \"27\", \"28\", \"29\", \"30\", \"32\", \"33\", \"34\", \"35\", \"36\", \"37\", \"38\", \"39\", \"40\", \"41\", \"42\", \"43\", \"44\", \"45\", \"46\", \"47\", \"49\", \"51\"], \"mode\": \"lines\", \"name\": \"precision_score_weighted_max\", \"stepped\": true, \"type\": \"scatter\", \"data\": [0.8506678986628277, 0.8556200271052109, 0.8556200271052109, 0.8592068361926198, 0.8592068361926198, 0.8610060223143945, 0.8610060223143945, 0.8610060223143945, 0.8610060223143945, 0.8610060223143945, 0.8610060223143945, 0.8610060223143945, 0.8610060223143945, 0.8610060223143945, 0.8610060223143945, 0.8610060223143945, 0.8610060223143945, 0.8610060223143945, 0.8610060223143945, 0.8610060223143945, 0.8610060223143945, 0.8610060223143945, 0.8610060223143945, 0.8610060223143945, 0.8610060223143945, 0.8610060223143945, 0.8610060223143945, 0.8610060223143945, 0.8610060223143945, 0.8610060223143945, 0.8610060223143945, 0.8610060223143945, 0.8610060223143945, 0.8610060223143945, 0.8610060223143945, 0.8610060223143945, 0.8610060223143945, 0.8610060223143945, 0.8721033813155517, 0.8721033813155517, 0.8721033813155517, 0.8721033813155517, 0.8721033813155517, 0.8721033813155517, 0.8721033813155517, 0.8736864816537231]}], \"log_loss\": [{\"categories\": [\"1\", \"2\", \"4\", \"5\", \"6\", \"7\", \"8\", \"9\", \"10\", \"11\", \"12\", \"13\", \"14\", \"15\", \"16\", \"17\", \"18\", \"19\", \"20\", \"21\", \"22\", \"24\", \"25\", \"26\", \"27\", \"28\", \"29\", \"30\", \"32\", \"33\", \"34\", \"35\", \"36\", \"37\", \"38\", \"39\", \"40\", \"41\", \"42\", \"43\", \"44\", \"45\", \"46\", \"47\", \"49\", \"51\"], \"mode\": \"markers\", \"name\": \"log_loss\", \"stepped\": false, \"type\": \"scatter\", \"data\": [0.41764279466886123, 0.3934619768140061, 0.3944382883736034, 0.3975684500388822, 0.48090468155976174, 0.3970962968863393, 0.47051981799908893, 1.2837639362986895, 0.475006130979135, 0.4349485343059012, 0.43767626911936997, 0.4183119399898164, 0.45938956365454037, 0.7617709563916407, 0.46880511014999576, 0.63221316711851, 0.527144011386144, 0.4652367527361444, 0.48475732240522545, 0.5218976644659197, 0.4762757791691855, 0.41064775343476284, 0.6670262838764704, 0.4775153654860594, 0.4535041639358635, 0.36488031273931326, 0.3630664696403344, 0.40246129632409033, 0.38977536659168127, 0.4920934378969738, 0.3914347797581329, 0.5985995524035628, 0.44234942854076315, 0.36690825213760353, 0.4765719100310541, 0.46687139600617494, 0.4251454982541419, 0.43068543234389445, 0.3484000201659111, 0.3722419790997211, 0.3850001857245947, 0.3817523471092498, 0.3616059876736083, 0.3697720440484881, 0.35731579809149566, 0.3649091409216298]}, {\"categories\": [\"1\", \"2\", \"4\", \"5\", \"6\", \"7\", \"8\", \"9\", \"10\", \"11\", \"12\", \"13\", \"14\", \"15\", \"16\", \"17\", \"18\", \"19\", \"20\", \"21\", \"22\", \"24\", \"25\", \"26\", \"27\", \"28\", \"29\", \"30\", \"32\", \"33\", \"34\", \"35\", \"36\", \"37\", \"38\", \"39\", \"40\", \"41\", \"42\", \"43\", \"44\", \"45\", \"46\", \"47\", \"49\", \"51\"], \"mode\": \"lines\", \"name\": \"log_loss_min\", \"stepped\": true, \"type\": \"scatter\", \"data\": [0.41764279466886123, 0.3934619768140061, 0.3934619768140061, 0.3934619768140061, 0.3934619768140061, 0.3934619768140061, 0.3934619768140061, 0.3934619768140061, 0.3934619768140061, 0.3934619768140061, 0.3934619768140061, 0.3934619768140061, 0.3934619768140061, 0.3934619768140061, 0.3934619768140061, 0.3934619768140061, 0.3934619768140061, 0.3934619768140061, 0.3934619768140061, 0.3934619768140061, 0.3934619768140061, 0.3934619768140061, 0.3934619768140061, 0.3934619768140061, 0.3934619768140061, 0.36488031273931326, 0.3630664696403344, 0.3630664696403344, 0.3630664696403344, 0.3630664696403344, 0.3630664696403344, 0.3630664696403344, 0.3630664696403344, 0.3630664696403344, 0.3630664696403344, 0.3630664696403344, 0.3630664696403344, 0.3630664696403344, 0.3484000201659111, 0.3484000201659111, 0.3484000201659111, 0.3484000201659111, 0.3484000201659111, 0.3484000201659111, 0.3484000201659111, 0.3484000201659111]}]}, \"metricName\": null, \"primaryMetricName\": \"AUC_weighted\", \"showLegend\": false}, \"run_metrics\": [{\"name\": \"experiment_status\", \"run_id\": \"AutoML_03202041-e1a9-4c4a-b446-9912b5836698\", \"categories\": [0, 1, 2, 3, 4, 5, 6, 7, 8, 9, 10, 11, 12, 13], \"series\": [{\"data\": [\"DatasetEvaluation\", \"FeaturesGeneration\", \"DatasetFeaturization\", \"DatasetFeaturizationCompleted\", \"DatasetCrossValidationSplit\", \"ModelSelection\", \"BestRunExplainModel\", \"ModelExplanationDataSetSetup\", \"PickSurrogateModel\", \"EngineeredFeatureExplanations\", \"EngineeredFeatureExplanations\", \"RawFeaturesExplanations\", \"RawFeaturesExplanations\", \"BestRunExplainModel\"]}]}, {\"name\": \"experiment_status_description\", \"run_id\": \"AutoML_03202041-e1a9-4c4a-b446-9912b5836698\", \"categories\": [0, 1, 2, 3, 4, 5, 6, 7, 8, 9, 10, 11, 12, 13], \"series\": [{\"data\": [\"Gathering dataset statistics.\", \"Generating features for the dataset.\", \"Beginning to fit featurizers and featurize the dataset.\", \"Completed fit featurizers and featurizing the dataset.\", \"Generating individually featurized CV splits.\", \"Beginning model selection.\", \"Best run model explanations started\", \"Model explanations data setup completed\", \"Choosing LightGBM as the surrogate model for explanations\", \"Computation of engineered features started\", \"Computation of engineered features completed\", \"Computation of raw features started\", \"Computation of raw features completed\", \"Best run model explanations completed\"]}]}, {\"name\": \"accuracy\", \"run_id\": \"AutoML_03202041-e1a9-4c4a-b446-9912b5836698\", \"categories\": [0], \"series\": [{\"data\": [0.8593103448275862]}]}, {\"name\": \"average_precision_score_macro\", \"run_id\": \"AutoML_03202041-e1a9-4c4a-b446-9912b5836698\", \"categories\": [0], \"series\": [{\"data\": [0.9150195036408331]}]}, {\"name\": \"f1_score_macro\", \"run_id\": \"AutoML_03202041-e1a9-4c4a-b446-9912b5836698\", \"categories\": [0], \"series\": [{\"data\": [0.8321523872315162]}]}, {\"name\": \"average_precision_score_micro\", \"run_id\": \"AutoML_03202041-e1a9-4c4a-b446-9912b5836698\", \"categories\": [0], \"series\": [{\"data\": [0.9300646414652924]}]}, {\"name\": \"f1_score_weighted\", \"run_id\": \"AutoML_03202041-e1a9-4c4a-b446-9912b5836698\", \"categories\": [0], \"series\": [{\"data\": [0.8565721467762923]}]}, {\"name\": \"AUC_micro\", \"run_id\": \"AutoML_03202041-e1a9-4c4a-b446-9912b5836698\", \"categories\": [0], \"series\": [{\"data\": [0.9263472057074912]}]}, {\"name\": \"matthews_correlation\", \"run_id\": \"AutoML_03202041-e1a9-4c4a-b446-9912b5836698\", \"categories\": [0], \"series\": [{\"data\": [0.6854341113441387]}]}, {\"name\": \"precision_score_micro\", \"run_id\": \"AutoML_03202041-e1a9-4c4a-b446-9912b5836698\", \"categories\": [0], \"series\": [{\"data\": [0.8593103448275862]}]}, {\"name\": \"AUC_macro\", \"run_id\": \"AutoML_03202041-e1a9-4c4a-b446-9912b5836698\", \"categories\": [0], \"series\": [{\"data\": [0.920757517008375]}]}, {\"name\": \"recall_score_macro\", \"run_id\": \"AutoML_03202041-e1a9-4c4a-b446-9912b5836698\", \"categories\": [0], \"series\": [{\"data\": [0.8322528963218323]}]}, {\"name\": \"weighted_accuracy\", \"run_id\": \"AutoML_03202041-e1a9-4c4a-b446-9912b5836698\", \"categories\": [0], \"series\": [{\"data\": [0.8761533052789211]}]}, {\"name\": \"f1_score_micro\", \"run_id\": \"AutoML_03202041-e1a9-4c4a-b446-9912b5836698\", \"categories\": [0], \"series\": [{\"data\": [0.8593103448275862]}]}, {\"name\": \"balanced_accuracy\", \"run_id\": \"AutoML_03202041-e1a9-4c4a-b446-9912b5836698\", \"categories\": [0], \"series\": [{\"data\": [0.8322528963218323]}]}, {\"name\": \"average_precision_score_weighted\", \"run_id\": \"AutoML_03202041-e1a9-4c4a-b446-9912b5836698\", \"categories\": [0], \"series\": [{\"data\": [0.9363472810342028]}]}, {\"name\": \"AUC_weighted\", \"run_id\": \"AutoML_03202041-e1a9-4c4a-b446-9912b5836698\", \"categories\": [0], \"series\": [{\"data\": [0.920757517008375]}]}, {\"name\": \"precision_score_macro\", \"run_id\": \"AutoML_03202041-e1a9-4c4a-b446-9912b5836698\", \"categories\": [0], \"series\": [{\"data\": [0.8559815046065046]}]}, {\"name\": \"precision_score_weighted\", \"run_id\": \"AutoML_03202041-e1a9-4c4a-b446-9912b5836698\", \"categories\": [0], \"series\": [{\"data\": [0.8736864816537231]}]}, {\"name\": \"log_loss\", \"run_id\": \"AutoML_03202041-e1a9-4c4a-b446-9912b5836698\", \"categories\": [0], \"series\": [{\"data\": [0.3649091409216298]}]}, {\"name\": \"recall_score_micro\", \"run_id\": \"AutoML_03202041-e1a9-4c4a-b446-9912b5836698\", \"categories\": [0], \"series\": [{\"data\": [0.8593103448275862]}]}, {\"name\": \"norm_macro_recall\", \"run_id\": \"AutoML_03202041-e1a9-4c4a-b446-9912b5836698\", \"categories\": [0], \"series\": [{\"data\": [0.6645057926436644]}]}, {\"name\": \"recall_score_weighted\", \"run_id\": \"AutoML_03202041-e1a9-4c4a-b446-9912b5836698\", \"categories\": [0], \"series\": [{\"data\": [0.8593103448275862]}]}], \"run_logs\": \"\\nRun is completed.\", \"graph\": {}, \"widget_settings\": {\"childWidgetDisplay\": \"popup\", \"send_telemetry\": false, \"log_level\": \"INFO\", \"sdk_version\": \"1.28.0\"}, \"loading\": false}"
          },
          "metadata": {}
        }
      ],
      "execution_count": 8,
      "metadata": {
        "gather": {
          "logged": 1622291656347
        },
        "jupyter": {
          "outputs_hidden": false,
          "source_hidden": false
        },
        "nteract": {
          "transient": {
            "deleting": false
          }
        }
      }
    },
    {
      "cell_type": "markdown",
      "source": [
        "## Best Model\n",
        "\n",
        "TODO: In the cell below, get the best model from the automl experiments and display all the properties of the model.\n",
        "\n"
      ],
      "metadata": {}
    },
    {
      "cell_type": "code",
      "source": [
        "best_run = automl_run1.get_best_child()\r\n",
        "best_run.get_metrics()"
      ],
      "outputs": [
        {
          "output_type": "execute_result",
          "execution_count": 11,
          "data": {
            "text/plain": "{'recall_score_macro': 0.8322528963218323,\n 'recall_score_weighted': 0.8593103448275862,\n 'f1_score_weighted': 0.8565721467762923,\n 'norm_macro_recall': 0.6645057926436644,\n 'log_loss': 0.3649091409216298,\n 'precision_score_micro': 0.8593103448275862,\n 'f1_score_micro': 0.8593103448275862,\n 'AUC_weighted': 0.920757517008375,\n 'matthews_correlation': 0.6854341113441387,\n 'recall_score_micro': 0.8593103448275862,\n 'average_precision_score_macro': 0.9150195036408331,\n 'accuracy': 0.8593103448275862,\n 'balanced_accuracy': 0.8322528963218323,\n 'AUC_micro': 0.9263472057074912,\n 'weighted_accuracy': 0.8761533052789211,\n 'precision_score_weighted': 0.8736864816537231,\n 'average_precision_score_micro': 0.9300646414652924,\n 'AUC_macro': 0.920757517008375,\n 'precision_score_macro': 0.8559815046065046,\n 'average_precision_score_weighted': 0.9363472810342028,\n 'f1_score_macro': 0.8321523872315162,\n 'confusion_matrix': 'aml://artifactId/ExperimentRun/dcid.AutoML_03202041-e1a9-4c4a-b446-9912b5836698_51/confusion_matrix',\n 'accuracy_table': 'aml://artifactId/ExperimentRun/dcid.AutoML_03202041-e1a9-4c4a-b446-9912b5836698_51/accuracy_table'}"
          },
          "metadata": {}
        }
      ],
      "execution_count": 11,
      "metadata": {
        "gather": {
          "logged": 1622293036089
        },
        "jupyter": {
          "outputs_hidden": false,
          "source_hidden": false
        },
        "nteract": {
          "transient": {
            "deleting": false
          }
        }
      }
    },
    {
      "cell_type": "code",
      "source": [
        "print('Besr run id : ', best_run.id)"
      ],
      "outputs": [
        {
          "output_type": "stream",
          "name": "stdout",
          "text": [
            "Besr run id :  AutoML_03202041-e1a9-4c4a-b446-9912b5836698_51\n"
          ]
        }
      ],
      "execution_count": 12,
      "metadata": {
        "collapsed": true,
        "jupyter": {
          "source_hidden": false,
          "outputs_hidden": false
        },
        "nteract": {
          "transient": {
            "deleting": false
          }
        },
        "gather": {
          "logged": 1622293171327
        }
      }
    },
    {
      "cell_type": "code",
      "source": [
        "#TODO: Save the best model\r\n",
        "best_automl_model, onnx_model = automl_run1.get_output(return_onnx_model=True)\r\n",
        "OnnxConverter.save_onnx_model(onnx_model, './automl_model.onnx')"
      ],
      "outputs": [],
      "execution_count": 15,
      "metadata": {
        "gather": {
          "logged": 1622293780169
        },
        "jupyter": {
          "outputs_hidden": false,
          "source_hidden": false
        },
        "nteract": {
          "transient": {
            "deleting": false
          }
        }
      }
    },
    {
      "cell_type": "markdown",
      "source": [
        "## Model Deployment\n",
        "\n",
        "Remember you have to deploy only one of the two models you trained.. Perform the steps in the rest of this notebook only if you wish to deploy this model.\n",
        "\n",
        "TODO: In the cell below, register the model, create an inference config and deploy the model as a web service."
      ],
      "metadata": {}
    },
    {
      "cell_type": "code",
      "source": [
        "model = best_run.register_model(model_path='outputs/model.onnx', model_name='mdl-heart-failure-automl-onnx')"
      ],
      "outputs": [],
      "execution_count": 25,
      "metadata": {
        "gather": {
          "logged": 1622295455022
        },
        "jupyter": {
          "outputs_hidden": false,
          "source_hidden": false
        },
        "nteract": {
          "transient": {
            "deleting": false
          }
        }
      }
    },
    {
      "cell_type": "code",
      "source": [
        "best_automl_model."
      ],
      "outputs": [],
      "execution_count": null,
      "metadata": {
        "collapsed": true,
        "jupyter": {
          "source_hidden": false,
          "outputs_hidden": false
        },
        "nteract": {
          "transient": {
            "deleting": false
          }
        }
      }
    },
    {
      "cell_type": "code",
      "source": [
        "myenv = Environment.get(workspace=ws, name=\"AzureML-Scikit-learn0.24-Cuda11-OpenMpi4.1.0-py36\")\r\n",
        "script_path = './result/scoring_file_v_2_0_0.py'\r\n",
        "inference_config = InferenceConfig(entry_script=script_path, \r\n",
        "environment=myenv)"
      ],
      "outputs": [],
      "execution_count": 22,
      "metadata": {
        "collapsed": true,
        "jupyter": {
          "source_hidden": false,
          "outputs_hidden": false
        },
        "nteract": {
          "transient": {
            "deleting": false
          }
        },
        "gather": {
          "logged": 1622295071584
        }
      }
    },
    {
      "cell_type": "code",
      "source": [
        "aci_config = AciWebservice.deploy_configuration(cpu_cores=1, memory_gb=1)"
      ],
      "outputs": [],
      "execution_count": 23,
      "metadata": {
        "collapsed": true,
        "jupyter": {
          "source_hidden": false,
          "outputs_hidden": false
        },
        "nteract": {
          "transient": {
            "deleting": false
          }
        },
        "gather": {
          "logged": 1622295191650
        }
      }
    },
    {
      "cell_type": "code",
      "source": [
        "service = Model.deploy(\r\n",
        "    workspace=ws,\r\n",
        "    name=\"mdldply-heart-failure-aci\",\r\n",
        "    models=[model],\r\n",
        "    inference_config=inference_config,\r\n",
        "    deployment_config=aci_config,\r\n",
        "    overwrite=True\r\n",
        ")\r\n",
        "service.wait_for_deployment(show_output=True)"
      ],
      "outputs": [
        {
          "output_type": "stream",
          "name": "stdout",
          "text": [
            "Tips: You can try get_logs(): https://aka.ms/debugimage#dockerlog or local deployment: https://aka.ms/debugimage#debug-locally to debug if deployment takes longer than 10 minutes.\n",
            "Running\n",
            "2021-05-29 13:37:44+00:00 Creating Container Registry if not exists.\n",
            "2021-05-29 13:37:45+00:00 Registering the environment.\n",
            "2021-05-29 13:37:46+00:00 Use the existing image.\n",
            "2021-05-29 13:37:46+00:00 Generating deployment configuration.\n",
            "2021-05-29 13:37:47+00:00 Submitting deployment to compute.\n",
            "2021-05-29 13:37:50+00:00 Checking the status of deployment mdldply-heart-failure-aci..\n",
            "2021-05-29 13:51:24+00:00 Checking the status of inference endpoint mdldply-heart-failure-aci.\n",
            "Failed\n"
          ]
        },
        {
          "output_type": "stream",
          "name": "stderr",
          "text": [
            "Service deployment polling reached non-successful terminal state, current service state: Unhealthy\n",
            "Operation ID: c2bd5022-7fc7-43dc-abe1-c4001de3e739\n",
            "More information can be found using '.get_logs()'\n",
            "Error:\n",
            "{\n",
            "  \"code\": \"AciDeploymentFailed\",\n",
            "  \"statusCode\": 400,\n",
            "  \"message\": \"Aci Deployment failed with exception: Error in entry script, ModuleNotFoundError: No module named 'azureml.automl', please run print(service.get_logs()) to get details.\",\n",
            "  \"details\": [\n",
            "    {\n",
            "      \"code\": \"CrashLoopBackOff\",\n",
            "      \"message\": \"Error in entry script, ModuleNotFoundError: No module named 'azureml.automl', please run print(service.get_logs()) to get details.\"\n",
            "    }\n",
            "  ]\n",
            "}\n",
            "\n"
          ]
        },
        {
          "output_type": "error",
          "ename": "WebserviceException",
          "evalue": "WebserviceException:\n\tMessage: Service deployment polling reached non-successful terminal state, current service state: Unhealthy\nOperation ID: c2bd5022-7fc7-43dc-abe1-c4001de3e739\nMore information can be found using '.get_logs()'\nError:\n{\n  \"code\": \"AciDeploymentFailed\",\n  \"statusCode\": 400,\n  \"message\": \"Aci Deployment failed with exception: Error in entry script, ModuleNotFoundError: No module named 'azureml.automl', please run print(service.get_logs()) to get details.\",\n  \"details\": [\n    {\n      \"code\": \"CrashLoopBackOff\",\n      \"message\": \"Error in entry script, ModuleNotFoundError: No module named 'azureml.automl', please run print(service.get_logs()) to get details.\"\n    }\n  ]\n}\n\tInnerException None\n\tErrorResponse \n{\n    \"error\": {\n        \"message\": \"Service deployment polling reached non-successful terminal state, current service state: Unhealthy\\nOperation ID: c2bd5022-7fc7-43dc-abe1-c4001de3e739\\nMore information can be found using '.get_logs()'\\nError:\\n{\\n  \\\"code\\\": \\\"AciDeploymentFailed\\\",\\n  \\\"statusCode\\\": 400,\\n  \\\"message\\\": \\\"Aci Deployment failed with exception: Error in entry script, ModuleNotFoundError: No module named 'azureml.automl', please run print(service.get_logs()) to get details.\\\",\\n  \\\"details\\\": [\\n    {\\n      \\\"code\\\": \\\"CrashLoopBackOff\\\",\\n      \\\"message\\\": \\\"Error in entry script, ModuleNotFoundError: No module named 'azureml.automl', please run print(service.get_logs()) to get details.\\\"\\n    }\\n  ]\\n}\"\n    }\n}",
          "traceback": [
            "\u001b[0;31m---------------------------------------------------------------------------\u001b[0m",
            "\u001b[0;31mWebserviceException\u001b[0m                       Traceback (most recent call last)",
            "\u001b[0;32m<ipython-input-26-8dadfdcab03e>\u001b[0m in \u001b[0;36m<module>\u001b[0;34m\u001b[0m\n\u001b[1;32m      7\u001b[0m     \u001b[0moverwrite\u001b[0m\u001b[0;34m=\u001b[0m\u001b[0;32mTrue\u001b[0m\u001b[0;34m\u001b[0m\u001b[0;34m\u001b[0m\u001b[0m\n\u001b[1;32m      8\u001b[0m )\n\u001b[0;32m----> 9\u001b[0;31m \u001b[0mservice\u001b[0m\u001b[0;34m.\u001b[0m\u001b[0mwait_for_deployment\u001b[0m\u001b[0;34m(\u001b[0m\u001b[0mshow_output\u001b[0m\u001b[0;34m=\u001b[0m\u001b[0;32mTrue\u001b[0m\u001b[0;34m)\u001b[0m\u001b[0;34m\u001b[0m\u001b[0;34m\u001b[0m\u001b[0m\n\u001b[0m",
            "\u001b[0;32m/anaconda/envs/azureml_py36/lib/python3.6/site-packages/azureml/core/webservice/webservice.py\u001b[0m in \u001b[0;36mwait_for_deployment\u001b[0;34m(self, show_output, timeout_sec)\u001b[0m\n\u001b[1;32m    921\u001b[0m                                           \u001b[0;34m'Error:\\n'\u001b[0m\u001b[0;34m\u001b[0m\u001b[0;34m\u001b[0m\u001b[0m\n\u001b[1;32m    922\u001b[0m                                           '{}'.format(self.state, self._operation_endpoint.split('/')[-1],\n\u001b[0;32m--> 923\u001b[0;31m                                                       logs_response, format_error_response), logger=module_logger)\n\u001b[0m\u001b[1;32m    924\u001b[0m             print('{} service creation operation finished, operation \"{}\"'.format(self._webservice_type,\n\u001b[1;32m    925\u001b[0m                                                                                   operation_state))\n",
            "\u001b[0;31mWebserviceException\u001b[0m: WebserviceException:\n\tMessage: Service deployment polling reached non-successful terminal state, current service state: Unhealthy\nOperation ID: c2bd5022-7fc7-43dc-abe1-c4001de3e739\nMore information can be found using '.get_logs()'\nError:\n{\n  \"code\": \"AciDeploymentFailed\",\n  \"statusCode\": 400,\n  \"message\": \"Aci Deployment failed with exception: Error in entry script, ModuleNotFoundError: No module named 'azureml.automl', please run print(service.get_logs()) to get details.\",\n  \"details\": [\n    {\n      \"code\": \"CrashLoopBackOff\",\n      \"message\": \"Error in entry script, ModuleNotFoundError: No module named 'azureml.automl', please run print(service.get_logs()) to get details.\"\n    }\n  ]\n}\n\tInnerException None\n\tErrorResponse \n{\n    \"error\": {\n        \"message\": \"Service deployment polling reached non-successful terminal state, current service state: Unhealthy\\nOperation ID: c2bd5022-7fc7-43dc-abe1-c4001de3e739\\nMore information can be found using '.get_logs()'\\nError:\\n{\\n  \\\"code\\\": \\\"AciDeploymentFailed\\\",\\n  \\\"statusCode\\\": 400,\\n  \\\"message\\\": \\\"Aci Deployment failed with exception: Error in entry script, ModuleNotFoundError: No module named 'azureml.automl', please run print(service.get_logs()) to get details.\\\",\\n  \\\"details\\\": [\\n    {\\n      \\\"code\\\": \\\"CrashLoopBackOff\\\",\\n      \\\"message\\\": \\\"Error in entry script, ModuleNotFoundError: No module named 'azureml.automl', please run print(service.get_logs()) to get details.\\\"\\n    }\\n  ]\\n}\"\n    }\n}"
          ]
        }
      ],
      "execution_count": 26,
      "metadata": {
        "collapsed": true,
        "jupyter": {
          "source_hidden": false,
          "outputs_hidden": false
        },
        "nteract": {
          "transient": {
            "deleting": false
          }
        }
      }
    },
    {
      "cell_type": "code",
      "source": [
        "print(service.get_logs())"
      ],
      "outputs": [
        {
          "output_type": "stream",
          "name": "stdout",
          "text": [
            "None\n"
          ]
        }
      ],
      "execution_count": 28,
      "metadata": {
        "collapsed": true,
        "jupyter": {
          "source_hidden": false,
          "outputs_hidden": false
        },
        "nteract": {
          "transient": {
            "deleting": false
          }
        },
        "gather": {
          "logged": 1622296778967
        }
      }
    },
    {
      "cell_type": "code",
      "source": [
        "name=\"mdldply-heart-failure-aci\"\r\n",
        "service = Webservice(name=name, workspace=ws)\r\n",
        "service.update(enable_app_insights=True)"
      ],
      "outputs": [],
      "execution_count": null,
      "metadata": {
        "collapsed": true,
        "jupyter": {
          "source_hidden": false,
          "outputs_hidden": false
        },
        "nteract": {
          "transient": {
            "deleting": false
          }
        }
      }
    },
    {
      "cell_type": "markdown",
      "source": [
        "TODO: In the cell below, send a request to the web service you deployed to test it."
      ],
      "metadata": {
        "collapsed": true,
        "gather": {
          "logged": 1598431657736
        },
        "jupyter": {
          "outputs_hidden": false,
          "source_hidden": false
        },
        "nteract": {
          "transient": {
            "deleting": false
          }
        }
      }
    },
    {
      "cell_type": "code",
      "source": [
        "data_json = {\r\n",
        "\t\"data\":\r\n",
        "\t[\r\n",
        "\t\t{\"age\": 75, \"anaemia\":0, \"creatinine_phosphokinase\": 582, \"diabetes\": 0, \"ejection_fraction\": 20, \"high_blood_pressure\": 1, \"platelets\": 265000, \"serum_creatinine\": 1.9, \"serum_sodium\": 130, \"sex\": 1, \"smoking\": 0, \"time\":4}\r\n",
        "\t]\r\n",
        "\r\n",
        "}"
      ],
      "outputs": [],
      "execution_count": null,
      "metadata": {
        "gather": {
          "logged": 1598432707604
        },
        "jupyter": {
          "outputs_hidden": false,
          "source_hidden": false
        },
        "nteract": {
          "transient": {
            "deleting": false
          }
        }
      }
    },
    {
      "cell_type": "code",
      "source": [
        "input_data = json.dumps(data_json)\r\n",
        "with open(\"data.json\", \"w\" ) as _f:\r\n",
        "    _f.write(input_data)\r\n",
        "headers =  {'Content-Type': 'application/json'}\r\n",
        "headers['Authorization'] = f'Bearer {key}'\r\n",
        "\r\n",
        "resp = requests.post(scoring_uri, input_data, headers=headers)\r\n",
        "print(resp.json())"
      ],
      "outputs": [],
      "execution_count": null,
      "metadata": {
        "collapsed": true,
        "jupyter": {
          "source_hidden": false,
          "outputs_hidden": false
        },
        "nteract": {
          "transient": {
            "deleting": false
          }
        }
      }
    },
    {
      "cell_type": "markdown",
      "source": [
        "TODO: In the cell below, print the logs of the web service and delete the service"
      ],
      "metadata": {
        "collapsed": true,
        "gather": {
          "logged": 1598432765711
        },
        "jupyter": {
          "outputs_hidden": false,
          "source_hidden": false
        },
        "nteract": {
          "transient": {
            "deleting": false
          }
        }
      }
    },
    {
      "cell_type": "code",
      "source": [
        "logs = service.get_logs()\r\n",
        "\r\n",
        "for line in logs.split('\\n'):\r\n",
        "    print(line)"
      ],
      "outputs": [],
      "execution_count": null,
      "metadata": {
        "jupyter": {
          "outputs_hidden": false,
          "source_hidden": false
        },
        "nteract": {
          "transient": {
            "deleting": false
          }
        }
      }
    },
    {
      "cell_type": "code",
      "source": [
        "compute_target.delete()"
      ],
      "outputs": [],
      "execution_count": null,
      "metadata": {
        "collapsed": true,
        "jupyter": {
          "source_hidden": false,
          "outputs_hidden": false
        },
        "nteract": {
          "transient": {
            "deleting": false
          }
        }
      }
    }
  ],
  "metadata": {
    "kernel_info": {
      "name": "python3"
    },
    "kernelspec": {
      "name": "python3",
      "language": "python",
      "display_name": "Python 3"
    },
    "language_info": {
      "name": "python",
      "version": "3.6.9",
      "mimetype": "text/x-python",
      "codemirror_mode": {
        "name": "ipython",
        "version": 3
      },
      "pygments_lexer": "ipython3",
      "nbconvert_exporter": "python",
      "file_extension": ".py"
    },
    "nteract": {
      "version": "nteract-front-end@1.0.0"
    },
    "microsoft": {
      "host": {
        "AzureML": {
          "notebookHasBeenCompleted": true
        }
      }
    }
  },
  "nbformat": 4,
  "nbformat_minor": 2
}