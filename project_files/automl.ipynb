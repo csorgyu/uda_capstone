{
  "cells": [
    {
      "cell_type": "markdown",
      "source": [
        "# Automated ML\n",
        "\n",
        "TODO: Import Dependencies. In the cell below, import all the dependencies that you will need to complete the project."
      ],
      "metadata": {}
    },
    {
      "cell_type": "code",
      "source": [
        "import logging\r\n",
        "import os\r\n",
        "import csv\r\n",
        "\r\n",
        "from matplotlib import pyplot as plt\r\n",
        "import numpy as np\r\n",
        "import pandas as pd\r\n",
        "from sklearn import datasets\r\n",
        "import pkg_resources\r\n",
        "\r\n",
        "import azureml.core\r\n",
        "from azureml.core import Workspace, Experiment, Environment, Model\r\n",
        "from azureml.core.experiment import Experiment\r\n",
        "from azureml.core.workspace import Workspace\r\n",
        "from azureml.train.automl import AutoMLConfig\r\n",
        "from azureml.core.dataset import Dataset\r\n",
        "\r\n",
        "from azureml.pipeline.steps import AutoMLStep\r\n",
        "\r\n",
        "from azureml.core.compute import AmlCompute\r\n",
        "from azureml.core.compute import ComputeTarget\r\n",
        "from azureml.core.compute_target import ComputeTargetException\r\n",
        "\r\n",
        "from azureml.automl.runtime.onnx_convert import OnnxConverter\r\n",
        "from azureml.core.model import InferenceConfig\r\n",
        "from azureml.core.webservice import AciWebservice\r\n",
        "\r\n",
        "from azureml.core import Webservice\r\n",
        "# Check core SDK version number\r\n",
        "\r\n",
        "\r\n",
        "import requests\r\n",
        "import json\r\n",
        "print(\"SDK version:\", azureml.core.VERSION)"
      ],
      "outputs": [
        {
          "output_type": "stream",
          "name": "stdout",
          "text": [
            "SDK version: 1.28.0\n"
          ]
        }
      ],
      "execution_count": 1,
      "metadata": {
        "gather": {
          "logged": 1622382177565
        },
        "jupyter": {
          "outputs_hidden": false,
          "source_hidden": false
        },
        "nteract": {
          "transient": {
            "deleting": false
          }
        }
      }
    },
    {
      "cell_type": "markdown",
      "source": [
        "## Dataset\n",
        "\n",
        "### Overview\n",
        "TODO: In this markdown cell, give an overview of the dataset you are using. Also mention the task you will be performing.\n",
        "\n",
        "\n",
        "TODO: Get data. In the cell below, write code to access the data you will be using in this project. Remember that the dataset needs to be external."
      ],
      "metadata": {}
    },
    {
      "cell_type": "code",
      "source": [
        "ws = Workspace.from_config()\n",
        "\n",
        "# choose a name for experiment\n",
        "experiment_name = 'EXP_HEART_FAILURE_AML'\n",
        "\n",
        "experiment=Experiment(ws, experiment_name)"
      ],
      "outputs": [],
      "execution_count": 2,
      "metadata": {
        "gather": {
          "logged": 1622382184600
        },
        "jupyter": {
          "outputs_hidden": false,
          "source_hidden": false
        },
        "nteract": {
          "transient": {
            "deleting": false
          }
        }
      }
    },
    {
      "cell_type": "code",
      "source": [
        "# Building CPU cluster\r\n",
        "amlcompute_cluster_name = \"common-gy\"\r\n",
        "\r\n",
        "# Verify that cluster does not exist already\r\n",
        "try:\r\n",
        "    compute_target = ComputeTarget(workspace=ws, name=amlcompute_cluster_name)\r\n",
        "    print('Found existing cluster, use it.')\r\n",
        "except ComputeTargetException:\r\n",
        "    compute_config = AmlCompute.provisioning_configuration(vm_size='STANDARD_D2_V2',# for GPU, use \"STANDARD_NC6\"\r\n",
        "                                                           #vm_priority = 'lowpriority', # optional\r\n",
        "                                                           min_nodes=4,\r\n",
        "                                                           max_nodes=4)\r\n",
        "    compute_target = ComputeTarget.create(ws, amlcompute_cluster_name, compute_config)\r\n",
        "\r\n",
        "compute_target.wait_for_completion(show_output=True, min_node_count = 1, timeout_in_minutes = 10)"
      ],
      "outputs": [
        {
          "output_type": "stream",
          "name": "stdout",
          "text": [
            "Found existing cluster, use it.\n",
            "Succeeded\n",
            "AmlCompute wait for completion finished\n",
            "\n",
            "Minimum number of nodes requested have been provisioned\n"
          ]
        }
      ],
      "execution_count": 3,
      "metadata": {
        "collapsed": true,
        "jupyter": {
          "source_hidden": false,
          "outputs_hidden": false
        },
        "nteract": {
          "transient": {
            "deleting": false
          }
        },
        "gather": {
          "logged": 1622382189883
        }
      }
    },
    {
      "cell_type": "code",
      "source": [
        "found = False\r\n",
        "key = \"heart-failure\" #\"Heart failure\"\r\n",
        "description_text = \"Heart failure dataset for udacity capstone\"\r\n",
        "\r\n",
        "if key in ws.datasets.keys():\r\n",
        "        found = True\r\n",
        "        print(\"Found dataset: \",key)\r\n",
        "        dataset = ws.datasets[key]\r\n",
        "\r\n",
        "if not found:\r\n",
        "        # Create AML Dataset and register it into Workspace\r\n",
        "        print(\"Registering dataset: \",key)\r\n",
        "        example_data = \"./data/heart_failure_clinical_records_dataset.csv\"\r\n",
        "        dataset = Dataset.Tabular.from_delimited_files(example_data)\r\n",
        "        #Register Dataset in Workspace\r\n",
        "        dataset = dataset.register(workspace=ws,\r\n",
        "                                   name=key,\r\n",
        "                                   description=description_text)\r\n",
        "\r\n",
        "\r\n",
        "df = dataset.to_pandas_dataframe()\r\n",
        "df.describe()"
      ],
      "outputs": [
        {
          "output_type": "stream",
          "name": "stdout",
          "text": [
            "Found dataset:  heart-failure\n"
          ]
        },
        {
          "output_type": "execute_result",
          "execution_count": 4,
          "data": {
            "text/plain": "         age  anaemia  creatinine_phosphokinase  diabetes  ejection_fraction  \\\ncount 299.00   299.00                    299.00    299.00             299.00   \nmean   60.83     0.43                    581.84      0.42              38.08   \nstd    11.89     0.50                    970.29      0.49              11.83   \nmin    40.00     0.00                     23.00      0.00              14.00   \n25%    51.00     0.00                    116.50      0.00              30.00   \n50%    60.00     0.00                    250.00      0.00              38.00   \n75%    70.00     1.00                    582.00      1.00              45.00   \nmax    95.00     1.00                   7861.00      1.00              80.00   \n\n       high_blood_pressure  platelets  serum_creatinine  serum_sodium    sex  \\\ncount               299.00     299.00            299.00        299.00 299.00   \nmean                  0.35  263358.03              1.39        136.63   0.65   \nstd                   0.48   97804.24              1.03          4.41   0.48   \nmin                   0.00   25100.00              0.50        113.00   0.00   \n25%                   0.00  212500.00              0.90        134.00   0.00   \n50%                   0.00  262000.00              1.10        137.00   1.00   \n75%                   1.00  303500.00              1.40        140.00   1.00   \nmax                   1.00  850000.00              9.40        148.00   1.00   \n\n       smoking   time  DEATH_EVENT  \ncount   299.00 299.00       299.00  \nmean      0.32 130.26         0.32  \nstd       0.47  77.61         0.47  \nmin       0.00   4.00         0.00  \n25%       0.00  73.00         0.00  \n50%       0.00 115.00         0.00  \n75%       1.00 203.00         1.00  \nmax       1.00 285.00         1.00  ",
            "text/html": "<div>\n<style scoped>\n    .dataframe tbody tr th:only-of-type {\n        vertical-align: middle;\n    }\n\n    .dataframe tbody tr th {\n        vertical-align: top;\n    }\n\n    .dataframe thead th {\n        text-align: right;\n    }\n</style>\n<table border=\"1\" class=\"dataframe\">\n  <thead>\n    <tr style=\"text-align: right;\">\n      <th></th>\n      <th>age</th>\n      <th>anaemia</th>\n      <th>creatinine_phosphokinase</th>\n      <th>diabetes</th>\n      <th>ejection_fraction</th>\n      <th>high_blood_pressure</th>\n      <th>platelets</th>\n      <th>serum_creatinine</th>\n      <th>serum_sodium</th>\n      <th>sex</th>\n      <th>smoking</th>\n      <th>time</th>\n      <th>DEATH_EVENT</th>\n    </tr>\n  </thead>\n  <tbody>\n    <tr>\n      <th>count</th>\n      <td>299.00</td>\n      <td>299.00</td>\n      <td>299.00</td>\n      <td>299.00</td>\n      <td>299.00</td>\n      <td>299.00</td>\n      <td>299.00</td>\n      <td>299.00</td>\n      <td>299.00</td>\n      <td>299.00</td>\n      <td>299.00</td>\n      <td>299.00</td>\n      <td>299.00</td>\n    </tr>\n    <tr>\n      <th>mean</th>\n      <td>60.83</td>\n      <td>0.43</td>\n      <td>581.84</td>\n      <td>0.42</td>\n      <td>38.08</td>\n      <td>0.35</td>\n      <td>263358.03</td>\n      <td>1.39</td>\n      <td>136.63</td>\n      <td>0.65</td>\n      <td>0.32</td>\n      <td>130.26</td>\n      <td>0.32</td>\n    </tr>\n    <tr>\n      <th>std</th>\n      <td>11.89</td>\n      <td>0.50</td>\n      <td>970.29</td>\n      <td>0.49</td>\n      <td>11.83</td>\n      <td>0.48</td>\n      <td>97804.24</td>\n      <td>1.03</td>\n      <td>4.41</td>\n      <td>0.48</td>\n      <td>0.47</td>\n      <td>77.61</td>\n      <td>0.47</td>\n    </tr>\n    <tr>\n      <th>min</th>\n      <td>40.00</td>\n      <td>0.00</td>\n      <td>23.00</td>\n      <td>0.00</td>\n      <td>14.00</td>\n      <td>0.00</td>\n      <td>25100.00</td>\n      <td>0.50</td>\n      <td>113.00</td>\n      <td>0.00</td>\n      <td>0.00</td>\n      <td>4.00</td>\n      <td>0.00</td>\n    </tr>\n    <tr>\n      <th>25%</th>\n      <td>51.00</td>\n      <td>0.00</td>\n      <td>116.50</td>\n      <td>0.00</td>\n      <td>30.00</td>\n      <td>0.00</td>\n      <td>212500.00</td>\n      <td>0.90</td>\n      <td>134.00</td>\n      <td>0.00</td>\n      <td>0.00</td>\n      <td>73.00</td>\n      <td>0.00</td>\n    </tr>\n    <tr>\n      <th>50%</th>\n      <td>60.00</td>\n      <td>0.00</td>\n      <td>250.00</td>\n      <td>0.00</td>\n      <td>38.00</td>\n      <td>0.00</td>\n      <td>262000.00</td>\n      <td>1.10</td>\n      <td>137.00</td>\n      <td>1.00</td>\n      <td>0.00</td>\n      <td>115.00</td>\n      <td>0.00</td>\n    </tr>\n    <tr>\n      <th>75%</th>\n      <td>70.00</td>\n      <td>1.00</td>\n      <td>582.00</td>\n      <td>1.00</td>\n      <td>45.00</td>\n      <td>1.00</td>\n      <td>303500.00</td>\n      <td>1.40</td>\n      <td>140.00</td>\n      <td>1.00</td>\n      <td>1.00</td>\n      <td>203.00</td>\n      <td>1.00</td>\n    </tr>\n    <tr>\n      <th>max</th>\n      <td>95.00</td>\n      <td>1.00</td>\n      <td>7861.00</td>\n      <td>1.00</td>\n      <td>80.00</td>\n      <td>1.00</td>\n      <td>850000.00</td>\n      <td>9.40</td>\n      <td>148.00</td>\n      <td>1.00</td>\n      <td>1.00</td>\n      <td>285.00</td>\n      <td>1.00</td>\n    </tr>\n  </tbody>\n</table>\n</div>"
          },
          "metadata": {}
        }
      ],
      "execution_count": 4,
      "metadata": {
        "collapsed": true,
        "jupyter": {
          "source_hidden": false,
          "outputs_hidden": false
        },
        "nteract": {
          "transient": {
            "deleting": false
          }
        },
        "gather": {
          "logged": 1622382199600
        }
      }
    },
    {
      "cell_type": "code",
      "source": [
        "dataset.take(5).to_pandas_dataframe()"
      ],
      "outputs": [
        {
          "output_type": "execute_result",
          "execution_count": 8,
          "data": {
            "text/plain": "    age  anaemia  creatinine_phosphokinase  diabetes  ejection_fraction  \\\n0 75.00        0                       582         0                 20   \n1 55.00        0                      7861         0                 38   \n2 65.00        0                       146         0                 20   \n3 50.00        1                       111         0                 20   \n4 65.00        1                       160         1                 20   \n\n   high_blood_pressure  platelets  serum_creatinine  serum_sodium  sex  \\\n0                    1  265000.00              1.90           130    1   \n1                    0  263358.03              1.10           136    1   \n2                    0  162000.00              1.30           129    1   \n3                    0  210000.00              1.90           137    1   \n4                    0  327000.00              2.70           116    0   \n\n   smoking  time  DEATH_EVENT  \n0        0     4            1  \n1        0     6            1  \n2        1     7            1  \n3        0     7            1  \n4        0     8            1  ",
            "text/html": "<div>\n<style scoped>\n    .dataframe tbody tr th:only-of-type {\n        vertical-align: middle;\n    }\n\n    .dataframe tbody tr th {\n        vertical-align: top;\n    }\n\n    .dataframe thead th {\n        text-align: right;\n    }\n</style>\n<table border=\"1\" class=\"dataframe\">\n  <thead>\n    <tr style=\"text-align: right;\">\n      <th></th>\n      <th>age</th>\n      <th>anaemia</th>\n      <th>creatinine_phosphokinase</th>\n      <th>diabetes</th>\n      <th>ejection_fraction</th>\n      <th>high_blood_pressure</th>\n      <th>platelets</th>\n      <th>serum_creatinine</th>\n      <th>serum_sodium</th>\n      <th>sex</th>\n      <th>smoking</th>\n      <th>time</th>\n      <th>DEATH_EVENT</th>\n    </tr>\n  </thead>\n  <tbody>\n    <tr>\n      <th>0</th>\n      <td>75.00</td>\n      <td>0</td>\n      <td>582</td>\n      <td>0</td>\n      <td>20</td>\n      <td>1</td>\n      <td>265000.00</td>\n      <td>1.90</td>\n      <td>130</td>\n      <td>1</td>\n      <td>0</td>\n      <td>4</td>\n      <td>1</td>\n    </tr>\n    <tr>\n      <th>1</th>\n      <td>55.00</td>\n      <td>0</td>\n      <td>7861</td>\n      <td>0</td>\n      <td>38</td>\n      <td>0</td>\n      <td>263358.03</td>\n      <td>1.10</td>\n      <td>136</td>\n      <td>1</td>\n      <td>0</td>\n      <td>6</td>\n      <td>1</td>\n    </tr>\n    <tr>\n      <th>2</th>\n      <td>65.00</td>\n      <td>0</td>\n      <td>146</td>\n      <td>0</td>\n      <td>20</td>\n      <td>0</td>\n      <td>162000.00</td>\n      <td>1.30</td>\n      <td>129</td>\n      <td>1</td>\n      <td>1</td>\n      <td>7</td>\n      <td>1</td>\n    </tr>\n    <tr>\n      <th>3</th>\n      <td>50.00</td>\n      <td>1</td>\n      <td>111</td>\n      <td>0</td>\n      <td>20</td>\n      <td>0</td>\n      <td>210000.00</td>\n      <td>1.90</td>\n      <td>137</td>\n      <td>1</td>\n      <td>0</td>\n      <td>7</td>\n      <td>1</td>\n    </tr>\n    <tr>\n      <th>4</th>\n      <td>65.00</td>\n      <td>1</td>\n      <td>160</td>\n      <td>1</td>\n      <td>20</td>\n      <td>0</td>\n      <td>327000.00</td>\n      <td>2.70</td>\n      <td>116</td>\n      <td>0</td>\n      <td>0</td>\n      <td>8</td>\n      <td>1</td>\n    </tr>\n  </tbody>\n</table>\n</div>"
          },
          "metadata": {}
        }
      ],
      "execution_count": 8,
      "metadata": {
        "collapsed": true,
        "jupyter": {
          "source_hidden": false,
          "outputs_hidden": false
        },
        "nteract": {
          "transient": {
            "deleting": false
          }
        },
        "gather": {
          "logged": 1622382290061
        }
      }
    },
    {
      "cell_type": "markdown",
      "source": [
        "## AutoML Configuration\n",
        "\n",
        "TODO: Explain why you chose the automl settings and cofiguration you used below."
      ],
      "metadata": {}
    },
    {
      "cell_type": "code",
      "source": [
        "project_folder='./realtime_automl'\n",
        "automl_settings = {\n",
        "    \"experiment_timeout_minutes\": 15,\n",
        "    \"max_concurrent_iterations\": 4,\n",
        "    \"primary_metric\" : 'AUC_weighted'\n",
        "}\n",
        "automl_config = AutoMLConfig(compute_target=compute_target,\n",
        "                             task = \"classification\",\n",
        "                             training_data=dataset,\n",
        "                             label_column_name=\"DEATH_EVENT\",\n",
        "                             path = project_folder,\n",
        "                             enable_early_stopping= True,\n",
        "                             featurization= 'auto',\n",
        "                             debug_log = \"automl_errors.log\",\n",
        "                             model_explainability = True,\n",
        "                             enable_onnx_compatible_models=True,\n",
        "                             **automl_settings\n",
        "                            )"
      ],
      "outputs": [],
      "execution_count": 9,
      "metadata": {
        "gather": {
          "logged": 1622382293830
        },
        "jupyter": {
          "outputs_hidden": false,
          "source_hidden": false
        },
        "nteract": {
          "transient": {
            "deleting": false
          }
        }
      }
    },
    {
      "cell_type": "code",
      "source": [
        "automl_run1 = experiment.submit(automl_config, show_output=True)"
      ],
      "outputs": [
        {
          "output_type": "stream",
          "name": "stdout",
          "text": [
            "Submitting remote run.\n",
            "No run_configuration provided, running on common-gy with default configuration\n",
            "Running on remote compute: common-gy\n"
          ]
        },
        {
          "output_type": "display_data",
          "data": {
            "text/plain": "<IPython.core.display.HTML object>",
            "text/html": "<table style=\"width:100%\"><tr><th>Experiment</th><th>Id</th><th>Type</th><th>Status</th><th>Details Page</th><th>Docs Page</th></tr><tr><td>EXP_HEART_FAILURE_AML</td><td>AutoML_e0801f1a-6e7e-448a-af65-866745c60af5</td><td>automl</td><td>NotStarted</td><td><a href=\"https://ml.azure.com/runs/AutoML_e0801f1a-6e7e-448a-af65-866745c60af5?wsid=/subscriptions/9b72f9e6-56c5-4c16-991b-19c652994860/resourcegroups/aml-quickstarts-146157/workspaces/quick-starts-ws-146157&amp;tid=660b3398-b80e-49d2-bc5b-ac1dc93b5254\" target=\"_blank\" rel=\"noopener\">Link to Azure Machine Learning studio</a></td><td><a href=\"https://docs.microsoft.com/en-us/python/api/overview/azure/ml/intro?view=azure-ml-py\" target=\"_blank\" rel=\"noopener\">Link to Documentation</a></td></tr></table>"
          },
          "metadata": {}
        },
        {
          "output_type": "stream",
          "name": "stdout",
          "text": [
            "\n",
            "Current status: FeaturesGeneration. Generating features for the dataset.\n",
            "Current status: DatasetCrossValidationSplit. Generating individually featurized CV splits.\n",
            "Current status: ModelSelection. Beginning model selection.\n",
            "\n",
            "****************************************************************************************************\n",
            "DATA GUARDRAILS: \n",
            "\n",
            "TYPE:         Cross validation\n",
            "STATUS:       DONE\n",
            "DESCRIPTION:  Each iteration of the trained model was validated through cross-validation.\n",
            "              \n",
            "DETAILS:      \n",
            "+---------------------------------+\n",
            "|Number of folds                  |\n",
            "+=================================+\n",
            "|10                               |\n",
            "+---------------------------------+\n",
            "\n",
            "****************************************************************************************************\n",
            "\n",
            "TYPE:         Class balancing detection\n",
            "STATUS:       PASSED\n",
            "DESCRIPTION:  Your inputs were analyzed, and all classes are balanced in your training data.\n",
            "              Learn more about imbalanced data: https://aka.ms/AutomatedMLImbalancedData\n",
            "\n",
            "****************************************************************************************************\n",
            "\n",
            "TYPE:         Missing feature values imputation\n",
            "STATUS:       PASSED\n",
            "DESCRIPTION:  No feature missing values were detected in the training data.\n",
            "              Learn more about missing value imputation: https://aka.ms/AutomatedMLFeaturization\n",
            "\n",
            "****************************************************************************************************\n",
            "\n",
            "TYPE:         High cardinality feature detection\n",
            "STATUS:       PASSED\n",
            "DESCRIPTION:  Your inputs were analyzed, and no high cardinality features were detected.\n",
            "              Learn more about high cardinality feature handling: https://aka.ms/AutomatedMLFeaturization\n",
            "\n",
            "****************************************************************************************************\n",
            "\n",
            "****************************************************************************************************\n",
            "ITERATION: The iteration being evaluated.\n",
            "PIPELINE: A summary description of the pipeline being evaluated.\n",
            "DURATION: Time taken for the current iteration.\n",
            "METRIC: The result of computing score on the fitted pipeline.\n",
            "BEST: The best observed score thus far.\n",
            "****************************************************************************************************\n",
            "\n",
            " ITERATION   PIPELINE                                       DURATION      METRIC      BEST\n",
            "         0   MaxAbsScaler LightGBM                          0:00:48       0.8841    0.8841\n",
            "         1   MaxAbsScaler XGBoostClassifier                 0:00:45       0.8847    0.8847\n",
            "         2   MinMaxScaler RandomForest                      0:00:45       0.8975    0.8975\n",
            "         3   RobustScaler ExtremeRandomTrees                0:00:48       0.8858    0.8975\n",
            "         4   MinMaxScaler RandomForest                      0:00:48       0.9111    0.9111\n",
            "         5   MinMaxScaler RandomForest                      0:00:48       0.8885    0.9111\n",
            "         6   StandardScalerWrapper RandomForest             0:00:45       0.9002    0.9111\n",
            "         7   MinMaxScaler ExtremeRandomTrees                0:00:47       0.8866    0.9111\n",
            "        10   MinMaxScaler ExtremeRandomTrees                0:00:47       0.8773    0.9111\n",
            "         9   SparseNormalizer KNN                           0:00:45       0.7496    0.9111\n",
            "        11   RobustScaler ExtremeRandomTrees                0:00:50       0.8819    0.9111\n",
            "         8   MinMaxScaler ExtremeRandomTrees                0:00:49       0.8860    0.9111\n",
            "        13   StandardScalerWrapper SGD                      0:00:47       0.8686    0.9111\n",
            "        12   StandardScalerWrapper RandomForest             0:00:48       0.8939    0.9111\n",
            "        14   RobustScaler RandomForest                      0:00:48       0.8797    0.9111\n",
            "        15   StandardScalerWrapper KNN                      0:00:46       0.5203    0.9111\n",
            "        16   MinMaxScaler RandomForest                      0:00:46       0.8809    0.9111\n",
            "        17   MinMaxScaler ExtremeRandomTrees                0:00:49       0.8025    0.9111\n",
            "        18   MaxAbsScaler RandomForest                      0:00:45       0.8886    0.9111\n",
            "        19   StandardScalerWrapper XGBoostClassifier        0:00:48       0.9089    0.9111\n",
            "        20   MaxAbsScaler RandomForest                      0:00:45       0.8871    0.9111\n",
            "        21   MaxAbsScaler ExtremeRandomTrees                0:00:47       0.8593    0.9111\n",
            "        22   MaxAbsScaler ExtremeRandomTrees                0:00:45       0.8669    0.9111\n",
            "        23   MinMaxScaler ExtremeRandomTrees                0:00:51       0.9080    0.9111\n",
            "        24   StandardScalerWrapper XGBoostClassifier        0:00:46       0.8972    0.9111\n",
            "        25   TruncatedSVDWrapper RandomForest               0:00:51       0.5157    0.9111\n",
            "        26   MaxAbsScaler ExtremeRandomTrees                0:00:48       0.8983    0.9111\n",
            "        27   StandardScalerWrapper XGBoostClassifier        0:00:48       0.9051    0.9111\n",
            "        28   StandardScalerWrapper XGBoostClassifier        0:00:48       0.8880    0.9111\n",
            "        30   MaxAbsScaler RandomForest                      0:00:48       0.7946    0.9111\n",
            "        29   MinMaxScaler RandomForest                      0:00:56       0.9043    0.9111\n",
            "        31   MinMaxScaler LightGBM                          0:00:48       0.9037    0.9111\n",
            "        32   MinMaxScaler LightGBM                          0:00:45       0.8998    0.9111\n",
            "        33   StandardScalerWrapper LightGBM                 0:00:44       0.9069    0.9111\n",
            "        34   MaxAbsScaler LogisticRegression                0:00:38       0.8657    0.9111\n",
            "        35   RobustScaler RandomForest                      0:00:32          nan    0.9111\n",
            "        36    VotingEnsemble                                0:01:12       0.9171    0.9171\n"
          ]
        }
      ],
      "execution_count": 10,
      "metadata": {
        "collapsed": true,
        "jupyter": {
          "source_hidden": false,
          "outputs_hidden": false
        },
        "nteract": {
          "transient": {
            "deleting": false
          }
        },
        "gather": {
          "logged": 1622383095028
        }
      }
    },
    {
      "cell_type": "code",
      "source": [
        "rns = experiment.get_runs()\r\n",
        "next(rns)"
      ],
      "outputs": [
        {
          "output_type": "execute_result",
          "execution_count": 10,
          "data": {
            "text/plain": "Run(Experiment: EXP_HEART_FAILURE_AML,\nId: AutoML_03202041-e1a9-4c4a-b446-9912b5836698,\nType: automl,\nStatus: Completed)",
            "text/html": "<table style=\"width:100%\"><tr><th>Experiment</th><th>Id</th><th>Type</th><th>Status</th><th>Details Page</th><th>Docs Page</th></tr><tr><td>EXP_HEART_FAILURE_AML</td><td>AutoML_03202041-e1a9-4c4a-b446-9912b5836698</td><td>automl</td><td>Completed</td><td><a href=\"https://ml.azure.com/runs/AutoML_03202041-e1a9-4c4a-b446-9912b5836698?wsid=/subscriptions/510b94ba-e453-4417-988b-fbdc37b55ca7/resourcegroups/aml-quickstarts-146100/workspaces/quick-starts-ws-146100&amp;tid=660b3398-b80e-49d2-bc5b-ac1dc93b5254\" target=\"_blank\" rel=\"noopener\">Link to Azure Machine Learning studio</a></td><td><a href=\"https://docs.microsoft.com/en-us/python/api/overview/azure/ml/intro?view=azure-ml-py\" target=\"_blank\" rel=\"noopener\">Link to Documentation</a></td></tr></table>"
          },
          "metadata": {}
        }
      ],
      "execution_count": 10,
      "metadata": {
        "collapsed": true,
        "jupyter": {
          "source_hidden": false,
          "outputs_hidden": false
        },
        "nteract": {
          "transient": {
            "deleting": false
          }
        },
        "gather": {
          "logged": 1622292932967
        }
      }
    },
    {
      "cell_type": "markdown",
      "source": [
        "## Run Details\n",
        "\n",
        "OPTIONAL: Write about the different models trained and their performance. Why do you think some models did better than others?\n",
        "\n",
        "TODO: In the cell below, use the `RunDetails` widget to show the different experiments."
      ],
      "metadata": {}
    },
    {
      "cell_type": "code",
      "source": [
        "from azureml.widgets import RunDetails\r\n",
        "widget1 = RunDetails(automl_run1)\r\n",
        "widget1.show()"
      ],
      "outputs": [
        {
          "output_type": "display_data",
          "data": {
            "text/plain": "_AutoMLWidget(widget_settings={'childWidgetDisplay': 'popup', 'send_telemetry': False, 'log_level': 'INFO', 's…",
            "application/vnd.jupyter.widget-view+json": {
              "version_major": 2,
              "version_minor": 0,
              "model_id": "c72924f81f464983b5bd3c7bfbe79f3e"
            }
          },
          "metadata": {}
        },
        {
          "output_type": "display_data",
          "data": {
            "application/aml.mini.widget.v1": "{\"status\": \"Completed\", \"workbench_run_details_uri\": \"https://ml.azure.com/runs/AutoML_e0801f1a-6e7e-448a-af65-866745c60af5?wsid=/subscriptions/9b72f9e6-56c5-4c16-991b-19c652994860/resourcegroups/aml-quickstarts-146157/workspaces/quick-starts-ws-146157&tid=660b3398-b80e-49d2-bc5b-ac1dc93b5254\", \"run_id\": \"AutoML_e0801f1a-6e7e-448a-af65-866745c60af5\", \"run_properties\": {\"run_id\": \"AutoML_e0801f1a-6e7e-448a-af65-866745c60af5\", \"created_utc\": \"2021-05-30T13:45:03.160037Z\", \"properties\": {\"num_iterations\": \"1000\", \"training_type\": \"TrainFull\", \"acquisition_function\": \"EI\", \"primary_metric\": \"AUC_weighted\", \"train_split\": \"0\", \"acquisition_parameter\": \"0\", \"num_cross_validation\": null, \"target\": \"common-gy\", \"AMLSettingsJsonString\": \"{\\\"path\\\":null,\\\"name\\\":\\\"EXP_HEART_FAILURE_AML\\\",\\\"subscription_id\\\":\\\"9b72f9e6-56c5-4c16-991b-19c652994860\\\",\\\"resource_group\\\":\\\"aml-quickstarts-146157\\\",\\\"workspace_name\\\":\\\"quick-starts-ws-146157\\\",\\\"region\\\":\\\"southcentralus\\\",\\\"compute_target\\\":\\\"common-gy\\\",\\\"spark_service\\\":null,\\\"azure_service\\\":\\\"remote\\\",\\\"many_models\\\":false,\\\"pipeline_fetch_max_batch_size\\\":1,\\\"enable_batch_run\\\":false,\\\"enable_run_restructure\\\":false,\\\"start_auxiliary_runs_before_parent_complete\\\":false,\\\"enable_code_generation\\\":false,\\\"iterations\\\":1000,\\\"primary_metric\\\":\\\"AUC_weighted\\\",\\\"task_type\\\":\\\"classification\\\",\\\"data_script\\\":null,\\\"test_size\\\":0.0,\\\"validation_size\\\":0.0,\\\"n_cross_validations\\\":null,\\\"y_min\\\":null,\\\"y_max\\\":null,\\\"num_classes\\\":null,\\\"featurization\\\":\\\"auto\\\",\\\"_ignore_package_version_incompatibilities\\\":false,\\\"is_timeseries\\\":false,\\\"max_cores_per_iteration\\\":1,\\\"max_concurrent_iterations\\\":4,\\\"iteration_timeout_minutes\\\":null,\\\"mem_in_mb\\\":null,\\\"enforce_time_on_windows\\\":false,\\\"experiment_timeout_minutes\\\":15,\\\"experiment_exit_score\\\":null,\\\"whitelist_models\\\":null,\\\"blacklist_algos\\\":[\\\"TensorFlowLinearClassifier\\\",\\\"TensorFlowDNN\\\"],\\\"supported_models\\\":[\\\"AveragedPerceptronClassifier\\\",\\\"LogisticRegression\\\",\\\"SVM\\\",\\\"GradientBoosting\\\",\\\"LinearSVM\\\",\\\"MultinomialNaiveBayes\\\",\\\"DecisionTree\\\",\\\"KNN\\\",\\\"BernoulliNaiveBayes\\\",\\\"XGBoostClassifier\\\",\\\"TensorFlowDNN\\\",\\\"LightGBM\\\",\\\"SGD\\\",\\\"RandomForest\\\",\\\"ExtremeRandomTrees\\\",\\\"TensorFlowLinearClassifier\\\"],\\\"private_models\\\":[],\\\"auto_blacklist\\\":true,\\\"blacklist_samples_reached\\\":false,\\\"exclude_nan_labels\\\":true,\\\"verbosity\\\":20,\\\"_debug_log\\\":\\\"azureml_automl.log\\\",\\\"show_warnings\\\":false,\\\"model_explainability\\\":true,\\\"service_url\\\":null,\\\"sdk_url\\\":null,\\\"sdk_packages\\\":null,\\\"enable_onnx_compatible_models\\\":true,\\\"enable_split_onnx_featurizer_estimator_models\\\":false,\\\"vm_type\\\":\\\"STANDARD_D2_V2\\\",\\\"telemetry_verbosity\\\":20,\\\"send_telemetry\\\":true,\\\"enable_dnn\\\":false,\\\"scenario\\\":\\\"SDK-1.13.0\\\",\\\"environment_label\\\":null,\\\"save_mlflow\\\":false,\\\"force_text_dnn\\\":false,\\\"enable_feature_sweeping\\\":false,\\\"enable_early_stopping\\\":true,\\\"early_stopping_n_iters\\\":10,\\\"metrics\\\":null,\\\"enable_metric_confidence\\\":false,\\\"enable_ensembling\\\":true,\\\"enable_stack_ensembling\\\":false,\\\"ensemble_iterations\\\":15,\\\"enable_tf\\\":false,\\\"enable_subsampling\\\":null,\\\"subsample_seed\\\":null,\\\"enable_nimbusml\\\":false,\\\"enable_streaming\\\":false,\\\"force_streaming\\\":false,\\\"track_child_runs\\\":true,\\\"allowed_private_models\\\":[],\\\"label_column_name\\\":\\\"DEATH_EVENT\\\",\\\"weight_column_name\\\":null,\\\"cv_split_column_names\\\":null,\\\"enable_local_managed\\\":false,\\\"_local_managed_run_id\\\":null,\\\"cost_mode\\\":1,\\\"lag_length\\\":0,\\\"metric_operation\\\":\\\"maximize\\\",\\\"preprocess\\\":true}\", \"DataPrepJsonString\": \"{\\\\\\\"training_data\\\\\\\": {\\\\\\\"datasetId\\\\\\\": \\\\\\\"72f4a91a-c53a-44dc-8b35-5ee30ad7deb9\\\\\\\"}, \\\\\\\"datasets\\\\\\\": 0}\", \"EnableSubsampling\": null, \"runTemplate\": \"AutoML\", \"azureml.runsource\": \"automl\", \"display_task_type\": \"classification\", \"dependencies_versions\": \"{\\\"azureml-widgets\\\": \\\"1.28.0\\\", \\\"azureml-train\\\": \\\"1.28.0\\\", \\\"azureml-train-restclients-hyperdrive\\\": \\\"1.28.0\\\", \\\"azureml-train-core\\\": \\\"1.28.0\\\", \\\"azureml-train-automl\\\": \\\"1.28.0\\\", \\\"azureml-train-automl-runtime\\\": \\\"1.28.0\\\", \\\"azureml-train-automl-client\\\": \\\"1.28.0\\\", \\\"azureml-tensorboard\\\": \\\"1.28.0\\\", \\\"azureml-telemetry\\\": \\\"1.28.0\\\", \\\"azureml-sdk\\\": \\\"1.28.0\\\", \\\"azureml-samples\\\": \\\"0+unknown\\\", \\\"azureml-pipeline\\\": \\\"1.28.0\\\", \\\"azureml-pipeline-steps\\\": \\\"1.28.0\\\", \\\"azureml-pipeline-core\\\": \\\"1.28.0\\\", \\\"azureml-opendatasets\\\": \\\"1.28.0\\\", \\\"azureml-model-management-sdk\\\": \\\"1.0.1b6.post1\\\", \\\"azureml-mlflow\\\": \\\"1.28.0\\\", \\\"azureml-interpret\\\": \\\"1.28.0\\\", \\\"azureml-explain-model\\\": \\\"1.28.0\\\", \\\"azureml-defaults\\\": \\\"1.28.0\\\", \\\"azureml-dataset-runtime\\\": \\\"1.28.0\\\", \\\"azureml-dataprep\\\": \\\"2.15.0\\\", \\\"azureml-dataprep-rslex\\\": \\\"1.13.0\\\", \\\"azureml-dataprep-native\\\": \\\"33.0.0\\\", \\\"azureml-datadrift\\\": \\\"1.28.0\\\", \\\"azureml-core\\\": \\\"1.28.0\\\", \\\"azureml-contrib-services\\\": \\\"1.28.0\\\", \\\"azureml-contrib-server\\\": \\\"1.28.0\\\", \\\"azureml-contrib-reinforcementlearning\\\": \\\"1.28.0\\\", \\\"azureml-contrib-pipeline-steps\\\": \\\"1.28.0\\\", \\\"azureml-contrib-notebook\\\": \\\"1.28.0\\\", \\\"azureml-contrib-gbdt\\\": \\\"1.28.0\\\", \\\"azureml-contrib-fairness\\\": \\\"1.28.0\\\", \\\"azureml-contrib-dataset\\\": \\\"1.28.0\\\", \\\"azureml-cli-common\\\": \\\"1.28.0\\\", \\\"azureml-automl-runtime\\\": \\\"1.28.0.post2\\\", \\\"azureml-automl-dnn-nlp\\\": \\\"1.28.0\\\", \\\"azureml-automl-core\\\": \\\"1.28.0\\\", \\\"azureml-accel-models\\\": \\\"1.28.0\\\"}\", \"_aml_system_scenario_identification\": \"Remote.Parent\", \"ClientType\": \"SDK\", \"environment_cpu_name\": \"AzureML-AutoML\", \"environment_cpu_label\": \"prod\", \"environment_gpu_name\": \"AzureML-AutoML-GPU\", \"environment_gpu_label\": \"prod\", \"root_attribution\": \"automl\", \"attribution\": \"AutoML\", \"Orchestrator\": \"AutoML\", \"CancelUri\": \"https://southcentralus.api.azureml.ms/jasmine/v1.0/subscriptions/9b72f9e6-56c5-4c16-991b-19c652994860/resourceGroups/aml-quickstarts-146157/providers/Microsoft.MachineLearningServices/workspaces/quick-starts-ws-146157/experimentids/621599ef-54b2-4e9d-8792-118c44a2c330/cancel/AutoML_e0801f1a-6e7e-448a-af65-866745c60af5\", \"ClientSdkVersion\": \"1.28.0\", \"snapshotId\": \"00000000-0000-0000-0000-000000000000\", \"SetupRunId\": \"AutoML_e0801f1a-6e7e-448a-af65-866745c60af5_setup\", \"SetupRunContainerId\": \"dcid.AutoML_e0801f1a-6e7e-448a-af65-866745c60af5_setup\", \"FeaturizationRunJsonPath\": \"featurizer_container.json\", \"FeaturizationRunId\": \"AutoML_e0801f1a-6e7e-448a-af65-866745c60af5_featurize\", \"ProblemInfoJsonString\": \"{\\\"dataset_num_categorical\\\": 0, \\\"is_sparse\\\": false, \\\"subsampling\\\": false, \\\"has_extra_col\\\": true, \\\"dataset_classes\\\": 2, \\\"dataset_features\\\": 12, \\\"dataset_samples\\\": 299, \\\"single_frequency_class_detected\\\": false}\", \"ModelExplainRunId\": \"AutoML_e0801f1a-6e7e-448a-af65-866745c60af5_ModelExplain\"}, \"tags\": {\"model_explain_run\": \"best_run\", \"_aml_system_azureml.automlComponent\": \"AutoML\", \"pipeline_id\": \"\", \"score\": \"\", \"predicted_cost\": \"\", \"fit_time\": \"\", \"training_percent\": \"\", \"iteration\": \"\", \"run_preprocessor\": \"\", \"run_algorithm\": \"\", \"dynamic_whitelisting_iterations\": \"<25>;<30>;<35>;\", \"automl_best_child_run_id\": \"AutoML_e0801f1a-6e7e-448a-af65-866745c60af5_36\", \"model_explain_best_run_child_id\": \"AutoML_e0801f1a-6e7e-448a-af65-866745c60af5_36\"}, \"end_time_utc\": \"2021-05-30T13:58:04.667816Z\", \"status\": \"Completed\", \"log_files\": {}, \"log_groups\": [], \"run_duration\": \"0:13:01\", \"run_number\": \"1622382303\", \"run_queued_details\": {\"status\": \"Completed\", \"details\": null}}, \"child_runs\": [{\"run_id\": \"AutoML_e0801f1a-6e7e-448a-af65-866745c60af5_0\", \"run_number\": 1622382444, \"metric\": null, \"status\": \"Completed\", \"run_type\": \"azureml.scriptrun\", \"training_percent\": \"100\", \"start_time\": \"2021-05-30T13:47:34.15833Z\", \"end_time\": \"2021-05-30T13:48:21.771657Z\", \"created_time\": \"2021-05-30T13:47:24.426705Z\", \"created_time_dt\": \"2021-05-30T13:47:24.426705Z\", \"duration\": \"0:00:57\", \"iteration\": \"0\", \"goal\": \"AUC_weighted_max\", \"run_name\": \"MaxAbsScaler, LightGBM\", \"run_properties\": \"copy=True\", \"primary_metric\": 0.88409554, \"best_metric\": 0.88409554}, {\"run_id\": \"AutoML_e0801f1a-6e7e-448a-af65-866745c60af5_3\", \"run_number\": 1622382445, \"metric\": null, \"status\": \"Completed\", \"run_type\": \"azureml.scriptrun\", \"training_percent\": \"100\", \"start_time\": \"2021-05-30T13:47:37.469914Z\", \"end_time\": \"2021-05-30T13:48:25.892555Z\", \"created_time\": \"2021-05-30T13:47:24.483569Z\", \"created_time_dt\": \"2021-05-30T13:47:24.483569Z\", \"duration\": \"0:01:01\", \"iteration\": \"3\", \"goal\": \"AUC_weighted_max\", \"run_name\": \"RobustScaler, ExtremeRandomTrees\", \"run_properties\": \"copy=True, quantile_range=[10, 90], with_centering=False,\\n             with_scaling=False\", \"primary_metric\": 0.88583728, \"best_metric\": 0.88583728}, {\"run_id\": \"AutoML_e0801f1a-6e7e-448a-af65-866745c60af5_4\", \"run_number\": 1622382501, \"metric\": null, \"status\": \"Completed\", \"run_type\": \"azureml.scriptrun\", \"training_percent\": \"100\", \"start_time\": \"2021-05-30T13:48:34.8554Z\", \"end_time\": \"2021-05-30T13:49:23.244634Z\", \"created_time\": \"2021-05-30T13:48:21.932486Z\", \"created_time_dt\": \"2021-05-30T13:48:21.932486Z\", \"duration\": \"0:01:01\", \"iteration\": \"4\", \"goal\": \"AUC_weighted_max\", \"run_name\": \"MinMaxScaler, RandomForest\", \"run_properties\": \"copy=True, feature_range=(0, 1\", \"primary_metric\": 0.91109581, \"best_metric\": 0.91109581}, {\"run_id\": \"AutoML_e0801f1a-6e7e-448a-af65-866745c60af5_5\", \"run_number\": 1622382506, \"metric\": null, \"status\": \"Completed\", \"run_type\": \"azureml.scriptrun\", \"training_percent\": \"100\", \"start_time\": \"2021-05-30T13:48:35.982139Z\", \"end_time\": \"2021-05-30T13:49:23.538795Z\", \"created_time\": \"2021-05-30T13:48:26.188186Z\", \"created_time_dt\": \"2021-05-30T13:48:26.188186Z\", \"duration\": \"0:00:57\", \"iteration\": \"5\", \"goal\": \"AUC_weighted_max\", \"run_name\": \"MinMaxScaler, RandomForest\", \"run_properties\": \"copy=True, feature_range=(0, 1\", \"primary_metric\": 0.88850616, \"best_metric\": 0.91109581}, {\"run_id\": \"AutoML_e0801f1a-6e7e-448a-af65-866745c60af5_7\", \"run_number\": 1622382510, \"metric\": null, \"status\": \"Completed\", \"run_type\": \"azureml.scriptrun\", \"training_percent\": \"100\", \"start_time\": \"2021-05-30T13:48:38.213354Z\", \"end_time\": \"2021-05-30T13:49:25.22154Z\", \"created_time\": \"2021-05-30T13:48:30.418496Z\", \"created_time_dt\": \"2021-05-30T13:48:30.418496Z\", \"duration\": \"0:00:54\", \"iteration\": \"7\", \"goal\": \"AUC_weighted_max\", \"run_name\": \"MinMaxScaler, ExtremeRandomTrees\", \"run_properties\": \"copy=True, feature_range=(0, 1\", \"primary_metric\": 0.88662311, \"best_metric\": 0.91109581}, {\"run_id\": \"AutoML_e0801f1a-6e7e-448a-af65-866745c60af5_9\", \"run_number\": 1622382566, \"metric\": null, \"status\": \"Completed\", \"run_type\": \"azureml.scriptrun\", \"training_percent\": \"100\", \"start_time\": \"2021-05-30T13:49:38.280235Z\", \"end_time\": \"2021-05-30T13:50:23.723675Z\", \"created_time\": \"2021-05-30T13:49:26.157657Z\", \"created_time_dt\": \"2021-05-30T13:49:26.157657Z\", \"duration\": \"0:00:57\", \"iteration\": \"9\", \"goal\": \"AUC_weighted_max\", \"run_name\": \"SparseNormalizer, KNN\", \"run_properties\": \"copy=True, norm='l2'\", \"primary_metric\": 0.7496161, \"best_metric\": 0.91109581}, {\"run_id\": \"AutoML_e0801f1a-6e7e-448a-af65-866745c60af5_11\", \"run_number\": 1622382570, \"metric\": null, \"status\": \"Completed\", \"run_type\": \"azureml.scriptrun\", \"training_percent\": \"100\", \"start_time\": \"2021-05-30T13:49:38.255416Z\", \"end_time\": \"2021-05-30T13:50:27.941618Z\", \"created_time\": \"2021-05-30T13:49:30.940887Z\", \"created_time_dt\": \"2021-05-30T13:49:30.940887Z\", \"duration\": \"0:00:57\", \"iteration\": \"11\", \"goal\": \"AUC_weighted_max\", \"run_name\": \"RobustScaler, ExtremeRandomTrees\", \"run_properties\": \"copy=True, quantile_range=[10, 90], with_centering=True,\\n             with_scaling=False\", \"primary_metric\": 0.88188409, \"best_metric\": 0.91109581}, {\"run_id\": \"AutoML_e0801f1a-6e7e-448a-af65-866745c60af5_12\", \"run_number\": 1622382626, \"metric\": null, \"status\": \"Completed\", \"run_type\": \"azureml.scriptrun\", \"training_percent\": \"100\", \"start_time\": \"2021-05-30T13:50:39.425051Z\", \"end_time\": \"2021-05-30T13:51:27.851035Z\", \"created_time\": \"2021-05-30T13:50:26.441246Z\", \"created_time_dt\": \"2021-05-30T13:50:26.441246Z\", \"duration\": \"0:01:01\", \"iteration\": \"12\", \"goal\": \"AUC_weighted_max\", \"run_name\": \"StandardScalerWrapper, RandomForest\", \"run_properties\": \"\\n    copy=True,\\n    with_mean=True,\\n    with_std=False\\n\", \"primary_metric\": 0.89393818, \"best_metric\": 0.91109581}, {\"run_id\": \"AutoML_e0801f1a-6e7e-448a-af65-866745c60af5_13\", \"run_number\": 1622382631, \"metric\": null, \"status\": \"Completed\", \"run_type\": \"azureml.scriptrun\", \"training_percent\": \"100\", \"start_time\": \"2021-05-30T13:50:39.192878Z\", \"end_time\": \"2021-05-30T13:51:26.080072Z\", \"created_time\": \"2021-05-30T13:50:31.706351Z\", \"created_time_dt\": \"2021-05-30T13:50:31.706351Z\", \"duration\": \"0:00:54\", \"iteration\": \"13\", \"goal\": \"AUC_weighted_max\", \"run_name\": \"StandardScalerWrapper, SGD\", \"run_properties\": \"\\n    copy=True,\\n    with_mean=True,\\n    with_std=True\\n\", \"primary_metric\": 0.868567, \"best_metric\": 0.91109581}, {\"run_id\": \"AutoML_e0801f1a-6e7e-448a-af65-866745c60af5_16\", \"run_number\": 1622382688, \"metric\": null, \"status\": \"Completed\", \"run_type\": \"azureml.scriptrun\", \"training_percent\": \"100\", \"start_time\": \"2021-05-30T13:51:43.278301Z\", \"end_time\": \"2021-05-30T13:52:29.508912Z\", \"created_time\": \"2021-05-30T13:51:28.890262Z\", \"created_time_dt\": \"2021-05-30T13:51:28.890262Z\", \"duration\": \"0:01:00\", \"iteration\": \"16\", \"goal\": \"AUC_weighted_max\", \"run_name\": \"MinMaxScaler, RandomForest\", \"run_properties\": \"copy=True, feature_range=(0, 1\", \"primary_metric\": 0.88091755, \"best_metric\": 0.91109581}, {\"run_id\": \"AutoML_e0801f1a-6e7e-448a-af65-866745c60af5_19\", \"run_number\": 1622382693, \"metric\": null, \"status\": \"Completed\", \"run_type\": \"azureml.scriptrun\", \"training_percent\": \"100\", \"start_time\": \"2021-05-30T13:51:43.038139Z\", \"end_time\": \"2021-05-30T13:52:30.574112Z\", \"created_time\": \"2021-05-30T13:51:33.121435Z\", \"created_time_dt\": \"2021-05-30T13:51:33.121435Z\", \"duration\": \"0:00:57\", \"iteration\": \"19\", \"goal\": \"AUC_weighted_max\", \"run_name\": \"StandardScalerWrapper, XGBoostClassifier\", \"run_properties\": \"\\n    copy=True,\\n    with_mean=False,\\n    with_std=False\\n\", \"primary_metric\": 0.90890998, \"best_metric\": 0.91109581}, {\"run_id\": \"AutoML_e0801f1a-6e7e-448a-af65-866745c60af5_20\", \"run_number\": 1622382752, \"metric\": null, \"status\": \"Completed\", \"run_type\": \"azureml.scriptrun\", \"training_percent\": \"100\", \"start_time\": \"2021-05-30T13:52:44.245201Z\", \"end_time\": \"2021-05-30T13:53:29.655576Z\", \"created_time\": \"2021-05-30T13:52:32.408454Z\", \"created_time_dt\": \"2021-05-30T13:52:32.408454Z\", \"duration\": \"0:00:57\", \"iteration\": \"20\", \"goal\": \"AUC_weighted_max\", \"run_name\": \"MaxAbsScaler, RandomForest\", \"run_properties\": \"copy=True\", \"primary_metric\": 0.88706276, \"best_metric\": 0.91109581}, {\"run_id\": \"AutoML_e0801f1a-6e7e-448a-af65-866745c60af5_21\", \"run_number\": 1622382756, \"metric\": null, \"status\": \"Completed\", \"run_type\": \"azureml.scriptrun\", \"training_percent\": \"100\", \"start_time\": \"2021-05-30T13:52:44.218998Z\", \"end_time\": \"2021-05-30T13:53:31.107339Z\", \"created_time\": \"2021-05-30T13:52:36.429278Z\", \"created_time_dt\": \"2021-05-30T13:52:36.429278Z\", \"duration\": \"0:00:54\", \"iteration\": \"21\", \"goal\": \"AUC_weighted_max\", \"run_name\": \"MaxAbsScaler, ExtremeRandomTrees\", \"run_properties\": \"copy=True\", \"primary_metric\": 0.85929799, \"best_metric\": 0.91109581}, {\"run_id\": \"AutoML_e0801f1a-6e7e-448a-af65-866745c60af5_24\", \"run_number\": 1622382812, \"metric\": null, \"status\": \"Completed\", \"run_type\": \"azureml.scriptrun\", \"training_percent\": \"100\", \"start_time\": \"2021-05-30T13:53:46.833034Z\", \"end_time\": \"2021-05-30T13:54:33.26273Z\", \"created_time\": \"2021-05-30T13:53:32.012937Z\", \"created_time_dt\": \"2021-05-30T13:53:32.012937Z\", \"duration\": \"0:01:01\", \"iteration\": \"24\", \"goal\": \"AUC_weighted_max\", \"run_name\": \"StandardScalerWrapper, XGBoostClassifier\", \"run_properties\": \"\\n    copy=True,\\n    with_mean=False,\\n    with_std=False\\n\", \"primary_metric\": 0.8972491, \"best_metric\": 0.91109581}, {\"run_id\": \"AutoML_e0801f1a-6e7e-448a-af65-866745c60af5_25\", \"run_number\": 1622382816, \"metric\": null, \"status\": \"Completed\", \"run_type\": \"azureml.scriptrun\", \"training_percent\": \"100\", \"start_time\": \"2021-05-30T13:53:48.360633Z\", \"end_time\": \"2021-05-30T13:54:39.695146Z\", \"created_time\": \"2021-05-30T13:53:36.279039Z\", \"created_time_dt\": \"2021-05-30T13:53:36.279039Z\", \"duration\": \"0:01:03\", \"iteration\": \"25\", \"goal\": \"AUC_weighted_max\", \"run_name\": \"TruncatedSVDWrapper, RandomForest\", \"run_properties\": \"n_components=0.20789473684210527, random_state=None\", \"primary_metric\": 0.51574866, \"best_metric\": 0.91109581}, {\"run_id\": \"AutoML_e0801f1a-6e7e-448a-af65-866745c60af5_27\", \"run_number\": 1622382822, \"metric\": null, \"status\": \"Completed\", \"run_type\": \"azureml.scriptrun\", \"training_percent\": \"100\", \"start_time\": \"2021-05-30T13:53:53.986895Z\", \"end_time\": \"2021-05-30T13:54:42.286012Z\", \"created_time\": \"2021-05-30T13:53:42.013337Z\", \"created_time_dt\": \"2021-05-30T13:53:42.013337Z\", \"duration\": \"0:01:00\", \"iteration\": \"27\", \"goal\": \"AUC_weighted_max\", \"run_name\": \"StandardScalerWrapper, XGBoostClassifier\", \"run_properties\": \"\\n    copy=True,\\n    with_mean=False,\\n    with_std=False\\n\", \"primary_metric\": 0.90512321, \"best_metric\": 0.91109581}, {\"run_id\": \"AutoML_e0801f1a-6e7e-448a-af65-866745c60af5_28\", \"run_number\": 1622382875, \"metric\": null, \"status\": \"Completed\", \"run_type\": \"azureml.scriptrun\", \"training_percent\": \"100\", \"start_time\": \"2021-05-30T13:54:45.326627Z\", \"end_time\": \"2021-05-30T13:55:32.897602Z\", \"created_time\": \"2021-05-30T13:54:35.167645Z\", \"created_time_dt\": \"2021-05-30T13:54:35.167645Z\", \"duration\": \"0:00:57\", \"iteration\": \"28\", \"goal\": \"AUC_weighted_max\", \"run_name\": \"StandardScalerWrapper, XGBoostClassifier\", \"run_properties\": \"\\n    copy=True,\\n    with_mean=False,\\n    with_std=False\\n\", \"primary_metric\": 0.88804188, \"best_metric\": 0.91109581}, {\"run_id\": \"AutoML_e0801f1a-6e7e-448a-af65-866745c60af5_29\", \"run_number\": 1622382879, \"metric\": null, \"status\": \"Completed\", \"run_type\": \"azureml.scriptrun\", \"training_percent\": \"100\", \"start_time\": \"2021-05-30T13:54:55.783756Z\", \"end_time\": \"2021-05-30T13:55:51.793793Z\", \"created_time\": \"2021-05-30T13:54:39.370161Z\", \"created_time_dt\": \"2021-05-30T13:54:39.370161Z\", \"duration\": \"0:01:12\", \"iteration\": \"29\", \"goal\": \"AUC_weighted_max\", \"run_name\": \"MinMaxScaler, RandomForest\", \"run_properties\": \"copy=True, feature_range=(0, 1\", \"primary_metric\": 0.90428372, \"best_metric\": 0.91109581}, {\"run_id\": \"AutoML_e0801f1a-6e7e-448a-af65-866745c60af5_30\", \"run_number\": 1622382883, \"metric\": null, \"status\": \"Completed\", \"run_type\": \"azureml.scriptrun\", \"training_percent\": \"100\", \"start_time\": \"2021-05-30T13:54:53.794536Z\", \"end_time\": \"2021-05-30T13:55:41.436076Z\", \"created_time\": \"2021-05-30T13:54:43.538904Z\", \"created_time_dt\": \"2021-05-30T13:54:43.538904Z\", \"duration\": \"0:00:57\", \"iteration\": \"30\", \"goal\": \"AUC_weighted_max\", \"run_name\": \"MaxAbsScaler, RandomForest\", \"run_properties\": \"copy=True\", \"primary_metric\": 0.79463175, \"best_metric\": 0.91109581}, {\"run_id\": \"AutoML_e0801f1a-6e7e-448a-af65-866745c60af5_31\", \"run_number\": 1622382887, \"metric\": null, \"status\": \"Completed\", \"run_type\": \"azureml.scriptrun\", \"training_percent\": \"100\", \"start_time\": \"2021-05-30T13:54:59.046018Z\", \"end_time\": \"2021-05-30T13:55:47.359161Z\", \"created_time\": \"2021-05-30T13:54:47.101011Z\", \"created_time_dt\": \"2021-05-30T13:54:47.101011Z\", \"duration\": \"0:01:00\", \"iteration\": \"31\", \"goal\": \"AUC_weighted_max\", \"run_name\": \"MinMaxScaler, LightGBM\", \"run_properties\": \"copy=True, feature_range=(0, 1\", \"primary_metric\": 0.90374627, \"best_metric\": 0.91109581}, {\"run_id\": \"AutoML_e0801f1a-6e7e-448a-af65-866745c60af5_32\", \"run_number\": 1622382934, \"metric\": null, \"status\": \"Completed\", \"run_type\": \"azureml.scriptrun\", \"training_percent\": \"100\", \"start_time\": \"2021-05-30T13:55:47.396759Z\", \"end_time\": \"2021-05-30T13:56:32.416479Z\", \"created_time\": \"2021-05-30T13:55:34.658237Z\", \"created_time_dt\": \"2021-05-30T13:55:34.658237Z\", \"duration\": \"0:00:57\", \"iteration\": \"32\", \"goal\": \"AUC_weighted_max\", \"run_name\": \"MinMaxScaler, LightGBM\", \"run_properties\": \"copy=True, feature_range=(0, 1\", \"primary_metric\": 0.89982367, \"best_metric\": 0.91109581}, {\"run_id\": \"AutoML_e0801f1a-6e7e-448a-af65-866745c60af5_33\", \"run_number\": 1622382943, \"metric\": null, \"status\": \"Canceled\", \"run_type\": \"azureml.scriptrun\", \"training_percent\": \"100\", \"start_time\": \"2021-05-30T13:55:55.365165Z\", \"end_time\": \"2021-05-30T13:56:39.271979Z\", \"created_time\": \"2021-05-30T13:55:43.399531Z\", \"created_time_dt\": \"2021-05-30T13:55:43.399531Z\", \"duration\": \"0:00:55\", \"iteration\": \"33\", \"goal\": \"AUC_weighted_max\", \"run_name\": \"StandardScalerWrapper, LightGBM\", \"run_properties\": \"\\n    copy=True,\\n    with_mean=False,\\n    with_std=True\\n\", \"primary_metric\": 0.90693727, \"best_metric\": 0.91109581}, {\"run_id\": \"AutoML_e0801f1a-6e7e-448a-af65-866745c60af5_34\", \"run_number\": 1622382949, \"metric\": null, \"status\": \"Canceled\", \"run_type\": \"azureml.scriptrun\", \"training_percent\": \"100\", \"start_time\": \"2021-05-30T13:56:01.240038Z\", \"end_time\": \"2021-05-30T13:56:39.33388Z\", \"created_time\": \"2021-05-30T13:55:49.126323Z\", \"created_time_dt\": \"2021-05-30T13:55:49.126323Z\", \"duration\": \"0:00:50\", \"iteration\": \"34\", \"goal\": \"AUC_weighted_max\", \"run_name\": \"MaxAbsScaler, LogisticRegression\", \"run_properties\": \"copy=True\", \"primary_metric\": 0.86572678, \"best_metric\": 0.91109581}, {\"run_id\": \"AutoML_e0801f1a-6e7e-448a-af65-866745c60af5_35\", \"run_number\": 1622382955, \"metric\": null, \"status\": \"Canceled\", \"run_type\": \"azureml.scriptrun\", \"training_percent\": \"100\", \"start_time\": \"2021-05-30T13:56:06.835808Z\", \"end_time\": \"2021-05-30T13:56:39.314243Z\", \"created_time\": \"2021-05-30T13:55:55.003391Z\", \"created_time_dt\": \"2021-05-30T13:55:55.003391Z\", \"duration\": \"0:00:44\", \"iteration\": \"35\", \"goal\": null, \"run_name\": \"RobustScaler, RandomForest\", \"run_properties\": null}, {\"run_id\": \"AutoML_e0801f1a-6e7e-448a-af65-866745c60af5_36\", \"run_number\": 1622383000, \"metric\": null, \"status\": \"Completed\", \"run_type\": \"azureml.scriptrun\", \"training_percent\": \"100\", \"start_time\": \"2021-05-30T13:56:49.747653Z\", \"end_time\": \"2021-05-30T13:58:01.903766Z\", \"created_time\": \"2021-05-30T13:56:40.164359Z\", \"created_time_dt\": \"2021-05-30T13:56:40.164359Z\", \"duration\": \"0:01:21\", \"iteration\": \"36\", \"goal\": \"AUC_weighted_max\", \"run_name\": \"VotingEnsemble\", \"run_properties\": \"\\n    estimators=[('4', Pipeline(memory=None,\\n             steps=[('minmaxscaler', MinMaxScaler(copy=True, feature_range=(0, 1\", \"primary_metric\": 0.91708056, \"best_metric\": 0.91708056}], \"children_metrics\": {\"categories\": [0], \"series\": {\"balanced_accuracy\": [{\"categories\": [\"0\", \"3\", \"4\", \"5\", \"7\", \"9\", \"11\", \"12\", \"13\", \"16\", \"19\", \"20\", \"21\", \"24\", \"25\", \"27\", \"28\", \"29\", \"30\", \"31\", \"32\", \"33\", \"34\", \"36\"], \"mode\": \"markers\", \"name\": \"balanced_accuracy\", \"stepped\": false, \"type\": \"scatter\", \"data\": [0.8077082895810014, 0.7074001992794898, 0.8196347600721172, 0.7978503938535403, 0.7844452390033053, 0.6780357113964093, 0.782551299609366, 0.8128059551051543, 0.7873529607946084, 0.7108155806182122, 0.7831479179668539, 0.8034175247902364, 0.8127882915457286, 0.826300123249494, 0.5019692957690669, 0.8291951448945156, 0.7548409726556179, 0.8306600666686478, 0.7946317469398132, 0.8109795424826889, 0.8216869739401205, 0.8232160997850357, 0.7956483204057574, 0.8201338487027845]}, {\"categories\": [\"0\", \"3\", \"4\", \"5\", \"7\", \"9\", \"11\", \"12\", \"13\", \"16\", \"19\", \"20\", \"21\", \"24\", \"25\", \"27\", \"28\", \"29\", \"30\", \"31\", \"32\", \"33\", \"34\", \"36\"], \"mode\": \"lines\", \"name\": \"balanced_accuracy_max\", \"stepped\": true, \"type\": \"scatter\", \"data\": [0.8077082895810014, 0.8077082895810014, 0.8196347600721172, 0.8196347600721172, 0.8196347600721172, 0.8196347600721172, 0.8196347600721172, 0.8196347600721172, 0.8196347600721172, 0.8196347600721172, 0.8196347600721172, 0.8196347600721172, 0.8196347600721172, 0.826300123249494, 0.826300123249494, 0.8291951448945156, 0.8291951448945156, 0.8306600666686478, 0.8306600666686478, 0.8306600666686478, 0.8306600666686478, 0.8306600666686478, 0.8306600666686478, 0.8306600666686478]}], \"precision_score_weighted\": [{\"categories\": [\"0\", \"3\", \"4\", \"5\", \"7\", \"9\", \"11\", \"12\", \"13\", \"16\", \"19\", \"20\", \"21\", \"24\", \"25\", \"27\", \"28\", \"29\", \"30\", \"31\", \"32\", \"33\", \"34\", \"36\"], \"mode\": \"markers\", \"name\": \"precision_score_weighted\", \"stepped\": false, \"type\": \"scatter\", \"data\": [0.8443308716969533, 0.8196146869686849, 0.8525945613247845, 0.8490267004727053, 0.8398172772588065, 0.7837569262377359, 0.8549117609693322, 0.8442869711286226, 0.8406304449876908, 0.8456896406857689, 0.8350718081947862, 0.8538266409724431, 0.8395738321094417, 0.8639893703223803, 0.5824612034085666, 0.8619331704280995, 0.8447318194798704, 0.8548699634727503, 0.8493752663711434, 0.8525631424973298, 0.8598044158718599, 0.8654258625740899, 0.8475641777966109, 0.8610438424562246]}, {\"categories\": [\"0\", \"3\", \"4\", \"5\", \"7\", \"9\", \"11\", \"12\", \"13\", \"16\", \"19\", \"20\", \"21\", \"24\", \"25\", \"27\", \"28\", \"29\", \"30\", \"31\", \"32\", \"33\", \"34\", \"36\"], \"mode\": \"lines\", \"name\": \"precision_score_weighted_max\", \"stepped\": true, \"type\": \"scatter\", \"data\": [0.8443308716969533, 0.8443308716969533, 0.8525945613247845, 0.8525945613247845, 0.8525945613247845, 0.8525945613247845, 0.8549117609693322, 0.8549117609693322, 0.8549117609693322, 0.8549117609693322, 0.8549117609693322, 0.8549117609693322, 0.8549117609693322, 0.8639893703223803, 0.8639893703223803, 0.8639893703223803, 0.8639893703223803, 0.8639893703223803, 0.8639893703223803, 0.8639893703223803, 0.8639893703223803, 0.8654258625740899, 0.8654258625740899, 0.8654258625740899]}], \"recall_score_macro\": [{\"categories\": [\"0\", \"3\", \"4\", \"5\", \"7\", \"9\", \"11\", \"12\", \"13\", \"16\", \"19\", \"20\", \"21\", \"24\", \"25\", \"27\", \"28\", \"29\", \"30\", \"31\", \"32\", \"33\", \"34\", \"36\"], \"mode\": \"markers\", \"name\": \"recall_score_macro\", \"stepped\": false, \"type\": \"scatter\", \"data\": [0.8077082895810014, 0.7074001992794898, 0.8196347600721172, 0.7978503938535403, 0.7844452390033053, 0.6780357113964093, 0.782551299609366, 0.8128059551051543, 0.7873529607946084, 0.7108155806182122, 0.7831479179668539, 0.8034175247902364, 0.8127882915457286, 0.826300123249494, 0.5019692957690669, 0.8291951448945156, 0.7548409726556179, 0.8306600666686478, 0.7946317469398132, 0.8109795424826889, 0.8216869739401205, 0.8232160997850357, 0.7956483204057574, 0.8201338487027845]}, {\"categories\": [\"0\", \"3\", \"4\", \"5\", \"7\", \"9\", \"11\", \"12\", \"13\", \"16\", \"19\", \"20\", \"21\", \"24\", \"25\", \"27\", \"28\", \"29\", \"30\", \"31\", \"32\", \"33\", \"34\", \"36\"], \"mode\": \"lines\", \"name\": \"recall_score_macro_max\", \"stepped\": true, \"type\": \"scatter\", \"data\": [0.8077082895810014, 0.8077082895810014, 0.8196347600721172, 0.8196347600721172, 0.8196347600721172, 0.8196347600721172, 0.8196347600721172, 0.8196347600721172, 0.8196347600721172, 0.8196347600721172, 0.8196347600721172, 0.8196347600721172, 0.8196347600721172, 0.826300123249494, 0.826300123249494, 0.8291951448945156, 0.8291951448945156, 0.8306600666686478, 0.8306600666686478, 0.8306600666686478, 0.8306600666686478, 0.8306600666686478, 0.8306600666686478, 0.8306600666686478]}], \"norm_macro_recall\": [{\"categories\": [\"0\", \"3\", \"4\", \"5\", \"7\", \"9\", \"11\", \"12\", \"13\", \"16\", \"19\", \"20\", \"21\", \"24\", \"25\", \"27\", \"28\", \"29\", \"30\", \"31\", \"32\", \"33\", \"34\", \"36\"], \"mode\": \"markers\", \"name\": \"norm_macro_recall\", \"stepped\": false, \"type\": \"scatter\", \"data\": [0.6154165791620023, 0.41480039855897977, 0.6392695201442341, 0.5957007877070806, 0.5688904780066106, 0.3560714227928186, 0.5651025992187318, 0.6256119102103084, 0.5747059215892167, 0.4216311612364244, 0.5662958359337078, 0.606835049580473, 0.6255765830914573, 0.6526002464989878, 0.07046291866028706, 0.6583902897890312, 0.5096819453112358, 0.6613201333372958, 0.5892634938796265, 0.6219590849653779, 0.6433739478802408, 0.6464321995700714, 0.591296640811515, 0.6402676974055691]}, {\"categories\": [\"0\", \"3\", \"4\", \"5\", \"7\", \"9\", \"11\", \"12\", \"13\", \"16\", \"19\", \"20\", \"21\", \"24\", \"25\", \"27\", \"28\", \"29\", \"30\", \"31\", \"32\", \"33\", \"34\", \"36\"], \"mode\": \"lines\", \"name\": \"norm_macro_recall_max\", \"stepped\": true, \"type\": \"scatter\", \"data\": [0.6154165791620023, 0.6154165791620023, 0.6392695201442341, 0.6392695201442341, 0.6392695201442341, 0.6392695201442341, 0.6392695201442341, 0.6392695201442341, 0.6392695201442341, 0.6392695201442341, 0.6392695201442341, 0.6392695201442341, 0.6392695201442341, 0.6526002464989878, 0.6526002464989878, 0.6583902897890312, 0.6583902897890312, 0.6613201333372958, 0.6613201333372958, 0.6613201333372958, 0.6613201333372958, 0.6613201333372958, 0.6613201333372958, 0.6613201333372958]}], \"f1_score_micro\": [{\"categories\": [\"0\", \"3\", \"4\", \"5\", \"7\", \"9\", \"11\", \"12\", \"13\", \"16\", \"19\", \"20\", \"21\", \"24\", \"25\", \"27\", \"28\", \"29\", \"30\", \"31\", \"32\", \"33\", \"34\", \"36\"], \"mode\": \"markers\", \"name\": \"f1_score_micro\", \"stepped\": false, \"type\": \"scatter\", \"data\": [0.8359770114942527, 0.7926436781609196, 0.8358620689655172, 0.8359770114942527, 0.8293103448275861, 0.7659770114942528, 0.8394252873563218, 0.812183908045977, 0.8191954022988505, 0.8059770114942528, 0.8258620689655173, 0.8395402298850575, 0.8224137931034484, 0.8527586206896552, 0.5018390804597701, 0.8458620689655172, 0.825977011494253, 0.8324137931034483, 0.8393103448275863, 0.8391954022988506, 0.8457471264367816, 0.8527586206896552, 0.8293103448275861, 0.8493103448275864]}, {\"categories\": [\"0\", \"3\", \"4\", \"5\", \"7\", \"9\", \"11\", \"12\", \"13\", \"16\", \"19\", \"20\", \"21\", \"24\", \"25\", \"27\", \"28\", \"29\", \"30\", \"31\", \"32\", \"33\", \"34\", \"36\"], \"mode\": \"lines\", \"name\": \"f1_score_micro_max\", \"stepped\": true, \"type\": \"scatter\", \"data\": [0.8359770114942527, 0.8359770114942527, 0.8359770114942527, 0.8359770114942527, 0.8359770114942527, 0.8359770114942527, 0.8394252873563218, 0.8394252873563218, 0.8394252873563218, 0.8394252873563218, 0.8394252873563218, 0.8395402298850575, 0.8395402298850575, 0.8527586206896552, 0.8527586206896552, 0.8527586206896552, 0.8527586206896552, 0.8527586206896552, 0.8527586206896552, 0.8527586206896552, 0.8527586206896552, 0.8527586206896552, 0.8527586206896552, 0.8527586206896552]}], \"average_precision_score_micro\": [{\"categories\": [\"0\", \"3\", \"4\", \"5\", \"7\", \"9\", \"11\", \"12\", \"13\", \"16\", \"19\", \"20\", \"21\", \"24\", \"25\", \"27\", \"28\", \"29\", \"30\", \"31\", \"32\", \"33\", \"34\", \"36\"], \"mode\": \"markers\", \"name\": \"average_precision_score_micro\", \"stepped\": false, \"type\": \"scatter\", \"data\": [0.9020054536251629, 0.8867616799861737, 0.9163984414259293, 0.9044036522047719, 0.8982344242595828, 0.7964089391804331, 0.8905056558273031, 0.8887722670591283, 0.8885577489245792, 0.8812992001020351, 0.9145380507917885, 0.905932696955165, 0.8844255468346836, 0.9111051060172054, 0.5666969892418027, 0.9160619999335472, 0.8928583850896636, 0.9068152048507766, 0.7960509475692902, 0.9190332414413522, 0.9154538532747141, 0.9201852745831353, 0.8895660022112726, 0.9280137323683842]}, {\"categories\": [\"0\", \"3\", \"4\", \"5\", \"7\", \"9\", \"11\", \"12\", \"13\", \"16\", \"19\", \"20\", \"21\", \"24\", \"25\", \"27\", \"28\", \"29\", \"30\", \"31\", \"32\", \"33\", \"34\", \"36\"], \"mode\": \"lines\", \"name\": \"average_precision_score_micro_max\", \"stepped\": true, \"type\": \"scatter\", \"data\": [0.9020054536251629, 0.9020054536251629, 0.9163984414259293, 0.9163984414259293, 0.9163984414259293, 0.9163984414259293, 0.9163984414259293, 0.9163984414259293, 0.9163984414259293, 0.9163984414259293, 0.9163984414259293, 0.9163984414259293, 0.9163984414259293, 0.9163984414259293, 0.9163984414259293, 0.9163984414259293, 0.9163984414259293, 0.9163984414259293, 0.9163984414259293, 0.9190332414413522, 0.9190332414413522, 0.9201852745831353, 0.9201852745831353, 0.9280137323683842]}], \"average_precision_score_macro\": [{\"categories\": [\"0\", \"3\", \"4\", \"5\", \"7\", \"9\", \"11\", \"12\", \"13\", \"16\", \"19\", \"20\", \"21\", \"24\", \"25\", \"27\", \"28\", \"29\", \"30\", \"31\", \"32\", \"33\", \"34\", \"36\"], \"mode\": \"markers\", \"name\": \"average_precision_score_macro\", \"stepped\": false, \"type\": \"scatter\", \"data\": [0.8807888197525153, 0.8819628267039026, 0.9064027382067907, 0.8829432327156475, 0.8783490805253356, 0.7610796181270093, 0.8811129749910082, 0.8736017583036009, 0.8563513678510098, 0.884318406069444, 0.8985389415472792, 0.894117070466856, 0.8695396165942288, 0.8899079547823548, 0.5246053201266413, 0.8915480212235863, 0.8791694334585877, 0.896854152710253, 0.7432271645633666, 0.8978243729654729, 0.8915155256323326, 0.9005597426779138, 0.857377073962048, 0.906866706898309]}, {\"categories\": [\"0\", \"3\", \"4\", \"5\", \"7\", \"9\", \"11\", \"12\", \"13\", \"16\", \"19\", \"20\", \"21\", \"24\", \"25\", \"27\", \"28\", \"29\", \"30\", \"31\", \"32\", \"33\", \"34\", \"36\"], \"mode\": \"lines\", \"name\": \"average_precision_score_macro_max\", \"stepped\": true, \"type\": \"scatter\", \"data\": [0.8807888197525153, 0.8819628267039026, 0.9064027382067907, 0.9064027382067907, 0.9064027382067907, 0.9064027382067907, 0.9064027382067907, 0.9064027382067907, 0.9064027382067907, 0.9064027382067907, 0.9064027382067907, 0.9064027382067907, 0.9064027382067907, 0.9064027382067907, 0.9064027382067907, 0.9064027382067907, 0.9064027382067907, 0.9064027382067907, 0.9064027382067907, 0.9064027382067907, 0.9064027382067907, 0.9064027382067907, 0.9064027382067907, 0.906866706898309]}], \"matthews_correlation\": [{\"categories\": [\"0\", \"3\", \"4\", \"5\", \"7\", \"9\", \"11\", \"12\", \"13\", \"16\", \"19\", \"20\", \"21\", \"24\", \"25\", \"27\", \"28\", \"29\", \"30\", \"31\", \"32\", \"33\", \"34\", \"36\"], \"mode\": \"markers\", \"name\": \"matthews_correlation\", \"stepped\": false, \"type\": \"scatter\", \"data\": [0.6231314496952846, 0.5107609691980187, 0.6307956892574327, 0.6239175882993901, 0.6078359427630264, 0.4352854456898543, 0.6337073593634728, 0.5988834476429862, 0.5949640841014838, 0.543375614914117, 0.591194297640371, 0.6340210790080981, 0.6035311131754109, 0.6677643390133987, 0.0021543919640968877, 0.6612921399462637, 0.5865581756824486, 0.633421882948433, 0.6228269004273437, 0.6393968851050753, 0.651531444066024, 0.6700116905837972, 0.6149414220637609, 0.6539797696541126]}, {\"categories\": [\"0\", \"3\", \"4\", \"5\", \"7\", \"9\", \"11\", \"12\", \"13\", \"16\", \"19\", \"20\", \"21\", \"24\", \"25\", \"27\", \"28\", \"29\", \"30\", \"31\", \"32\", \"33\", \"34\", \"36\"], \"mode\": \"lines\", \"name\": \"matthews_correlation_max\", \"stepped\": true, \"type\": \"scatter\", \"data\": [0.6231314496952846, 0.6231314496952846, 0.6307956892574327, 0.6307956892574327, 0.6307956892574327, 0.6307956892574327, 0.6337073593634728, 0.6337073593634728, 0.6337073593634728, 0.6337073593634728, 0.6337073593634728, 0.6340210790080981, 0.6340210790080981, 0.6677643390133987, 0.6677643390133987, 0.6677643390133987, 0.6677643390133987, 0.6677643390133987, 0.6677643390133987, 0.6677643390133987, 0.6677643390133987, 0.6700116905837972, 0.6700116905837972, 0.6700116905837972]}], \"weighted_accuracy\": [{\"categories\": [\"0\", \"3\", \"4\", \"5\", \"7\", \"9\", \"11\", \"12\", \"13\", \"16\", \"19\", \"20\", \"21\", \"24\", \"25\", \"27\", \"28\", \"29\", \"30\", \"31\", \"32\", \"33\", \"34\", \"36\"], \"mode\": \"markers\", \"name\": \"weighted_accuracy\", \"stepped\": false, \"type\": \"scatter\", \"data\": [0.8541321922200625, 0.8492456169689444, 0.8459363281416927, 0.8606956027973165, 0.8583297987522647, 0.8227930918585225, 0.8765552678563957, 0.8096022093653421, 0.8394854483029398, 0.8638015688337294, 0.8533454461004967, 0.8632407888507189, 0.8280005645342765, 0.8690531957355143, 0.507354568194953, 0.8563486293013105, 0.8702773707243996, 0.8330437614878508, 0.8686321881904802, 0.8569395266107008, 0.861392134526454, 0.8715220921866678, 0.8510199055144018, 0.867837401542268]}, {\"categories\": [\"0\", \"3\", \"4\", \"5\", \"7\", \"9\", \"11\", \"12\", \"13\", \"16\", \"19\", \"20\", \"21\", \"24\", \"25\", \"27\", \"28\", \"29\", \"30\", \"31\", \"32\", \"33\", \"34\", \"36\"], \"mode\": \"lines\", \"name\": \"weighted_accuracy_max\", \"stepped\": true, \"type\": \"scatter\", \"data\": [0.8541321922200625, 0.8541321922200625, 0.8541321922200625, 0.8606956027973165, 0.8606956027973165, 0.8606956027973165, 0.8765552678563957, 0.8765552678563957, 0.8765552678563957, 0.8765552678563957, 0.8765552678563957, 0.8765552678563957, 0.8765552678563957, 0.8765552678563957, 0.8765552678563957, 0.8765552678563957, 0.8765552678563957, 0.8765552678563957, 0.8765552678563957, 0.8765552678563957, 0.8765552678563957, 0.8765552678563957, 0.8765552678563957, 0.8765552678563957]}], \"precision_score_micro\": [{\"categories\": [\"0\", \"3\", \"4\", \"5\", \"7\", \"9\", \"11\", \"12\", \"13\", \"16\", \"19\", \"20\", \"21\", \"24\", \"25\", \"27\", \"28\", \"29\", \"30\", \"31\", \"32\", \"33\", \"34\", \"36\"], \"mode\": \"markers\", \"name\": \"precision_score_micro\", \"stepped\": false, \"type\": \"scatter\", \"data\": [0.8359770114942527, 0.7926436781609196, 0.8358620689655172, 0.8359770114942527, 0.8293103448275861, 0.7659770114942528, 0.8394252873563218, 0.812183908045977, 0.8191954022988505, 0.8059770114942528, 0.8258620689655173, 0.8395402298850575, 0.8224137931034482, 0.8527586206896552, 0.5018390804597701, 0.8458620689655172, 0.825977011494253, 0.8324137931034483, 0.8393103448275863, 0.8391954022988506, 0.8457471264367816, 0.8527586206896552, 0.8293103448275861, 0.849310344827586]}, {\"categories\": [\"0\", \"3\", \"4\", \"5\", \"7\", \"9\", \"11\", \"12\", \"13\", \"16\", \"19\", \"20\", \"21\", \"24\", \"25\", \"27\", \"28\", \"29\", \"30\", \"31\", \"32\", \"33\", \"34\", \"36\"], \"mode\": \"lines\", \"name\": \"precision_score_micro_max\", \"stepped\": true, \"type\": \"scatter\", \"data\": [0.8359770114942527, 0.8359770114942527, 0.8359770114942527, 0.8359770114942527, 0.8359770114942527, 0.8359770114942527, 0.8394252873563218, 0.8394252873563218, 0.8394252873563218, 0.8394252873563218, 0.8394252873563218, 0.8395402298850575, 0.8395402298850575, 0.8527586206896552, 0.8527586206896552, 0.8527586206896552, 0.8527586206896552, 0.8527586206896552, 0.8527586206896552, 0.8527586206896552, 0.8527586206896552, 0.8527586206896552, 0.8527586206896552, 0.8527586206896552]}], \"AUC_macro\": [{\"categories\": [\"0\", \"3\", \"4\", \"5\", \"7\", \"9\", \"11\", \"12\", \"13\", \"16\", \"19\", \"20\", \"21\", \"24\", \"25\", \"27\", \"28\", \"29\", \"30\", \"31\", \"32\", \"33\", \"34\", \"36\"], \"mode\": \"markers\", \"name\": \"AUC_macro\", \"stepped\": false, \"type\": \"scatter\", \"data\": [0.8840955354735103, 0.8858372845266438, 0.9110958069856239, 0.8885061649512449, 0.8866231057166412, 0.7496161006793443, 0.8818840904963329, 0.8939381771017356, 0.8685670027065907, 0.8809175542061126, 0.9089099837731132, 0.8870627576296911, 0.8592979886309978, 0.8972491004355421, 0.5157486645357354, 0.9051232097041021, 0.8880418817135063, 0.9042837248203952, 0.7946317469398132, 0.9037462671005578, 0.8998236706445517, 0.9069372666955047, 0.8657267750513746, 0.9170805630677485]}, {\"categories\": [\"0\", \"3\", \"4\", \"5\", \"7\", \"9\", \"11\", \"12\", \"13\", \"16\", \"19\", \"20\", \"21\", \"24\", \"25\", \"27\", \"28\", \"29\", \"30\", \"31\", \"32\", \"33\", \"34\", \"36\"], \"mode\": \"lines\", \"name\": \"AUC_macro_max\", \"stepped\": true, \"type\": \"scatter\", \"data\": [0.8840955354735103, 0.8858372845266438, 0.9110958069856239, 0.9110958069856239, 0.9110958069856239, 0.9110958069856239, 0.9110958069856239, 0.9110958069856239, 0.9110958069856239, 0.9110958069856239, 0.9110958069856239, 0.9110958069856239, 0.9110958069856239, 0.9110958069856239, 0.9110958069856239, 0.9110958069856239, 0.9110958069856239, 0.9110958069856239, 0.9110958069856239, 0.9110958069856239, 0.9110958069856239, 0.9110958069856239, 0.9110958069856239, 0.9170805630677485]}], \"f1_score_macro\": [{\"categories\": [\"0\", \"3\", \"4\", \"5\", \"7\", \"9\", \"11\", \"12\", \"13\", \"16\", \"19\", \"20\", \"21\", \"24\", \"25\", \"27\", \"28\", \"29\", \"30\", \"31\", \"32\", \"33\", \"34\", \"36\"], \"mode\": \"markers\", \"name\": \"f1_score_macro\", \"stepped\": false, \"type\": \"scatter\", \"data\": [0.8043314151248963, 0.716283410359895, 0.8065786240930681, 0.7991897233836593, 0.7913018948895197, 0.6844538166645457, 0.7979747947828294, 0.7872842822085548, 0.7829595716643771, 0.7210222692619845, 0.7859560894600321, 0.804469138593104, 0.7955182119989723, 0.8262619022743494, 0.469256531766644, 0.8212617791162022, 0.7679600250919951, 0.8085818032603258, 0.800330573156879, 0.8103274940034245, 0.816735966867801, 0.8237268694980224, 0.7943224567256801, 0.8183047177463653]}, {\"categories\": [\"0\", \"3\", \"4\", \"5\", \"7\", \"9\", \"11\", \"12\", \"13\", \"16\", \"19\", \"20\", \"21\", \"24\", \"25\", \"27\", \"28\", \"29\", \"30\", \"31\", \"32\", \"33\", \"34\", \"36\"], \"mode\": \"lines\", \"name\": \"f1_score_macro_max\", \"stepped\": true, \"type\": \"scatter\", \"data\": [0.8043314151248963, 0.8043314151248963, 0.8065786240930681, 0.8065786240930681, 0.8065786240930681, 0.8065786240930681, 0.8065786240930681, 0.8065786240930681, 0.8065786240930681, 0.8065786240930681, 0.8065786240930681, 0.8065786240930681, 0.8065786240930681, 0.8262619022743494, 0.8262619022743494, 0.8262619022743494, 0.8262619022743494, 0.8262619022743494, 0.8262619022743494, 0.8262619022743494, 0.8262619022743494, 0.8262619022743494, 0.8262619022743494, 0.8262619022743494]}], \"precision_score_macro\": [{\"categories\": [\"0\", \"3\", \"4\", \"5\", \"7\", \"9\", \"11\", \"12\", \"13\", \"16\", \"19\", \"20\", \"21\", \"24\", \"25\", \"27\", \"28\", \"29\", \"30\", \"31\", \"32\", \"33\", \"34\", \"36\"], \"mode\": \"markers\", \"name\": \"precision_score_macro\", \"stepped\": false, \"type\": \"scatter\", \"data\": [0.8167365852764965, 0.8197658110810284, 0.8125230814936698, 0.8289088268934816, 0.8259085781368389, 0.7703082497212932, 0.8568655704199182, 0.7874710925039873, 0.8100578723653665, 0.8663412654596865, 0.8096246520451326, 0.833439193339079, 0.7920062585650989, 0.8429787919525772, 0.49987021475256765, 0.8339245068656833, 0.8422338760273542, 0.8043578558412318, 0.8303834933182758, 0.8301036612577534, 0.831437216378393, 0.8491763263022853, 0.8217141086411681, 0.8351928380656004]}, {\"categories\": [\"0\", \"3\", \"4\", \"5\", \"7\", \"9\", \"11\", \"12\", \"13\", \"16\", \"19\", \"20\", \"21\", \"24\", \"25\", \"27\", \"28\", \"29\", \"30\", \"31\", \"32\", \"33\", \"34\", \"36\"], \"mode\": \"lines\", \"name\": \"precision_score_macro_max\", \"stepped\": true, \"type\": \"scatter\", \"data\": [0.8167365852764965, 0.8197658110810284, 0.8197658110810284, 0.8289088268934816, 0.8289088268934816, 0.8289088268934816, 0.8568655704199182, 0.8568655704199182, 0.8568655704199182, 0.8663412654596865, 0.8663412654596865, 0.8663412654596865, 0.8663412654596865, 0.8663412654596865, 0.8663412654596865, 0.8663412654596865, 0.8663412654596865, 0.8663412654596865, 0.8663412654596865, 0.8663412654596865, 0.8663412654596865, 0.8663412654596865, 0.8663412654596865, 0.8663412654596865]}], \"f1_score_weighted\": [{\"categories\": [\"0\", \"3\", \"4\", \"5\", \"7\", \"9\", \"11\", \"12\", \"13\", \"16\", \"19\", \"20\", \"21\", \"24\", \"25\", \"27\", \"28\", \"29\", \"30\", \"31\", \"32\", \"33\", \"34\", \"36\"], \"mode\": \"markers\", \"name\": \"f1_score_weighted\", \"stepped\": false, \"type\": \"scatter\", \"data\": [0.8333388901455894, 0.7678686217905026, 0.8357685499508474, 0.8302769340394212, 0.8221367091613085, 0.743922190318357, 0.829160760176501, 0.8173934505734286, 0.8158964872421828, 0.7779476667401881, 0.8208423832388133, 0.834227776197584, 0.8258215580961581, 0.8513159987919836, 0.5133021392700731, 0.8452026258498364, 0.8121533240509209, 0.8368226549118729, 0.8334889169323005, 0.8368174208799493, 0.844176292008099, 0.8482115030624963, 0.8258094543942279, 0.8466029332405407]}, {\"categories\": [\"0\", \"3\", \"4\", \"5\", \"7\", \"9\", \"11\", \"12\", \"13\", \"16\", \"19\", \"20\", \"21\", \"24\", \"25\", \"27\", \"28\", \"29\", \"30\", \"31\", \"32\", \"33\", \"34\", \"36\"], \"mode\": \"lines\", \"name\": \"f1_score_weighted_max\", \"stepped\": true, \"type\": \"scatter\", \"data\": [0.8333388901455894, 0.8333388901455894, 0.8357685499508474, 0.8357685499508474, 0.8357685499508474, 0.8357685499508474, 0.8357685499508474, 0.8357685499508474, 0.8357685499508474, 0.8357685499508474, 0.8357685499508474, 0.8357685499508474, 0.8357685499508474, 0.8513159987919836, 0.8513159987919836, 0.8513159987919836, 0.8513159987919836, 0.8513159987919836, 0.8513159987919836, 0.8513159987919836, 0.8513159987919836, 0.8513159987919836, 0.8513159987919836, 0.8513159987919836]}], \"recall_score_weighted\": [{\"categories\": [\"0\", \"3\", \"4\", \"5\", \"7\", \"9\", \"11\", \"12\", \"13\", \"16\", \"19\", \"20\", \"21\", \"24\", \"25\", \"27\", \"28\", \"29\", \"30\", \"31\", \"32\", \"33\", \"34\", \"36\"], \"mode\": \"markers\", \"name\": \"recall_score_weighted\", \"stepped\": false, \"type\": \"scatter\", \"data\": [0.8359770114942527, 0.7926436781609196, 0.8358620689655172, 0.8359770114942527, 0.8293103448275861, 0.7659770114942528, 0.8394252873563218, 0.812183908045977, 0.8191954022988505, 0.8059770114942528, 0.8258620689655173, 0.8395402298850575, 0.8224137931034482, 0.8527586206896552, 0.5018390804597701, 0.8458620689655172, 0.825977011494253, 0.8324137931034483, 0.8393103448275863, 0.8391954022988506, 0.8457471264367816, 0.8527586206896552, 0.8293103448275861, 0.849310344827586]}, {\"categories\": [\"0\", \"3\", \"4\", \"5\", \"7\", \"9\", \"11\", \"12\", \"13\", \"16\", \"19\", \"20\", \"21\", \"24\", \"25\", \"27\", \"28\", \"29\", \"30\", \"31\", \"32\", \"33\", \"34\", \"36\"], \"mode\": \"lines\", \"name\": \"recall_score_weighted_max\", \"stepped\": true, \"type\": \"scatter\", \"data\": [0.8359770114942527, 0.8359770114942527, 0.8359770114942527, 0.8359770114942527, 0.8359770114942527, 0.8359770114942527, 0.8394252873563218, 0.8394252873563218, 0.8394252873563218, 0.8394252873563218, 0.8394252873563218, 0.8395402298850575, 0.8395402298850575, 0.8527586206896552, 0.8527586206896552, 0.8527586206896552, 0.8527586206896552, 0.8527586206896552, 0.8527586206896552, 0.8527586206896552, 0.8527586206896552, 0.8527586206896552, 0.8527586206896552, 0.8527586206896552]}], \"recall_score_micro\": [{\"categories\": [\"0\", \"3\", \"4\", \"5\", \"7\", \"9\", \"11\", \"12\", \"13\", \"16\", \"19\", \"20\", \"21\", \"24\", \"25\", \"27\", \"28\", \"29\", \"30\", \"31\", \"32\", \"33\", \"34\", \"36\"], \"mode\": \"markers\", \"name\": \"recall_score_micro\", \"stepped\": false, \"type\": \"scatter\", \"data\": [0.8359770114942527, 0.7926436781609196, 0.8358620689655172, 0.8359770114942527, 0.8293103448275861, 0.7659770114942528, 0.8394252873563218, 0.812183908045977, 0.8191954022988505, 0.8059770114942528, 0.8258620689655173, 0.8395402298850575, 0.8224137931034482, 0.8527586206896552, 0.5018390804597701, 0.8458620689655172, 0.825977011494253, 0.8324137931034483, 0.8393103448275863, 0.8391954022988506, 0.8457471264367816, 0.8527586206896552, 0.8293103448275861, 0.849310344827586]}, {\"categories\": [\"0\", \"3\", \"4\", \"5\", \"7\", \"9\", \"11\", \"12\", \"13\", \"16\", \"19\", \"20\", \"21\", \"24\", \"25\", \"27\", \"28\", \"29\", \"30\", \"31\", \"32\", \"33\", \"34\", \"36\"], \"mode\": \"lines\", \"name\": \"recall_score_micro_max\", \"stepped\": true, \"type\": \"scatter\", \"data\": [0.8359770114942527, 0.8359770114942527, 0.8359770114942527, 0.8359770114942527, 0.8359770114942527, 0.8359770114942527, 0.8394252873563218, 0.8394252873563218, 0.8394252873563218, 0.8394252873563218, 0.8394252873563218, 0.8395402298850575, 0.8395402298850575, 0.8527586206896552, 0.8527586206896552, 0.8527586206896552, 0.8527586206896552, 0.8527586206896552, 0.8527586206896552, 0.8527586206896552, 0.8527586206896552, 0.8527586206896552, 0.8527586206896552, 0.8527586206896552]}], \"accuracy\": [{\"categories\": [\"0\", \"3\", \"4\", \"5\", \"7\", \"9\", \"11\", \"12\", \"13\", \"16\", \"19\", \"20\", \"21\", \"24\", \"25\", \"27\", \"28\", \"29\", \"30\", \"31\", \"32\", \"33\", \"34\", \"36\"], \"mode\": \"markers\", \"name\": \"accuracy\", \"stepped\": false, \"type\": \"scatter\", \"data\": [0.8359770114942527, 0.7926436781609196, 0.8358620689655172, 0.8359770114942527, 0.8293103448275861, 0.7659770114942528, 0.8394252873563218, 0.812183908045977, 0.8191954022988505, 0.8059770114942528, 0.8258620689655173, 0.8395402298850575, 0.8224137931034482, 0.8527586206896552, 0.5018390804597701, 0.8458620689655172, 0.825977011494253, 0.8324137931034483, 0.8393103448275863, 0.8391954022988506, 0.8457471264367816, 0.8527586206896552, 0.8293103448275861, 0.849310344827586]}, {\"categories\": [\"0\", \"3\", \"4\", \"5\", \"7\", \"9\", \"11\", \"12\", \"13\", \"16\", \"19\", \"20\", \"21\", \"24\", \"25\", \"27\", \"28\", \"29\", \"30\", \"31\", \"32\", \"33\", \"34\", \"36\"], \"mode\": \"lines\", \"name\": \"accuracy_max\", \"stepped\": true, \"type\": \"scatter\", \"data\": [0.8359770114942527, 0.8359770114942527, 0.8359770114942527, 0.8359770114942527, 0.8359770114942527, 0.8359770114942527, 0.8394252873563218, 0.8394252873563218, 0.8394252873563218, 0.8394252873563218, 0.8394252873563218, 0.8395402298850575, 0.8395402298850575, 0.8527586206896552, 0.8527586206896552, 0.8527586206896552, 0.8527586206896552, 0.8527586206896552, 0.8527586206896552, 0.8527586206896552, 0.8527586206896552, 0.8527586206896552, 0.8527586206896552, 0.8527586206896552]}], \"log_loss\": [{\"categories\": [\"0\", \"3\", \"4\", \"5\", \"7\", \"9\", \"11\", \"12\", \"13\", \"16\", \"19\", \"20\", \"21\", \"24\", \"25\", \"27\", \"28\", \"29\", \"30\", \"31\", \"32\", \"33\", \"34\", \"36\"], \"mode\": \"markers\", \"name\": \"log_loss\", \"stepped\": false, \"type\": \"scatter\", \"data\": [0.4772179826627182, 0.45880911596205864, 0.37770479971457716, 0.40319334073304053, 0.415036860885632, 1.2837639362986895, 0.43582878061861124, 0.43048681173201375, 0.4170128400235396, 0.46473617351809293, 0.4652367527361444, 0.38293008291716046, 0.4967499080620428, 0.41574399491775516, 0.6927041281823441, 0.40251629658220195, 0.5034955120669309, 0.46582829397175846, 0.4837204030281158, 0.3630664696403344, 0.3630141664609982, 0.35630025791434355, 0.4244707659824292, 0.5109356686600777]}, {\"categories\": [\"0\", \"3\", \"4\", \"5\", \"7\", \"9\", \"11\", \"12\", \"13\", \"16\", \"19\", \"20\", \"21\", \"24\", \"25\", \"27\", \"28\", \"29\", \"30\", \"31\", \"32\", \"33\", \"34\", \"36\"], \"mode\": \"lines\", \"name\": \"log_loss_min\", \"stepped\": true, \"type\": \"scatter\", \"data\": [0.4772179826627182, 0.45880911596205864, 0.37770479971457716, 0.37770479971457716, 0.37770479971457716, 0.37770479971457716, 0.37770479971457716, 0.37770479971457716, 0.37770479971457716, 0.37770479971457716, 0.37770479971457716, 0.37770479971457716, 0.37770479971457716, 0.37770479971457716, 0.37770479971457716, 0.37770479971457716, 0.37770479971457716, 0.37770479971457716, 0.37770479971457716, 0.3630664696403344, 0.3630141664609982, 0.35630025791434355, 0.35630025791434355, 0.35630025791434355]}], \"AUC_micro\": [{\"categories\": [\"0\", \"3\", \"4\", \"5\", \"7\", \"9\", \"11\", \"12\", \"13\", \"16\", \"19\", \"20\", \"21\", \"24\", \"25\", \"27\", \"28\", \"29\", \"30\", \"31\", \"32\", \"33\", \"34\", \"36\"], \"mode\": \"markers\", \"name\": \"AUC_micro\", \"stepped\": false, \"type\": \"scatter\", \"data\": [0.9035422116527941, 0.8812712379442462, 0.9139320914255518, 0.9030042277711718, 0.8956533227639053, 0.8096416963931828, 0.8913258026159335, 0.8913766679878453, 0.8846163297661513, 0.8805889813713831, 0.9104369137270446, 0.9053803672876205, 0.8870198176773683, 0.9086903157616595, 0.55386616461884, 0.9134037521469152, 0.8936591359492668, 0.9085305852820718, 0.8364254194741709, 0.914928127890078, 0.9144291187739464, 0.9176883339939227, 0.8857839873166865, 0.9235694279297133]}, {\"categories\": [\"0\", \"3\", \"4\", \"5\", \"7\", \"9\", \"11\", \"12\", \"13\", \"16\", \"19\", \"20\", \"21\", \"24\", \"25\", \"27\", \"28\", \"29\", \"30\", \"31\", \"32\", \"33\", \"34\", \"36\"], \"mode\": \"lines\", \"name\": \"AUC_micro_max\", \"stepped\": true, \"type\": \"scatter\", \"data\": [0.9035422116527941, 0.9035422116527941, 0.9139320914255518, 0.9139320914255518, 0.9139320914255518, 0.9139320914255518, 0.9139320914255518, 0.9139320914255518, 0.9139320914255518, 0.9139320914255518, 0.9139320914255518, 0.9139320914255518, 0.9139320914255518, 0.9139320914255518, 0.9139320914255518, 0.9139320914255518, 0.9139320914255518, 0.9139320914255518, 0.9139320914255518, 0.914928127890078, 0.914928127890078, 0.9176883339939227, 0.9176883339939227, 0.9235694279297133]}], \"AUC_weighted\": [{\"categories\": [\"0\", \"3\", \"4\", \"5\", \"7\", \"9\", \"11\", \"12\", \"13\", \"16\", \"19\", \"20\", \"21\", \"24\", \"25\", \"27\", \"28\", \"29\", \"30\", \"31\", \"32\", \"33\", \"34\", \"36\"], \"mode\": \"markers\", \"name\": \"AUC_weighted\", \"stepped\": false, \"type\": \"scatter\", \"data\": [0.8840955354735103, 0.8858372845266438, 0.9110958069856239, 0.8885061649512449, 0.8866231057166412, 0.7496161006793443, 0.8818840904963329, 0.8939381771017356, 0.8685670027065907, 0.8809175542061126, 0.9089099837731132, 0.8870627576296911, 0.8592979886309978, 0.8972491004355421, 0.5157486645357354, 0.9051232097041023, 0.8880418817135063, 0.9042837248203954, 0.7946317469398132, 0.9037462671005578, 0.8998236706445517, 0.9069372666955047, 0.8657267750513746, 0.9170805630677485]}, {\"categories\": [\"0\", \"3\", \"4\", \"5\", \"7\", \"9\", \"11\", \"12\", \"13\", \"16\", \"19\", \"20\", \"21\", \"24\", \"25\", \"27\", \"28\", \"29\", \"30\", \"31\", \"32\", \"33\", \"34\", \"36\"], \"mode\": \"lines\", \"name\": \"AUC_weighted_max\", \"stepped\": true, \"type\": \"scatter\", \"data\": [0.8840955354735103, 0.8858372845266438, 0.9110958069856239, 0.9110958069856239, 0.9110958069856239, 0.9110958069856239, 0.9110958069856239, 0.9110958069856239, 0.9110958069856239, 0.9110958069856239, 0.9110958069856239, 0.9110958069856239, 0.9110958069856239, 0.9110958069856239, 0.9110958069856239, 0.9110958069856239, 0.9110958069856239, 0.9110958069856239, 0.9110958069856239, 0.9110958069856239, 0.9110958069856239, 0.9110958069856239, 0.9110958069856239, 0.9170805630677485]}], \"average_precision_score_weighted\": [{\"categories\": [\"0\", \"3\", \"4\", \"5\", \"7\", \"9\", \"11\", \"12\", \"13\", \"16\", \"19\", \"20\", \"21\", \"24\", \"25\", \"27\", \"28\", \"29\", \"30\", \"31\", \"32\", \"33\", \"34\", \"36\"], \"mode\": \"markers\", \"name\": \"average_precision_score_weighted\", \"stepped\": false, \"type\": \"scatter\", \"data\": [0.9061112830231934, 0.9075144885524953, 0.9276080449356818, 0.9079994083755636, 0.9037758557332738, 0.7960613547349917, 0.9032674186998463, 0.9073402782733471, 0.8917237382750324, 0.9052329454569998, 0.9235801903509394, 0.9139887099146108, 0.888598303833156, 0.9156161129856415, 0.6031572941927282, 0.9197985892726658, 0.9039354032723818, 0.9203653177702824, 0.7877087808163391, 0.9218947438222017, 0.9161776217745328, 0.9237640649615168, 0.8916663984652514, 0.930914983621917]}, {\"categories\": [\"0\", \"3\", \"4\", \"5\", \"7\", \"9\", \"11\", \"12\", \"13\", \"16\", \"19\", \"20\", \"21\", \"24\", \"25\", \"27\", \"28\", \"29\", \"30\", \"31\", \"32\", \"33\", \"34\", \"36\"], \"mode\": \"lines\", \"name\": \"average_precision_score_weighted_max\", \"stepped\": true, \"type\": \"scatter\", \"data\": [0.9061112830231934, 0.9075144885524953, 0.9276080449356818, 0.9276080449356818, 0.9276080449356818, 0.9276080449356818, 0.9276080449356818, 0.9276080449356818, 0.9276080449356818, 0.9276080449356818, 0.9276080449356818, 0.9276080449356818, 0.9276080449356818, 0.9276080449356818, 0.9276080449356818, 0.9276080449356818, 0.9276080449356818, 0.9276080449356818, 0.9276080449356818, 0.9276080449356818, 0.9276080449356818, 0.9276080449356818, 0.9276080449356818, 0.930914983621917]}]}, \"metricName\": null, \"primaryMetricName\": \"AUC_weighted\", \"showLegend\": false}, \"run_metrics\": [{\"name\": \"experiment_status\", \"run_id\": \"AutoML_e0801f1a-6e7e-448a-af65-866745c60af5\", \"categories\": [0, 1, 2, 3, 4, 5, 6, 7, 8, 9, 10, 11, 12, 13], \"series\": [{\"data\": [\"DatasetEvaluation\", \"FeaturesGeneration\", \"DatasetFeaturization\", \"DatasetFeaturizationCompleted\", \"DatasetCrossValidationSplit\", \"ModelSelection\", \"BestRunExplainModel\", \"ModelExplanationDataSetSetup\", \"PickSurrogateModel\", \"EngineeredFeatureExplanations\", \"EngineeredFeatureExplanations\", \"RawFeaturesExplanations\", \"RawFeaturesExplanations\", \"BestRunExplainModel\"]}]}, {\"name\": \"experiment_status_description\", \"run_id\": \"AutoML_e0801f1a-6e7e-448a-af65-866745c60af5\", \"categories\": [0, 1, 2, 3, 4, 5, 6, 7, 8, 9, 10, 11, 12, 13], \"series\": [{\"data\": [\"Gathering dataset statistics.\", \"Generating features for the dataset.\", \"Beginning to fit featurizers and featurize the dataset.\", \"Completed fit featurizers and featurizing the dataset.\", \"Generating individually featurized CV splits.\", \"Beginning model selection.\", \"Best run model explanations started\", \"Model explanations data setup completed\", \"Choosing LightGBM as the surrogate model for explanations\", \"Computation of engineered features started\", \"Computation of engineered features completed\", \"Computation of raw features started\", \"Computation of raw features completed\", \"Best run model explanations completed\"]}]}, {\"name\": \"f1_score_macro\", \"run_id\": \"AutoML_e0801f1a-6e7e-448a-af65-866745c60af5\", \"categories\": [0], \"series\": [{\"data\": [0.8183047177463653]}]}, {\"name\": \"average_precision_score_micro\", \"run_id\": \"AutoML_e0801f1a-6e7e-448a-af65-866745c60af5\", \"categories\": [0], \"series\": [{\"data\": [0.9280137323683842]}]}, {\"name\": \"matthews_correlation\", \"run_id\": \"AutoML_e0801f1a-6e7e-448a-af65-866745c60af5\", \"categories\": [0], \"series\": [{\"data\": [0.6539797696541126]}]}, {\"name\": \"precision_score_weighted\", \"run_id\": \"AutoML_e0801f1a-6e7e-448a-af65-866745c60af5\", \"categories\": [0], \"series\": [{\"data\": [0.8610438424562246]}]}, {\"name\": \"precision_score_micro\", \"run_id\": \"AutoML_e0801f1a-6e7e-448a-af65-866745c60af5\", \"categories\": [0], \"series\": [{\"data\": [0.849310344827586]}]}, {\"name\": \"recall_score_macro\", \"run_id\": \"AutoML_e0801f1a-6e7e-448a-af65-866745c60af5\", \"categories\": [0], \"series\": [{\"data\": [0.8201338487027845]}]}, {\"name\": \"average_precision_score_macro\", \"run_id\": \"AutoML_e0801f1a-6e7e-448a-af65-866745c60af5\", \"categories\": [0], \"series\": [{\"data\": [0.906866706898309]}]}, {\"name\": \"AUC_micro\", \"run_id\": \"AutoML_e0801f1a-6e7e-448a-af65-866745c60af5\", \"categories\": [0], \"series\": [{\"data\": [0.9235694279297133]}]}, {\"name\": \"log_loss\", \"run_id\": \"AutoML_e0801f1a-6e7e-448a-af65-866745c60af5\", \"categories\": [0], \"series\": [{\"data\": [0.5109356686600777]}]}, {\"name\": \"precision_score_macro\", \"run_id\": \"AutoML_e0801f1a-6e7e-448a-af65-866745c60af5\", \"categories\": [0], \"series\": [{\"data\": [0.8351928380656004]}]}, {\"name\": \"balanced_accuracy\", \"run_id\": \"AutoML_e0801f1a-6e7e-448a-af65-866745c60af5\", \"categories\": [0], \"series\": [{\"data\": [0.8201338487027845]}]}, {\"name\": \"average_precision_score_weighted\", \"run_id\": \"AutoML_e0801f1a-6e7e-448a-af65-866745c60af5\", \"categories\": [0], \"series\": [{\"data\": [0.930914983621917]}]}, {\"name\": \"weighted_accuracy\", \"run_id\": \"AutoML_e0801f1a-6e7e-448a-af65-866745c60af5\", \"categories\": [0], \"series\": [{\"data\": [0.867837401542268]}]}, {\"name\": \"recall_score_micro\", \"run_id\": \"AutoML_e0801f1a-6e7e-448a-af65-866745c60af5\", \"categories\": [0], \"series\": [{\"data\": [0.849310344827586]}]}, {\"name\": \"accuracy\", \"run_id\": \"AutoML_e0801f1a-6e7e-448a-af65-866745c60af5\", \"categories\": [0], \"series\": [{\"data\": [0.849310344827586]}]}, {\"name\": \"norm_macro_recall\", \"run_id\": \"AutoML_e0801f1a-6e7e-448a-af65-866745c60af5\", \"categories\": [0], \"series\": [{\"data\": [0.6402676974055691]}]}, {\"name\": \"AUC_weighted\", \"run_id\": \"AutoML_e0801f1a-6e7e-448a-af65-866745c60af5\", \"categories\": [0], \"series\": [{\"data\": [0.9170805630677485]}]}, {\"name\": \"AUC_macro\", \"run_id\": \"AutoML_e0801f1a-6e7e-448a-af65-866745c60af5\", \"categories\": [0], \"series\": [{\"data\": [0.9170805630677485]}]}, {\"name\": \"recall_score_weighted\", \"run_id\": \"AutoML_e0801f1a-6e7e-448a-af65-866745c60af5\", \"categories\": [0], \"series\": [{\"data\": [0.849310344827586]}]}, {\"name\": \"f1_score_weighted\", \"run_id\": \"AutoML_e0801f1a-6e7e-448a-af65-866745c60af5\", \"categories\": [0], \"series\": [{\"data\": [0.8466029332405407]}]}, {\"name\": \"f1_score_micro\", \"run_id\": \"AutoML_e0801f1a-6e7e-448a-af65-866745c60af5\", \"categories\": [0], \"series\": [{\"data\": [0.8493103448275864]}]}], \"run_logs\": \"\\nRun is completed.\", \"graph\": {}, \"widget_settings\": {\"childWidgetDisplay\": \"popup\", \"send_telemetry\": false, \"log_level\": \"INFO\", \"sdk_version\": \"1.28.0\"}, \"loading\": false}"
          },
          "metadata": {}
        }
      ],
      "execution_count": 11,
      "metadata": {
        "gather": {
          "logged": 1622383211837
        },
        "jupyter": {
          "outputs_hidden": false,
          "source_hidden": false
        },
        "nteract": {
          "transient": {
            "deleting": false
          }
        }
      }
    },
    {
      "cell_type": "markdown",
      "source": [
        "## Best Model\n",
        "\n",
        "TODO: In the cell below, get the best model from the automl experiments and display all the properties of the model.\n",
        "\n"
      ],
      "metadata": {}
    },
    {
      "cell_type": "code",
      "source": [
        "best_run = automl_run1.get_best_child()\r\n",
        "best_run.get_metrics()"
      ],
      "outputs": [
        {
          "output_type": "execute_result",
          "execution_count": 12,
          "data": {
            "text/plain": "{'f1_score_macro': 0.8183047177463653,\n 'f1_score_micro': 0.8493103448275864,\n 'f1_score_weighted': 0.8466029332405407,\n 'recall_score_weighted': 0.849310344827586,\n 'average_precision_score_micro': 0.9280137323683842,\n 'balanced_accuracy': 0.8201338487027845,\n 'AUC_macro': 0.9170805630677485,\n 'log_loss': 0.5109356686600777,\n 'AUC_weighted': 0.9170805630677485,\n 'norm_macro_recall': 0.6402676974055691,\n 'accuracy': 0.849310344827586,\n 'precision_score_micro': 0.849310344827586,\n 'recall_score_micro': 0.849310344827586,\n 'weighted_accuracy': 0.867837401542268,\n 'average_precision_score_macro': 0.906866706898309,\n 'average_precision_score_weighted': 0.930914983621917,\n 'recall_score_macro': 0.8201338487027845,\n 'precision_score_macro': 0.8351928380656004,\n 'matthews_correlation': 0.6539797696541126,\n 'precision_score_weighted': 0.8610438424562246,\n 'AUC_micro': 0.9235694279297133,\n 'accuracy_table': 'aml://artifactId/ExperimentRun/dcid.AutoML_e0801f1a-6e7e-448a-af65-866745c60af5_36/accuracy_table',\n 'confusion_matrix': 'aml://artifactId/ExperimentRun/dcid.AutoML_e0801f1a-6e7e-448a-af65-866745c60af5_36/confusion_matrix'}"
          },
          "metadata": {}
        }
      ],
      "execution_count": 12,
      "metadata": {
        "gather": {
          "logged": 1622383223452
        },
        "jupyter": {
          "outputs_hidden": false,
          "source_hidden": false
        },
        "nteract": {
          "transient": {
            "deleting": false
          }
        }
      }
    },
    {
      "cell_type": "code",
      "source": [
        "print('Besr run id : ', best_run.id)"
      ],
      "outputs": [
        {
          "output_type": "stream",
          "name": "stdout",
          "text": [
            "Besr run id :  AutoML_e0801f1a-6e7e-448a-af65-866745c60af5_36\n"
          ]
        }
      ],
      "execution_count": 13,
      "metadata": {
        "collapsed": true,
        "jupyter": {
          "source_hidden": false,
          "outputs_hidden": false
        },
        "nteract": {
          "transient": {
            "deleting": false
          }
        },
        "gather": {
          "logged": 1622383227432
        }
      }
    },
    {
      "cell_type": "code",
      "source": [
        "#TODO: Save the best model\r\n",
        "best_automl_model, onnx_model = automl_run1.get_output(return_onnx_model=True)\r\n",
        "OnnxConverter.save_onnx_model(onnx_model, './automl_model.onnx')"
      ],
      "outputs": [],
      "execution_count": 14,
      "metadata": {
        "gather": {
          "logged": 1622383336329
        },
        "jupyter": {
          "outputs_hidden": false,
          "source_hidden": false
        },
        "nteract": {
          "transient": {
            "deleting": false
          }
        }
      }
    },
    {
      "cell_type": "code",
      "source": [
        "best_run, fitted_model = automl_run1.get_output()\r\n",
        "print(fitted_model)"
      ],
      "outputs": [
        {
          "output_type": "stream",
          "name": "stdout",
          "text": [
            "Pipeline(memory=None,\n",
            "         steps=[('datatransformer',\n",
            "                 DataTransformer(enable_dnn=False, enable_feature_sweeping=False, feature_sweeping_config={}, feature_sweeping_timeout=86400, featurization_config=None, force_text_dnn=False, is_cross_validation=True, is_onnx_compatible=True, observer=None, task='classification', working_dir='/mnt/batch/tasks/shared/LS_root/mount...\n",
            ")), ('randomforestclassifier', RandomForestClassifier(bootstrap=False, ccp_alpha=0.0, class_weight=None, criterion='entropy', max_depth=None, max_features='log2', max_leaf_nodes=None, max_samples=None, min_impurity_decrease=0.0, min_impurity_split=None, min_samples_leaf=0.01, min_samples_split=0.01, min_weight_fraction_leaf=0.0, n_estimators=10, n_jobs=1, oob_score=False, random_state=None, verbose=0, warm_start=False))], verbose=False)), ('30', Pipeline(memory=None, steps=[('maxabsscaler', MaxAbsScaler(copy=True)), ('randomforestclassifier', RandomForestClassifier(bootstrap=False, ccp_alpha=0.0, class_weight='balanced', criterion='gini', max_depth=None, max_features=None, max_leaf_nodes=None, max_samples=None, min_impurity_decrease=0.0, min_impurity_split=None, min_samples_leaf=0.06157894736842105, min_samples_split=0.9, min_weight_fraction_leaf=0.0, n_estimators=50, n_jobs=1, oob_score=False, random_state=None, verbose=0, warm_start=False))], verbose=False))], flatten_transform=None, weights=[0.06666666666666667, 0.06666666666666667, 0.06666666666666667, 0.06666666666666667, 0.06666666666666667, 0.5333333333333333, 0.06666666666666667, 0.06666666666666667]))],\n",
            "         verbose=False)\n"
          ]
        }
      ],
      "execution_count": 15,
      "metadata": {
        "collapsed": true,
        "jupyter": {
          "source_hidden": false,
          "outputs_hidden": false
        },
        "nteract": {
          "transient": {
            "deleting": false
          }
        },
        "gather": {
          "logged": 1622383414683
        }
      }
    },
    {
      "cell_type": "markdown",
      "source": [
        "## Model Deployment\n",
        "\n",
        "Remember you have to deploy only one of the two models you trained.. Perform the steps in the rest of this notebook only if you wish to deploy this model.\n",
        "\n",
        "TODO: In the cell below, register the model, create an inference config and deploy the model as a web service."
      ],
      "metadata": {}
    },
    {
      "cell_type": "code",
      "source": [
        "model_onnx = best_run.register_model(model_path='outputs/model.onnx', model_name='mdl-heart-failure-automl-onnx-1')"
      ],
      "outputs": [],
      "execution_count": 16,
      "metadata": {
        "gather": {
          "logged": 1622383420089
        },
        "jupyter": {
          "outputs_hidden": false,
          "source_hidden": false
        },
        "nteract": {
          "transient": {
            "deleting": false
          }
        }
      }
    },
    {
      "cell_type": "code",
      "source": [
        "model_pkl = best_run.register_model(model_path='outputs/model.pkl', model_name='mdl-heart-failure-automl-pkl-1')"
      ],
      "outputs": [],
      "execution_count": 17,
      "metadata": {
        "collapsed": true,
        "jupyter": {
          "source_hidden": false,
          "outputs_hidden": false
        },
        "nteract": {
          "transient": {
            "deleting": false
          }
        },
        "gather": {
          "logged": 1622383424106
        }
      }
    },
    {
      "cell_type": "code",
      "source": [
        "run_env = best_run.get_environment()\r\n",
        "print(run_env)"
      ],
      "outputs": [
        {
          "output_type": "stream",
          "name": "stdout",
          "text": [
            "Environment(Name: AutoML-AzureML-AutoML,\n",
            "Version: Autosave_2021-05-30T12:31:38Z_18564f47)\n"
          ]
        }
      ],
      "execution_count": 18,
      "metadata": {
        "collapsed": true,
        "jupyter": {
          "source_hidden": false,
          "outputs_hidden": false
        },
        "nteract": {
          "transient": {
            "deleting": false
          }
        },
        "gather": {
          "logged": 1622383428840
        }
      }
    },
    {
      "cell_type": "code",
      "source": [
        "\r\n",
        "#AzureML-Scikit-learn0.24-Cuda11-OpenMpi4.1.0-py36\r\n",
        "#myenv = Environment.get(workspace=ws, name=\"AzureML-Tutorial\")\r\n",
        "script_path = './scoring_file_v_2_0_0.py'\r\n",
        "inference_config = InferenceConfig(entry_script=script_path, \r\n",
        "environment=run_env)"
      ],
      "outputs": [],
      "execution_count": 19,
      "metadata": {
        "collapsed": true,
        "jupyter": {
          "source_hidden": false,
          "outputs_hidden": false
        },
        "nteract": {
          "transient": {
            "deleting": false
          }
        },
        "gather": {
          "logged": 1622383453254
        }
      }
    },
    {
      "cell_type": "code",
      "source": [
        "aci_config = AciWebservice.deploy_configuration(cpu_cores=1, memory_gb=1, auth_enabled=True, enable_app_insights=True)"
      ],
      "outputs": [],
      "execution_count": 20,
      "metadata": {
        "collapsed": true,
        "jupyter": {
          "source_hidden": false,
          "outputs_hidden": false
        },
        "nteract": {
          "transient": {
            "deleting": false
          }
        },
        "gather": {
          "logged": 1622383457584
        }
      }
    },
    {
      "cell_type": "code",
      "source": [
        "service = Model.deploy(\r\n",
        "    workspace=ws,\r\n",
        "    name=\"mdldply-heart-failure-pkl-aci\",\r\n",
        "    models=[model_pkl],\r\n",
        "    inference_config=inference_config,\r\n",
        "    deployment_config=aci_config,\r\n",
        "    overwrite=True\r\n",
        ")\r\n",
        "service.wait_for_deployment(show_output=True)"
      ],
      "outputs": [
        {
          "output_type": "stream",
          "name": "stdout",
          "text": [
            "Tips: You can try get_logs(): https://aka.ms/debugimage#dockerlog or local deployment: https://aka.ms/debugimage#debug-locally to debug if deployment takes longer than 10 minutes.\n",
            "Running\n",
            "2021-05-30 14:04:22+00:00 Creating Container Registry if not exists.\n",
            "2021-05-30 14:04:22+00:00 Registering the environment.\n",
            "2021-05-30 14:04:22+00:00 Use the existing image.\n",
            "2021-05-30 14:04:22+00:00 Generating deployment configuration.\n",
            "2021-05-30 14:04:23+00:00 Submitting deployment to compute.\n",
            "2021-05-30 14:04:26+00:00 Checking the status of deployment mdldply-heart-failure-pkl-aci..\n",
            "2021-05-30 14:08:50+00:00 Checking the status of inference endpoint mdldply-heart-failure-pkl-aci.\n",
            "Succeeded\n",
            "ACI service creation operation finished, operation \"Succeeded\"\n"
          ]
        }
      ],
      "execution_count": 21,
      "metadata": {
        "collapsed": true,
        "jupyter": {
          "source_hidden": false,
          "outputs_hidden": false
        },
        "nteract": {
          "transient": {
            "deleting": false
          }
        },
        "gather": {
          "logged": 1622383736290
        }
      }
    },
    {
      "cell_type": "code",
      "source": [
        "#name=\"mdldply-heart-failure-pkl-aci\"\r\n",
        "#service = Webservice(name=name, workspace=ws)\r\n",
        "#service.update(enable_app_insights=True)"
      ],
      "outputs": [],
      "execution_count": 19,
      "metadata": {
        "collapsed": true,
        "jupyter": {
          "source_hidden": false,
          "outputs_hidden": false
        },
        "nteract": {
          "transient": {
            "deleting": false
          }
        },
        "gather": {
          "logged": 1622301116542
        }
      }
    },
    {
      "cell_type": "code",
      "source": [
        "script_path_onnx = './scoring_file_v_2_0_0_onnx.py'\r\n",
        "inference_config_onnx = InferenceConfig(entry_script=script_path_onnx, \r\n",
        "environment=run_env)\r\n",
        "\r\n",
        "service_onnx = Model.deploy(\r\n",
        "    workspace=ws,\r\n",
        "    name=\"mdldply-heart-failure-onnx-aci\",\r\n",
        "    models=[model_pkl],\r\n",
        "    inference_config=inference_config,\r\n",
        "    deployment_config=aci_config,\r\n",
        "    overwrite=True\r\n",
        ")\r\n",
        "service_onnx.wait_for_deployment(show_output=True)"
      ],
      "outputs": [
        {
          "output_type": "stream",
          "name": "stdout",
          "text": [
            "Tips: You can try get_logs(): https://aka.ms/debugimage#dockerlog or local deployment: https://aka.ms/debugimage#debug-locally to debug if deployment takes longer than 10 minutes.\n",
            "Running\n",
            "2021-05-30 14:33:42+00:00 Creating Container Registry if not exists.\n",
            "2021-05-30 14:33:42+00:00 Registering the environment.\n",
            "2021-05-30 14:33:43+00:00 Use the existing image.\n",
            "2021-05-30 14:33:43+00:00 Generating deployment configuration.\n",
            "2021-05-30 14:33:44+00:00 Submitting deployment to compute.\n",
            "2021-05-30 14:33:47+00:00 Checking the status of deployment mdldply-heart-failure-onnx-aci..\n",
            "2021-05-30 14:37:53+00:00 Checking the status of inference endpoint mdldply-heart-failure-onnx-aci.\n",
            "Succeeded\n",
            "ACI service creation operation finished, operation \"Succeeded\"\n"
          ]
        }
      ],
      "execution_count": 27,
      "metadata": {
        "collapsed": true,
        "jupyter": {
          "source_hidden": false,
          "outputs_hidden": false
        },
        "nteract": {
          "transient": {
            "deleting": false
          }
        },
        "gather": {
          "logged": 1622385479559
        }
      }
    },
    {
      "cell_type": "markdown",
      "source": [
        "TODO: In the cell below, send a request to the web service you deployed to test it."
      ],
      "metadata": {
        "collapsed": true,
        "gather": {
          "logged": 1598431657736
        },
        "jupyter": {
          "outputs_hidden": false,
          "source_hidden": false
        },
        "nteract": {
          "transient": {
            "deleting": false
          }
        }
      }
    },
    {
      "cell_type": "code",
      "source": [
        "data_json = {\r\n",
        "\t\"data\":\r\n",
        "\t[\r\n",
        "\t\t{\"age\": 75, \"anaemia\":0, \"creatinine_phosphokinase\": 582, \r\n",
        "\t\t\"diabetes\": 0, \"ejection_fraction\": 20, \"high_blood_pressure\": 1, \r\n",
        "\t\t\"platelets\": 265000, \"serum_creatinine\": 1.9, \"serum_sodium\": 130, \"sex\": 1, \"smoking\": 0, \"time\":4}\r\n",
        "\t]\r\n",
        "\r\n",
        "}"
      ],
      "outputs": [],
      "execution_count": 20,
      "metadata": {
        "gather": {
          "logged": 1622301659487
        },
        "jupyter": {
          "outputs_hidden": false,
          "source_hidden": false
        },
        "nteract": {
          "transient": {
            "deleting": false
          }
        }
      }
    },
    {
      "cell_type": "code",
      "source": [
        "import urllib.request\r\n",
        "import json\r\n",
        "import os\r\n",
        "import ssl\r\n",
        "\r\n",
        "def allowSelfSignedHttps(allowed):\r\n",
        "    # bypass the server certificate verification on client side\r\n",
        "    if allowed and not os.environ.get('PYTHONHTTPSVERIFY', '') and getattr(ssl, '_create_unverified_context', None):\r\n",
        "        ssl._create_default_https_context = ssl._create_unverified_context\r\n",
        "\r\n",
        "allowSelfSignedHttps(True)\r\n",
        "\r\n",
        "data = {\r\n",
        "    \"Inputs\": {\r\n",
        "        \"data\":\r\n",
        "        [\r\n",
        "            {\r\n",
        "                'age': \"75\",\r\n",
        "                'anaemia': \"0\",\r\n",
        "                'creatinine_phosphokinase': \"0\",\r\n",
        "                'diabetes': \"582\",\r\n",
        "                'ejection_fraction': \"80\",\r\n",
        "                'high_blood_pressure': \"1\",\r\n",
        "                'platelets': \"265000\",\r\n",
        "                'serum_creatinine': \"1.9\",\r\n",
        "                'serum_sodium': \"130\",\r\n",
        "                'sex': \"0\",\r\n",
        "                'smoking': \"0\",\r\n",
        "                'time': \"265\",\r\n",
        "            },\r\n",
        "        ],\r\n",
        "    }\r\n",
        "}\r\n",
        "\r\n",
        "body = str.encode(json.dumps(data))\r\n",
        "\r\n",
        "url = 'http://d56d611c-6714-480a-a0aa-91bf6a1cb78d.southcentralus.azurecontainer.io/score'\r\n",
        "api_key = 'O7uaZBQfJw29Jgy4DEtCsWzVhArgQcwO' # Replace this with the API key for the web service\r\n",
        "headers = {'Content-Type':'application/json', 'Authorization':('Bearer '+ api_key)}\r\n",
        "\r\n",
        "req = urllib.request.Request(url, body, headers)\r\n",
        "\r\n",
        "try:\r\n",
        "    response = urllib.request.urlopen(req)\r\n",
        "\r\n",
        "    result = response.read()\r\n",
        "    print(result)\r\n",
        "except urllib.error.HTTPError as error:\r\n",
        "    print(\"The request failed with status code: \" + str(error.code))\r\n",
        "\r\n",
        "    # Print the headers - they include the requert ID and the timestamp, which are useful for debugging the failure\r\n",
        "    print(error.info())\r\n",
        "    print(json.loads(error.read().decode(\"utf8\", 'ignore')))"
      ],
      "outputs": [
        {
          "output_type": "stream",
          "name": "stdout",
          "text": [
            "b'[0]'\n"
          ]
        }
      ],
      "execution_count": 30,
      "metadata": {
        "collapsed": true,
        "jupyter": {
          "source_hidden": false,
          "outputs_hidden": false
        },
        "nteract": {
          "transient": {
            "deleting": false
          }
        },
        "gather": {
          "logged": 1622385694880
        }
      }
    },
    {
      "cell_type": "markdown",
      "source": [
        "TODO: In the cell below, print the logs of the web service and delete the service"
      ],
      "metadata": {
        "collapsed": true,
        "gather": {
          "logged": 1598432765711
        },
        "jupyter": {
          "outputs_hidden": false,
          "source_hidden": false
        },
        "nteract": {
          "transient": {
            "deleting": false
          }
        }
      }
    },
    {
      "cell_type": "code",
      "source": [
        "logs = service.get_logs()\r\n",
        "\r\n",
        "for line in logs.split('\\n'):\r\n",
        "    print(line)"
      ],
      "outputs": [
        {
          "output_type": "stream",
          "name": "stdout",
          "text": [
            "2021-05-30T14:08:37,666417400+00:00 - iot-server/run \n",
            "2021-05-30T14:08:37,676832100+00:00 - gunicorn/run \n",
            "2021-05-30T14:08:37,690341100+00:00 - rsyslog/run \n",
            "2021-05-30T14:08:37,702829700+00:00 - nginx/run \n",
            "rsyslogd: /azureml-envs/azureml_600883adcde8eb30a3a0fa1bdca2e09e/lib/libuuid.so.1: no version information available (required by rsyslogd)\n",
            "/usr/sbin/nginx: /azureml-envs/azureml_600883adcde8eb30a3a0fa1bdca2e09e/lib/libcrypto.so.1.0.0: no version information available (required by /usr/sbin/nginx)\n",
            "/usr/sbin/nginx: /azureml-envs/azureml_600883adcde8eb30a3a0fa1bdca2e09e/lib/libcrypto.so.1.0.0: no version information available (required by /usr/sbin/nginx)\n",
            "/usr/sbin/nginx: /azureml-envs/azureml_600883adcde8eb30a3a0fa1bdca2e09e/lib/libssl.so.1.0.0: no version information available (required by /usr/sbin/nginx)\n",
            "/usr/sbin/nginx: /azureml-envs/azureml_600883adcde8eb30a3a0fa1bdca2e09e/lib/libssl.so.1.0.0: no version information available (required by /usr/sbin/nginx)\n",
            "/usr/sbin/nginx: /azureml-envs/azureml_600883adcde8eb30a3a0fa1bdca2e09e/lib/libssl.so.1.0.0: no version information available (required by /usr/sbin/nginx)\n",
            "EdgeHubConnectionString and IOTEDGE_IOTHUBHOSTNAME are not set. Exiting...\n",
            "2021-05-30T14:08:37,966826800+00:00 - iot-server/finish 1 0\n",
            "2021-05-30T14:08:37,969028500+00:00 - Exit code 1 is normal. Not restarting iot-server.\n",
            "Starting gunicorn 20.1.0\n",
            "Listening at: http://127.0.0.1:31311 (68)\n",
            "Using worker: sync\n",
            "worker timeout is set to 300\n",
            "Booting worker with pid: 96\n",
            "SPARK_HOME not set. Skipping PySpark Initialization.\n",
            "Generating new fontManager, this may take some time...\n",
            "Initializing logger\n",
            "2021-05-30 14:08:40,398 | root | INFO | Starting up app insights client\n",
            "2021-05-30 14:08:40,398 | root | INFO | Starting up request id generator\n",
            "2021-05-30 14:08:40,399 | root | INFO | Starting up app insight hooks\n",
            "2021-05-30 14:08:40,399 | root | INFO | Invoking user's init function\n",
            "2021-05-30 14:08:44,556 | azureml.core | WARNING | Failure while loading azureml_run_type_providers. Failed to load entrypoint automl = azureml.train.automl.run:AutoMLRun._from_run_dto with exception cannot import name 'RunType'.\n",
            "Failure while loading azureml_run_type_providers. Failed to load entrypoint automl = azureml.train.automl.run:AutoMLRun._from_run_dto with exception cannot import name 'RunType'.\n",
            "2021-05-30 14:08:45,212 | root | INFO | Users's init has completed successfully\n",
            "2021-05-30 14:08:45,218 | root | INFO | Skipping middleware: dbg_model_info as it's not enabled.\n",
            "2021-05-30 14:08:45,219 | root | INFO | Skipping middleware: dbg_resource_usage as it's not enabled.\n",
            "2021-05-30 14:08:45,220 | root | INFO | Scoring timeout is found from os.environ: 60000 ms\n",
            "2021-05-30 14:08:50,335 | root | INFO | 200\n",
            "127.0.0.1 - - [30/May/2021:14:08:50 +0000] \"GET /swagger.json HTTP/1.0\" 200 3226 \"-\" \"Go-http-client/1.1\"\n",
            "2021-05-30 14:08:55,661 | root | INFO | 200\n",
            "127.0.0.1 - - [30/May/2021:14:08:55 +0000] \"GET /swagger.json HTTP/1.0\" 200 3226 \"-\" \"Go-http-client/1.1\"\n",
            "2021-05-30 14:11:01,474 | root | INFO | 200\n",
            "127.0.0.1 - - [30/May/2021:14:11:01 +0000] \"GET /swagger.json HTTP/1.0\" 200 3226 \"-\" \"Go-http-client/1.1\"\n",
            "2021-05-30 14:12:02,066 | root | INFO | 200\n",
            "127.0.0.1 - - [30/May/2021:14:12:02 +0000] \"GET /swagger.json HTTP/1.0\" 200 3226 \"-\" \"Go-http-client/1.1\"\n",
            "2021-05-30 14:12:58,768 | root | INFO | Validation Request Content-Type\n",
            "2021-05-30 14:12:58,774 | root | INFO | Scoring Timer is set to 60.0 seconds\n",
            "2021-05-30 14:12:59,139 | root | INFO | 200\n",
            "127.0.0.1 - - [30/May/2021:14:12:59 +0000] \"POST /score HTTP/1.0\" 200 3 \"-\" \"Python-urllib/3.6\"\n",
            "2021-05-30 14:20:43,495 | root | INFO | Validation Request Content-Type\n",
            "2021-05-30 14:20:43,499 | root | INFO | Scoring Timer is set to 60.0 seconds\n",
            "2021-05-30 14:20:43,815 | root | INFO | 200\n",
            "127.0.0.1 - - [30/May/2021:14:20:43 +0000] \"POST /score HTTP/1.0\" 200 3 \"-\" \"Python-urllib/3.6\"\n",
            "2021-05-30 14:40:42,962 | root | INFO | Validation Request Content-Type\n",
            "2021-05-30 14:40:42,970 | root | INFO | Scoring Timer is set to 60.0 seconds\n",
            "2021-05-30 14:40:43,274 | root | INFO | 200\n",
            "127.0.0.1 - - [30/May/2021:14:40:43 +0000] \"POST /score HTTP/1.0\" 200 3 \"-\" \"Python-urllib/3.6\"\n",
            "\n"
          ]
        }
      ],
      "execution_count": 29,
      "metadata": {
        "jupyter": {
          "outputs_hidden": false,
          "source_hidden": false
        },
        "nteract": {
          "transient": {
            "deleting": false
          }
        },
        "gather": {
          "logged": 1622385663550
        }
      }
    },
    {
      "cell_type": "code",
      "source": [
        "compute_target.delete()"
      ],
      "outputs": [],
      "execution_count": null,
      "metadata": {
        "collapsed": true,
        "jupyter": {
          "source_hidden": false,
          "outputs_hidden": false
        },
        "nteract": {
          "transient": {
            "deleting": false
          }
        }
      }
    }
  ],
  "metadata": {
    "kernel_info": {
      "name": "python3"
    },
    "kernelspec": {
      "name": "python3",
      "language": "python",
      "display_name": "Python 3"
    },
    "language_info": {
      "name": "python",
      "version": "3.6.9",
      "mimetype": "text/x-python",
      "codemirror_mode": {
        "name": "ipython",
        "version": 3
      },
      "pygments_lexer": "ipython3",
      "nbconvert_exporter": "python",
      "file_extension": ".py"
    },
    "nteract": {
      "version": "nteract-front-end@1.0.0"
    },
    "microsoft": {
      "host": {
        "AzureML": {
          "notebookHasBeenCompleted": true
        }
      }
    }
  },
  "nbformat": 4,
  "nbformat_minor": 2
}